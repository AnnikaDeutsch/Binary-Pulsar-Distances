{
 "cells": [
  {
   "cell_type": "code",
   "execution_count": 41,
   "metadata": {},
   "outputs": [],
   "source": [
    "from astropy.coordinates import SkyCoord\n",
    "import astropy.units as u\n",
    "import numpy as np\n",
    "import matplotlib.pyplot as plt\n",
    "import astropy.coordinates as coord\n",
    "import qtpy\n",
    "\n",
    "%matplotlib inline"
   ]
  },
  {
   "cell_type": "code",
   "execution_count": 51,
   "metadata": {},
   "outputs": [
    {
     "data": {
      "text/plain": [
       "<CartesianRepresentation (x, y, z) in kpc\n",
       "    (8.12199385, -0.00781428, -0.00622558)>"
      ]
     },
     "execution_count": 51,
     "metadata": {},
     "output_type": "execute_result"
    }
   ],
   "source": [
    "center = SkyCoord(ra= '17h45m39.60213s', dec='-29d00m22.00s', distance= 8.122*u.kpc, frame= 'icrs')\n",
    "center_gc = center.galactic\n",
    "center_gc_cart = center_gc.cartesian\n",
    "center_gc_cart"
   ]
  },
  {
   "cell_type": "code",
   "execution_count": 42,
   "metadata": {},
   "outputs": [],
   "source": [
    "f = open('temp.csv', 'r')\n",
    "first_time = True\n",
    "ras = []\n",
    "decs = []\n",
    "dists = []\n",
    "for line in f:\n",
    "    values = line.split(',')\n",
    "    if float(values[10]) < 0:\n",
    "        continue\n",
    "    else:\n",
    "        if first_time:\n",
    "            ras.insert(0,float(values[6])*u.degree)\n",
    "            decs.insert(0, float(values[8])*u.degree)\n",
    "            dists.insert(0, 1. / float(values[10])*u.kpc)\n",
    "            first_time = False\n",
    "        else: \n",
    "            ras.append(float(values[6])*u.degree)\n",
    "            decs.append(float(values[8])*u.degree)\n",
    "            dists.append(1. / float(values[10])*u.kpc)\n"
   ]
  },
  {
   "cell_type": "code",
   "execution_count": 43,
   "metadata": {},
   "outputs": [
    {
     "data": {
      "text/plain": [
       "<CartesianRepresentation (x, y, z) in kpc\n",
       "    [(-1.16169508,  0.20505364, -0.68215754),\n",
       "     (-1.43211198, -0.08349908, -1.07214641),\n",
       "     (-0.02552509, -0.08559294, -0.08031817),\n",
       "     (-0.44836304,  0.16012057,  0.5849572 ),\n",
       "     (-0.42737347, -0.85678899,  0.98397064),\n",
       "     (-0.40770009, -0.266509  ,  0.92146843),\n",
       "     ( 0.75404393, -1.36227104,  0.38232374),\n",
       "     ( 1.34356096, -1.97821123, -0.04138955),\n",
       "     ( 3.27370759, -2.85974019,  1.25827956),\n",
       "     ( 1.17759144, -0.98633458,  0.333591  ),\n",
       "     ( 8.63152982, -5.35211468,  0.85083662),\n",
       "     ( 3.7448579 , -2.34726695,  0.19133047),\n",
       "     ( 2.07162475,  0.39175444,  1.25064515),\n",
       "     ( 0.46337475,  0.13826752,  0.22482668),\n",
       "     ( 0.9252659 , -0.03851817,  0.06898213),\n",
       "     ( 1.21682485,  3.93817778,  1.89890565),\n",
       "     ( 0.6783011 ,  1.51205727,  0.01282111),\n",
       "     ( 0.24486026,  1.42111209,  0.02587354),\n",
       "     ( 1.88591982, -0.63962585, -1.50858969),\n",
       "     ( 0.09223629,  0.60623385, -1.1767705 )]>"
      ]
     },
     "execution_count": 43,
     "metadata": {},
     "output_type": "execute_result"
    }
   ],
   "source": [
    "sc = SkyCoord(ras, decs, distance= dists)\n",
    "sc\n",
    "scg = sc.galactic\n",
    "scg\n",
    "scg_cart = scg.cartesian\n",
    "# positions of the dr2 matches in cartesian coordinates, excluding those with negative parallaxes \n",
    "scg_cart"
   ]
  },
  {
   "cell_type": "code",
   "execution_count": 52,
   "metadata": {},
   "outputs": [
    {
     "data": {
      "text/plain": [
       "<matplotlib.legend.Legend at 0x7fbf81ef9600>"
      ]
     },
     "execution_count": 52,
     "metadata": {},
     "output_type": "execute_result"
    },
    {
     "data": {
      "image/png": "[encoded data removed]",
      "text/plain": [
       "<Figure size 432x288 with 1 Axes>"
      ]
     },
     "metadata": {
      "needs_background": "light"
     },
     "output_type": "display_data"
    }
   ],
   "source": [
    "fig = plt.figure()\n",
    "ax = fig.add_subplot()\n",
    "\n",
    "ax.scatter(scg_cart.x, scg_cart.y, label='Gaia Sources')\n",
    "ax.scatter(0,0, label='Solar System Barycenter') # solar system barycenter\n",
    "ax.scatter(center_gc_cart.x, center_gc_cart.y, label='Galactic Center')\n",
    "\n",
    "ax.set_title('Gaia DR2 distances')\n",
    "ax.legend()"
   ]
  },
  {
   "cell_type": "code",
   "execution_count": 44,
   "metadata": {},
   "outputs": [],
   "source": [
    "# do the same for the dr3 matches\n",
    "f = open('tempdr3.csv', 'r')\n",
    "first_time = True\n",
    "ras3 = []\n",
    "decs3 = []\n",
    "dists3 = []\n",
    "for line in f:\n",
    "    values = line.split(',')\n",
    "    if values[6] != '':\n",
    "        if float(values[6]) < 0:\n",
    "            continue\n",
    "        else:\n",
    "            if first_time:\n",
    "                ras3.insert(0,float(values[2])*u.degree)\n",
    "                decs3.insert(0, float(values[4])*u.degree)\n",
    "                dists3.insert(0, 1. / float(values[6])*u.kpc)\n",
    "                first_time = False\n",
    "            else: \n",
    "                ras3.append(float(values[2])*u.degree)\n",
    "                decs3.append(float(values[4])*u.degree)\n",
    "                dists3.append(1. / float(values[6])*u.kpc)\n"
   ]
  },
  {
   "cell_type": "code",
   "execution_count": 45,
   "metadata": {},
   "outputs": [
    {
     "data": {
      "text/plain": [
       "<CartesianRepresentation (x, y, z) in kpc\n",
       "    [(-1.57377601,  0.27779101, -0.92413508),\n",
       "     (-0.34072083,  0.12167908,  0.44452172),\n",
       "     (-0.45365661, -0.90948098,  1.04448415),\n",
       "     (-0.80332746, -0.52512623,  1.8156504 ),\n",
       "     ( 1.62385534, -3.91947704,  0.06618101),\n",
       "     ( 1.0146917 , -1.83316279,  0.51448034),\n",
       "     ( 1.26681336, -1.86521089, -0.03902527),\n",
       "     ( 3.66524557, -3.20176745,  1.40877075),\n",
       "     ( 1.42306163, -1.19193718,  0.40312837),\n",
       "     (10.70061249, -6.63508198,  1.05479254),\n",
       "     ( 1.35442703,  0.2561288 ,  0.81767111),\n",
       "     ( 0.49026013,  0.1462899 ,  0.23787132),\n",
       "     ( 0.9343858 , -0.03889789,  0.06966205),\n",
       "     ( 1.20507337,  3.90014471,  1.88056691),\n",
       "     ( 0.86188845,  1.92130695,  0.01629124),\n",
       "     ( 0.72890257,  1.2226078 , -0.11696209),\n",
       "     ( 0.42968166,  0.72070456, -0.06894708),\n",
       "     ( 0.29902498,  1.73547152,  0.03159694),\n",
       "     ( 1.54468379, -0.52389281, -1.23562735),\n",
       "     ( 0.13001113,  0.85451331, -1.65870994)]>"
      ]
     },
     "execution_count": 45,
     "metadata": {},
     "output_type": "execute_result"
    }
   ],
   "source": [
    "sc3 = SkyCoord(ras3, decs3, distance= dists3)\n",
    "sc3\n",
    "scg3 = sc3.galactic\n",
    "scg3\n",
    "scg_cart3 = scg3.cartesian\n",
    "# positions of the dr3 matches in cartesian coordinates, excluding those with negative parallaxes \n",
    "scg_cart3"
   ]
  },
  {
   "cell_type": "code",
   "execution_count": 50,
   "metadata": {},
   "outputs": [
    {
     "data": {
      "text/plain": [
       "<matplotlib.legend.Legend at 0x7fbf7eace980>"
      ]
     },
     "execution_count": 50,
     "metadata": {},
     "output_type": "execute_result"
    },
    {
     "data": {
      "image/png": "[encoded data removed]",
      "text/plain": [
       "<Figure size 432x288 with 1 Axes>"
      ]
     },
     "metadata": {
      "needs_background": "light"
     },
     "output_type": "display_data"
    }
   ],
   "source": [
    "fig = plt.figure()\n",
    "ax = fig.add_subplot()\n",
    "\n",
    "ax.scatter(scg_cart3.x, scg_cart3.y, label='Gaia Sources')\n",
    "ax.scatter(0,0, label='Solar System Barycenter') # solar system barycenter\n",
    "ax.scatter(center_gc_cart.x, center_gc_cart.y, label='Galactic Center')\n",
    "\n",
    "ax.set_title('Gaia DR3 distances')\n",
    "ax.legend()\n"
   ]
  }
 ],
 "metadata": {
  "kernelspec": {
   "display_name": "Python 3.10.4 ('codeastro')",
   "language": "python",
   "name": "python3"
  },
  "language_info": {
   "codemirror_mode": {
    "name": "ipython",
    "version": 3
   },
   "file_extension": ".py",
   "mimetype": "text/x-python",
   "name": "python",
   "nbconvert_exporter": "python",
   "pygments_lexer": "ipython3",
   "version": "3.10.4"
  },
  "orig_nbformat": 4,
  "vscode": {
   "interpreter": {
    "hash": "f6ff9a58d1da4fc1c2a573e19773b576326b71fae69bf153c6887fe609598654"
   }
  }
 },
 "nbformat": 4,
 "nbformat_minor": 2
}
