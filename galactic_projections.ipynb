{
 "cells": [
  {
   "cell_type": "markdown",
   "metadata": {},
   "source": [
    "This notebook makes galactic plane top-down projection plots of all of the position matches I get from dr2 and dr3"
   ]
  },
  {
   "cell_type": "code",
   "execution_count": 1,
   "metadata": {},
   "outputs": [],
   "source": [
    "from astropy.coordinates import SkyCoord\n",
    "import astropy.units as u\n",
    "import numpy as np\n",
    "import matplotlib.pyplot as plt\n",
    "import astropy.coordinates as coord\n",
    "import qtpy\n",
    "\n",
    "%matplotlib inline"
   ]
  },
  {
   "cell_type": "code",
   "execution_count": 2,
   "metadata": {},
   "outputs": [
    {
     "data": {
      "text/plain": [
       "<CartesianRepresentation (x, y, z) in kpc\n",
       "    (8.12199385, -0.00781428, -0.00622558)>"
      ]
     },
     "execution_count": 2,
     "metadata": {},
     "output_type": "execute_result"
    }
   ],
   "source": [
    "center = SkyCoord(ra= '17h45m39.60213s', dec='-29d00m22.00s', distance= 8.122*u.kpc, frame= 'icrs')\n",
    "center_gc = center.galactic\n",
    "center_gc_cart = center_gc.cartesian\n",
    "center_gc_cart"
   ]
  },
  {
   "cell_type": "code",
   "execution_count": 9,
   "metadata": {},
   "outputs": [],
   "source": [
    "f = open('temp.csv', 'r')\n",
    "first_time = True\n",
    "ras = []\n",
    "ra_err = []\n",
    "decs = []\n",
    "dec_err = []\n",
    "dists = []\n",
    "dist_err = []\n",
    "for line in f:\n",
    "    values = line.split(',')\n",
    "    if float(values[10]) < 0:\n",
    "        continue\n",
    "    else:\n",
    "        if first_time:\n",
    "            ras.insert(0,float(values[6])*u.degree)\n",
    "            ra_err.insert(0,float(values[7])*u.degree)\n",
    "            decs.insert(0, float(values[8])*u.degree)\n",
    "            dec_err.insert(0, float(values[9])*u.degree)\n",
    "            dists.insert(0, 1. / float(values[10])*u.kpc)\n",
    "            dist_err.insert(0, (float(values[11]) / (float(values[10])**2))*u.kpc)\n",
    "            first_time = False\n",
    "        else: \n",
    "            ras.append(float(values[6])*u.degree)\n",
    "            ra_err.append(float(values[7])*u.degree)\n",
    "            decs.append(float(values[8])*u.degree)\n",
    "            dec_err.append(float(values[9])*u.degree)\n",
    "            dists.append(1. / float(values[10])*u.kpc)\n",
    "            dist_err.append((float(values[11]) / (float(values[10])**2))*u.kpc)\n"
   ]
  },
  {
   "cell_type": "code",
   "execution_count": 10,
   "metadata": {},
   "outputs": [
    {
     "data": {
      "text/plain": [
       "<CartesianRepresentation (x, y, z) [dimensionless]\n",
       "    [(0.02736142, 0.22844402, -0.39987602),\n",
       "     (0.23913317, 1.62063879, -2.83858848),\n",
       "     (0.00068431, 0.00488097, -0.00844559),\n",
       "     (0.01439718, 0.11690308, -0.20405605),\n",
       "     (0.01539916, 0.13281172, -0.23315787),\n",
       "     (0.05957457, 0.43846034, -0.75872098),\n",
       "     (0.02493994, 0.21326685, -0.37452706),\n",
       "     (0.00976539, 0.08708952, -0.1528704 ),\n",
       "     (0.0823772 , 0.72436546, -1.2714247 ),\n",
       "     (0.02391507, 0.20493281, -0.35911717),\n",
       "     (0.28021491, 2.48495361, -4.36272483),\n",
       "     (0.43263152, 3.51817519, -6.17245643),\n",
       "     (0.20238909, 1.54029889, -2.70346168),\n",
       "     (0.02036621, 0.14236641, -0.2492055 ),\n",
       "     (0.00263291, 0.02329278, -0.0408814 ),\n",
       "     (0.18395588, 1.5670204 , -2.7439931 ),\n",
       "     (0.03104249, 0.26423725, -0.46242613),\n",
       "     (0.00389779, 0.03473138, -0.06094969),\n",
       "     (0.08541568, 0.72127108, -1.26456837),\n",
       "     (0.02732899, 0.22481372, -0.39450544)]>"
      ]
     },
     "execution_count": 10,
     "metadata": {},
     "output_type": "execute_result"
    }
   ],
   "source": [
    "sc = SkyCoord(ras, decs, distance= dists)\n",
    "scg = sc.galactic\n",
    "scg_cart = scg.cartesian / u.kpc\n",
    "# positions of the dr2 matches in cartesian coordinates, excluding those with negative parallaxes \n",
    "scg_cart\n",
    "\n",
    "sc_err = SkyCoord(ra_err, dec_err, distance= dist_err)\n",
    "scg_err = sc_err.galactic\n",
    "scg_err_cart = scg_err.cartesian / u.kpc\n",
    "# positions of the dr2 matches in cartesian coordinates, excluding those with negative parallaxes \n",
    "\n",
    "for i in range(len(scg_err_cart.x)):\n",
    "    if scg_err_cart.x[i] < 0:\n",
    "        scg_err_cart.x[i] = np.abs(scg_err_cart.x[i])\n",
    "    \n",
    "scg_err_cart"
   ]
  },
  {
   "cell_type": "code",
   "execution_count": 11,
   "metadata": {},
   "outputs": [
    {
     "data": {
      "image/png": "[encoded data removed]",
      "text/plain": [
       "<Figure size 432x288 with 1 Axes>"
      ]
     },
     "metadata": {
      "needs_background": "light"
     },
     "output_type": "display_data"
    }
   ],
   "source": [
    "fig = plt.figure()\n",
    "ax = fig.add_subplot()\n",
    "\n",
    "#ax.scatter(0,0, label='Solar System Barycenter', c= 'r', marker= '^') # solar system barycenter\n",
    "ax.errorbar(scg_cart.x, scg_cart.y, yerr= scg_err_cart.y, xerr= scg_err_cart.x, fmt= 'g.', ecolor= 'black', label='Gaia Sources')\n",
    "ax.scatter(center_gc_cart.x, center_gc_cart.y, label='Galactic Center', marker = '^')\n",
    "ax.axvline(0, color= 'r', linestyle= '--', label = 'Solar System Barycenter')\n",
    "ax.axhline(0, color= 'r', linestyle= '--')\n",
    "\n",
    "\n",
    "ax.set_title('Gaia DR2 distances')\n",
    "ax.set_xlabel('Distance from SSB along '+r'$ \\ell = 0 \\degree$' + ' (kpc)')\n",
    "ax.set_ylabel('Distance from SSB along '+r'$ \\ell = 90 \\degree$' + ' (kpc)')\n",
    "ax.legend()\n",
    "\n",
    "fig.savefig('/home/annika_deutsch/Binary-Pulsar-Distances/dr2proj.pdf')\n",
    "\n",
    "#sc_err.dec / u.deg\n",
    "#sc_err.ra / u.deg"
   ]
  },
  {
   "cell_type": "code",
   "execution_count": 12,
   "metadata": {},
   "outputs": [],
   "source": [
    "# do the same for the dr3 matches\n",
    "f = open('tempdr3.csv', 'r')\n",
    "first_time = True\n",
    "ras3 = []\n",
    "ra3_err = []\n",
    "decs3 = []\n",
    "dec3_err = []\n",
    "dists3 = []\n",
    "dist3_err = []\n",
    "for line in f:\n",
    "    values = line.split(',')\n",
    "    if values[6] != '':\n",
    "        if float(values[6]) < 0:\n",
    "            continue\n",
    "        else:\n",
    "            if first_time:\n",
    "                ras3.insert(0,float(values[2])*u.degree)\n",
    "                ra3_err.insert(0,float(values[3])*u.degree)\n",
    "                decs3.insert(0, float(values[4])*u.degree)\n",
    "                dec3_err.insert(0,float(values[5])*u.degree)\n",
    "                dists3.insert(0, 1. / float(values[6])*u.kpc)\n",
    "                dist3_err.insert(0,(float(values[7]) / (float(values[6])**2))*u.kpc)\n",
    "                first_time = False\n",
    "            else: \n",
    "                ras3.append(float(values[2])*u.degree)\n",
    "                ra3_err.append(float(values[3])*u.degree)\n",
    "                decs3.append(float(values[4])*u.degree)\n",
    "                dec3_err.append(float(values[5])*u.degree)\n",
    "                dists3.append(1. / float(values[6])*u.kpc)\n",
    "                dist3_err.append((float(values[7]) / (float(values[6])**2))*u.kpc)\n"
   ]
  },
  {
   "cell_type": "code",
   "execution_count": 13,
   "metadata": {},
   "outputs": [
    {
     "data": {
      "text/plain": [
       "<CartesianRepresentation (x, y, z) [dimensionless]\n",
       "    [(0.03866861, 0.3291106 , -0.57657496),\n",
       "     (0.00569963, 0.04726624, -0.08273297),\n",
       "     (0.00842577, 0.07408888, -0.12999599),\n",
       "     (0.1156719 , 0.9153201 , -1.59536981),\n",
       "     (0.43875061, 3.48671095, -6.0997848 ),\n",
       "     (0.03377904, 0.2935069 , -0.51527745),\n",
       "     (0.00372898, 0.03344608, -0.0587215 ),\n",
       "     (0.06742776, 0.59758088, -1.04895175),\n",
       "     (0.02598396, 0.22546164, -0.39504869),\n",
       "     (0.36469707, 3.24283273, -5.69226801),\n",
       "     (0.0468377 , 0.38455876, -0.67410266),\n",
       "     (0.01665424, 0.12185102, -0.21394673),\n",
       "     (0.00214707, 0.01907206, -0.03348419),\n",
       "     (0.11686891, 1.01221629, -1.77471104),\n",
       "     (0.04329096, 0.37218325, -0.65169029),\n",
       "     (0.06845017, 0.53129321, -0.92747241),\n",
       "     (0.06773077, 0.47877323, -0.83032254),\n",
       "     (0.00266953, 0.02390854, -0.04197193),\n",
       "     (0.0400488 , 0.34359684, -0.60266213),\n",
       "     (0.03747874, 0.31706653, -0.55573583)]>"
      ]
     },
     "execution_count": 13,
     "metadata": {},
     "output_type": "execute_result"
    }
   ],
   "source": [
    "sc3 = SkyCoord(ras3, decs3, distance= dists3)\n",
    "scg3 = sc3.galactic\n",
    "scg_cart3 = scg3.cartesian / u.kpc\n",
    "# positions of the dr3 matches in cartesian coordinates, excluding those with negative parallaxes \n",
    "scg_cart3\n",
    "\n",
    "sc3_err = SkyCoord(ra3_err, dec3_err, distance= dist3_err)\n",
    "scg3_err = sc3_err.galactic\n",
    "scg3_err_cart = scg3_err.cartesian / u.kpc\n",
    "# positions of the dr2 matches in cartesian coordinates, excluding those with negative parallaxes \n",
    "\n",
    "for i in range(len(scg3_err_cart.x)):\n",
    "    if scg3_err_cart.x[i] < 0:\n",
    "        scg3_err_cart.x[i] = np.abs(scg3_err_cart.x[i])\n",
    "    \n",
    "scg3_err_cart"
   ]
  },
  {
   "cell_type": "code",
   "execution_count": 14,
   "metadata": {},
   "outputs": [
    {
     "data": {
      "image/png": "[encoded data removed]",
      "text/plain": [
       "<Figure size 432x288 with 1 Axes>"
      ]
     },
     "metadata": {
      "needs_background": "light"
     },
     "output_type": "display_data"
    }
   ],
   "source": [
    "fig = plt.figure()\n",
    "img = plt.imread('/home/annika_deutsch/Binary-Pulsar-Distances/Binary_Pulsar_Distances/milkywayartist.jpg')\n",
    "ax = fig.add_subplot()\n",
    "\n",
    "#ax.imshow(img, extent=[-2, 11, -7, 4])\n",
    "\n",
    "ax.errorbar(scg_cart3.x, scg_cart3.y, yerr= scg3_err_cart.y, xerr= scg3_err_cart.x, fmt= 'g.', ecolor= 'black', label='Gaia Sources')\n",
    "#ax.scatter(0,0, label='Solar System Barycenter') # solar system barycenter\n",
    "ax.scatter(center_gc_cart.x, center_gc_cart.y, label='Galactic Center')\n",
    "ax.axvline(0, color= 'r', linestyle= '--', label = 'Solar System Barycenter')\n",
    "ax.axhline(0, color= 'r', linestyle= '--')\n",
    "\n",
    "\n",
    "ax.set_title('Gaia DR3 distances')\n",
    "ax.set_xlabel('Distance from SSB along '+r'$ \\ell = 0 \\degree$' + ' (kpc)')\n",
    "ax.set_ylabel('Distance from SSB along '+r'$ \\ell = 90 \\degree$' + ' (kpc)')\n",
    "ax.legend()\n",
    "\n",
    "fig.savefig('/home/annika_deutsch/Binary-Pulsar-Distances/dr3proj.pdf')\n"
   ]
  }
 ],
 "metadata": {
  "kernelspec": {
   "display_name": "Python 3.10.4 ('codeastro')",
   "language": "python",
   "name": "python3"
  },
  "language_info": {
   "codemirror_mode": {
    "name": "ipython",
    "version": 3
   },
   "file_extension": ".py",
   "mimetype": "text/x-python",
   "name": "python",
   "nbconvert_exporter": "python",
   "pygments_lexer": "ipython3",
   "version": "3.10.4 (main, Mar 31 2022, 08:41:55) [GCC 7.5.0]"
  },
  "orig_nbformat": 4,
  "vscode": {
   "interpreter": {
    "hash": "f6ff9a58d1da4fc1c2a573e19773b576326b71fae69bf153c6887fe609598654"
   }
  }
 },
 "nbformat": 4,
 "nbformat_minor": 2
}
