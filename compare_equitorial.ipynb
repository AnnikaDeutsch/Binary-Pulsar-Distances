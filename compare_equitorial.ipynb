{
 "cells": [
  {
   "cell_type": "code",
   "execution_count": 86,
   "metadata": {},
   "outputs": [
    {
     "data": {
      "text/plain": [
       "<astropy.visualization.units.quantity_support.<locals>.MplQuantityConverter at 0x7f9d4e873610>"
      ]
     },
     "execution_count": 86,
     "metadata": {},
     "output_type": "execute_result"
    }
   ],
   "source": [
    "import numpy as np\n",
    "import mpl_toolkits.axisartist.angle_helper as angle_helper\n",
    "import matplotlib.cm as cmap\n",
    "from matplotlib.projections import PolarAxes\n",
    "from matplotlib.transforms import Affine2D\n",
    "\n",
    "from mpl_toolkits.axisartist import SubplotHost\n",
    "\n",
    "from mpl_toolkits.axisartist import GridHelperCurveLinear\n",
    "\n",
    "import astropy.units as u\n",
    "\n",
    "from astropy.coordinates import Angle\n",
    "\n",
    "from astropy.visualization import quantity_support\n",
    "quantity_support()"
   ]
  },
  {
   "cell_type": "code",
   "execution_count": 95,
   "metadata": {},
   "outputs": [],
   "source": [
    "def get_ra_matches_deg(matchfile, psr, plot=False):\n",
    "    \"\"\"\n",
    "    \n",
    "    \"\"\"\n",
    "\n",
    "    f = open(matchfile, 'r')\n",
    "    ras = []\n",
    "\n",
    "    if plot:\n",
    "        for line in f:\n",
    "            values = line.split(',')\n",
    "            if values[0] == psr:\n",
    "                ras.append(float(values[7]))\n",
    "\n",
    "        return ras\n",
    "    else:\n",
    "        for line in f:\n",
    "            values = line.split(',')\n",
    "            if values[0] == psr:\n",
    "                ras.append(Angle(float(values[7]), u.deg))\n",
    "\n",
    "        return ras  \n",
    "\n",
    "def get_ra_matches_hms(matchfile, psr, plot=False): \n",
    "    f = open(matchfile, 'r')\n",
    "    ras = []\n",
    "\n",
    "    if plot:\n",
    "        for line in f:\n",
    "            values = line.split(',')\n",
    "            if values[0] == psr:\n",
    "                ras.append(Angle(float(values[7]), u.deg).hour)\n",
    "\n",
    "        return np.array(ras)\n",
    "    else:\n",
    "        for line in f:\n",
    "            values = line.split(',')\n",
    "            if values[0] == psr:\n",
    "                ras.append(Angle(float(values[7]), u.deg).hour)\n",
    "\n",
    "        return np.array(ras)"
   ]
  },
  {
   "cell_type": "code",
   "execution_count": 96,
   "metadata": {},
   "outputs": [],
   "source": [
    "def get_dec_matches_deg(matchfile, psr, plot=False):\n",
    "    \"\"\"\n",
    "    \n",
    "    \"\"\"\n",
    "\n",
    "    f = open(matchfile, 'r')\n",
    "    decs = []\n",
    "\n",
    "    if plot:\n",
    "        for line in f:\n",
    "            values = line.split(',')\n",
    "            if values[0] == psr:\n",
    "                decs.append(float(values[9]))\n",
    "\n",
    "        return decs\n",
    "    else:\n",
    "        for line in f:\n",
    "            values = line.split(',')\n",
    "            if values[0] == psr:\n",
    "                decs.append(Angle(float(values[9]), u.deg))\n",
    "\n",
    "        return decs\n",
    "\n",
    "def get_dec_matches_dms(matchfile, psr, plot=False):\n",
    "    f = open(matchfile, 'r')\n",
    "    decs = []\n",
    "\n",
    "    if plot:\n",
    "        for line in f:\n",
    "            values = line.split(',')\n",
    "            if values[0] == psr:\n",
    "                decs.append(Angle(float(values[9]), u.deg).dms)\n",
    "\n",
    "        return np.array(decs)\n",
    "    else:\n",
    "        for line in f:\n",
    "            values = line.split(',')\n",
    "            if values[0] == psr:\n",
    "                decs.append(Angle(float(values[9]), u.deg).dms)\n",
    "\n",
    "        return np.array(decs)"
   ]
  },
  {
   "cell_type": "code",
   "execution_count": 97,
   "metadata": {},
   "outputs": [],
   "source": [
    "def curvelinear_test2(fig):\n",
    "    \"\"\" \n",
    "    \n",
    "    \"\"\"\n",
    "\n",
    "    global ax1\n",
    "\n",
    "    tr = Affine2D().scale(np.pi/180., 1.) + PolarAxes.PolarTransform()\n",
    "\n",
    "    extreme_finder = angle_helper.ExtremeFinderCycle(10, 60, \n",
    "                                                    lon_cycle= 360,\n",
    "                                                    lat_cycle= None,\n",
    "                                                    lon_minmax= None,\n",
    "                                                    lat_minmax= (0, np.inf),\n",
    "                                                    )\n",
    "    \n",
    "    grid_locator1 = angle_helper.LocatorHMS(12)\n",
    "    tick_formatter1 = angle_helper.FormatterHMS()\n",
    "\n",
    "    grid_locator2 = angle_helper.LocatorDMS(6)\n",
    "    tick_formatter2 = angle_helper.FormatterDMS()\n",
    "\n",
    "    grid_helper = GridHelperCurveLinear(tr,\n",
    "                                        extreme_finder= extreme_finder,\n",
    "                                        grid_locator1= grid_locator1,\n",
    "                                        tick_formatter1= tick_formatter1,\n",
    "                                        grid_locator2= grid_locator2,\n",
    "                                        tick_formatter2= tick_formatter2)\n",
    "\n",
    "    ax1 = SubplotHost(fig, 1, 1, 1, grid_helper= grid_helper)\n",
    "\n",
    "    ax1.axis['right'].major_ticklabels.set_visible(True)\n",
    "    ax1.axis['top'].major_ticklabels.set_visible(True)\n",
    "    ax1.axis['bottom'].major_ticklabels.set_visible(True)\n",
    "\n",
    "    ax1.axis['right'].get_helper().nth_coord_ticks=0\n",
    "    ax1.axis['bottom'].get_helper().nth_coord_ticks=0\n",
    "\n",
    "    fig.add_subplot(ax1)\n",
    "\n",
    "    grid_helper = ax1.get_grid_helper()\n",
    "\n",
    "    ax1.set_aspect(1.)\n",
    "    ax1.set_xlim(-1,1)\n",
    "    ax1.set_ylim(-1,1)\n",
    "\n",
    "    ax1.set_xlabel('Right Ascension')\n",
    "    ax1.set_ylabel('90$^\\circ$ + Declination')\n",
    "    ax1.grid(True)\n",
    "\n",
    "    return tr"
   ]
  },
  {
   "cell_type": "code",
   "execution_count": 99,
   "metadata": {},
   "outputs": [
    {
     "name": "stdout",
     "output_type": "stream",
     "text": [
      "[-72.09167476728746, -72.08171972473119, -72.07764141634007, -72.07003903935032, -72.07340208751677, -72.07216941089214, -72.07263431521403, -72.07075448522743, -72.10725906992899, -72.09664277932549, -72.10769460382745, -72.0564483462791, -72.07944258923942, -72.11182259914695, -72.06197618327748, -72.11047841190468, -72.07800004600128, -72.09570363379507, -72.11180749751179, -72.08250486670634, -72.07836405648389, -72.049868411724, -72.04913981834214, -72.11073425346018, -72.06915262287029, -72.05588021897746, -72.04438856958603, -72.10961714394942, -72.05138098337217, -72.10684041068664, -72.07234611442232, -72.12385278396755, -72.05969217197506, -72.0910060112024, -72.11629606401097, -72.06487931593117, -72.0404424527666, -72.12675571547975, -72.12675077693675, -72.12700938922823, -72.11544496952048, -72.12122234900585, -72.03802729639193, -72.12942088420202, -72.10698212423628, -72.03753707366903, -72.05313481013438, -72.12822580878294, -72.04334734841356, -72.12984575821388]\n",
      "[0.02724163 0.02362169 0.03001504 0.02446921 0.02985757 0.02386037\n",
      " 0.03010333 0.02296218 0.02728353 0.02193907 0.02410984 0.02602901\n",
      " 0.03272153 0.02674694 0.03068269 0.02458794 0.0333988  0.02040523\n",
      " 0.03061204 0.01943368 0.03404479 0.02841859 0.02990794 0.02104675\n",
      " 0.01905101 0.02090445 0.02573854 0.03330757 0.03177257 0.01976206\n",
      " 0.01826699 0.02863476 0.0195679  0.0357163  0.03274988 0.01838289\n",
      " 0.02712769 0.02490555 0.02899791 0.02468092 0.01975408 0.03234699\n",
      " 0.02730577 0.02780658 0.03545132 0.027833   0.01899708 0.02314233\n",
      " 0.03229838 0.02397283]\n"
     ]
    },
    {
     "data": {
      "text/plain": [
       "<function matplotlib.pyplot.show(close=None, block=None)>"
      ]
     },
     "execution_count": 99,
     "metadata": {},
     "output_type": "execute_result"
    },
    {
     "data": {
      "image/png": "[encoded data removed]",
      "text/plain": [
       "<Figure size 360x360 with 2 Axes>"
      ]
     },
     "metadata": {
      "needs_background": "light"
     },
     "output_type": "display_data"
    }
   ],
   "source": [
    "import matplotlib.pyplot as plt\n",
    "\n",
    "fig = plt.figure(1,figsize= (5,5))\n",
    "fig.clf()\n",
    "\n",
    "tr = curvelinear_test2(fig) # tr\n",
    "\n",
    "# this is the point at which I need to access the actual data. I am realizing that there is a standard way I go about\n",
    "# this for each function and so I may as well write them into functions themselves \n",
    "\n",
    "decs = get_dec_matches_deg('testing_output.csv', 'J0024-7204Z', plot=True)\n",
    "ras = get_ra_matches_hms('testing_output.csv', 'J0024-7204Z', plot=True)\n",
    "\n",
    "print(decs)\n",
    "print(ras)\n",
    "\n",
    "# out_test = tr.transform(zip(ras, decs))\n",
    "both = np.vstack((decs, ras))*u.deg\n",
    "out_test = tr.transform(both)\n",
    "\n",
    "cm = plt.cm.get_cmap('RdYlBu_r')\n",
    "z = np.random.random((len(decs), 1))\n",
    "\n",
    "with quantity_support():\n",
    "    SC = ax1.scatter(out_test[:,0],\n",
    "        out_test[:,1],\n",
    "        c = z,\n",
    "        cmap = cm,\n",
    "        zorder = 9)\n",
    "\n",
    "cbar = plt.colorbar(SC, shrink = 1., pad=0.05)\n",
    "cbar.ax.tick_params(labelsize=8)\n",
    "cbar.set_label('colorbar', fontsize=8)\n",
    "\n",
    "plt.show"
   ]
  },
  {
   "cell_type": "code",
   "execution_count": null,
   "metadata": {},
   "outputs": [],
   "source": []
  }
 ],
 "metadata": {
  "kernelspec": {
   "display_name": "Python 3.10.4 ('codeastro')",
   "language": "python",
   "name": "python3"
  },
  "language_info": {
   "codemirror_mode": {
    "name": "ipython",
    "version": 3
   },
   "file_extension": ".py",
   "mimetype": "text/x-python",
   "name": "python",
   "nbconvert_exporter": "python",
   "pygments_lexer": "ipython3",
   "version": "3.10.4"
  },
  "orig_nbformat": 4,
  "vscode": {
   "interpreter": {
    "hash": "f6ff9a58d1da4fc1c2a573e19773b576326b71fae69bf153c6887fe609598654"
   }
  }
 },
 "nbformat": 4,
 "nbformat_minor": 2
}
