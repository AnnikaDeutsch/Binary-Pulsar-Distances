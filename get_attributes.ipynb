{
 "cells": [
  {
   "cell_type": "code",
   "execution_count": 6,
   "metadata": {},
   "outputs": [],
   "source": [
    "import numpy as np\n",
    "import astropy.units as u"
   ]
  },
  {
   "cell_type": "code",
   "execution_count": 10,
   "metadata": {},
   "outputs": [],
   "source": [
    "def get_ra_matches_deg(matchfile, psr):\n",
    "    \"\"\"\n",
    "    \n",
    "    \"\"\"\n",
    "\n",
    "    f = open(matchfile, 'r')\n",
    "    ras = []\n",
    "\n",
    "    for line in f:\n",
    "        values = line.split(',')\n",
    "        if values[0] == psr:\n",
    "            ras.append(values[7])\n",
    "\n",
    "    return np.array(ras)        "
   ]
  },
  {
   "cell_type": "code",
   "execution_count": 9,
   "metadata": {},
   "outputs": [],
   "source": [
    "def get_dec_matches_deg(matchfile, psr):\n",
    "    \"\"\"\n",
    "    \n",
    "    \"\"\"\n",
    "\n",
    "    f = open(matchfile, 'r')\n",
    "    decs = []\n",
    "\n",
    "    for line in f:\n",
    "        values = line.split(',')\n",
    "        if values[0] == psr:\n",
    "            decs.append(values[9])\n",
    "\n",
    "    return np.array(decs)"
   ]
  },
  {
   "cell_type": "code",
   "execution_count": 11,
   "metadata": {},
   "outputs": [],
   "source": [
    "def get_ra_matches_hms(matchfile, psr): \n",
    "    f = open(matchfile, 'r')\n",
    "    ras = []\n",
    "\n",
    "    for line in f:\n",
    "        values = line.split(',')\n",
    "        if values[0] == psr:\n",
    "            ras.append(values[7].to(u.hms))\n",
    "\n",
    "    return np.array(ras)"
   ]
  },
  {
   "cell_type": "code",
   "execution_count": 12,
   "metadata": {},
   "outputs": [],
   "source": [
    "def get_dec_matches_dms(matchfile, psr):\n",
    "    f = open(matchfile, 'r')\n",
    "    decs = []\n",
    "\n",
    "    for line in f:\n",
    "        values = line.split(',')\n",
    "        if values[0] == psr:\n",
    "            decs.append(values[9].to(u.dms))\n",
    "\n",
    "    return np.array(decs)"
   ]
  }
 ],
 "metadata": {
  "kernelspec": {
   "display_name": "Python 3.10.4 ('codeastro')",
   "language": "python",
   "name": "python3"
  },
  "language_info": {
   "codemirror_mode": {
    "name": "ipython",
    "version": 3
   },
   "file_extension": ".py",
   "mimetype": "text/x-python",
   "name": "python",
   "nbconvert_exporter": "python",
   "pygments_lexer": "ipython3",
   "version": "3.10.4"
  },
  "orig_nbformat": 4,
  "vscode": {
   "interpreter": {
    "hash": "f6ff9a58d1da4fc1c2a573e19773b576326b71fae69bf153c6887fe609598654"
   }
  }
 },
 "nbformat": 4,
 "nbformat_minor": 2
}
