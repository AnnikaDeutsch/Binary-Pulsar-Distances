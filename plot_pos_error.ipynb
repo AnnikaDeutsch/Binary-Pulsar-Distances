{
 "cells": [
  {
   "cell_type": "code",
   "execution_count": 69,
   "metadata": {},
   "outputs": [
    {
     "data": {
      "image/png": "[encoded data removed]",
      "text/plain": [
       "<Figure size 720x720 with 1 Axes>"
      ]
     },
     "metadata": {
      "needs_background": "light"
     },
     "output_type": "display_data"
    },
    {
     "name": "stdout",
     "output_type": "stream",
     "text": [
      "1.44604e+06mas\n"
     ]
    }
   ],
   "source": [
    "# write a script to plot the position of a pulsar with error bars at the pulsar epoch, \n",
    "# and then the spread of positions it could be at when propagated up to the gaia epoch due to error bars\n",
    "\n",
    "# input variables: text file of matches output from get_matches, text file of input with pulsar \n",
    "# of interest (can be from get_matches), name of pulsar of interest  \n",
    "\n",
    "# have to convert to mas \n",
    "\n",
    "import matplotlib.pyplot as plt\n",
    "import numpy as np\n",
    "from astropy.time import Time \n",
    "import astropy\n",
    "import astropy.units as u\n",
    "from astropy.coordinates import Angle\n",
    "from astropy.visualization import quantity_support\n",
    "\n",
    "# def plot_propogated_error():\n",
    "\n",
    "# instantiate all the variables from the input \n",
    "ra = '00:24:06.041'\n",
    "dec = '-72:05:01.480'\n",
    "ra_err = (.002*u.deg).to(u.mas) # must be floats\n",
    "dec_err = (.006*u.deg).to(u.mas) # must be floats\n",
    "pmra = '4'\n",
    "pmdec = '1'\n",
    "pmra_err = 2.0 * u.mas/u.yr\n",
    "pmdec_err = 2.0 * u.mas/u.yr\n",
    "posepoch = 51600\n",
    "\n",
    "p_epoch = Time(posepoch, format='mjd').jyear\n",
    "gaia_epoch = 2015.5 * u.yr\n",
    "time = gaia_epoch - p_epoch.tolist() * u.yr\n",
    "\n",
    "# convert ra and dec to an angle that will know to behave as a float in degrees\n",
    "ra_ang = Angle(ra, u.deg).to(u.mas)\n",
    "dec_ang = Angle(dec, u.deg).to(u.mas)\n",
    "\n",
    "# convert pmra and pmdec from mas/yr to deg/yr\n",
    "pmra_deg = (float(pmra) * u.mas) / u.yr\n",
    "pmdec_deg = (float(pmdec) * u.mas) / u.yr\n",
    "\n",
    "# print(ra_ang.unit)\n",
    "# print(ra_err.unit)\n",
    "# print(pmra_deg.unit)\n",
    "# print(pmra_err.unit)\n",
    "# print(dec_ang.unit)\n",
    "# print(pmdec_deg.unit)\n",
    "\n",
    "fig, ax = plt.subplots(figsize=(10,10))\n",
    "\n",
    "bound1 = (ra_ang + ra_err) + ((pmra_deg + pmra_err)*time)\n",
    "bound2 = (dec_ang + dec_err) + ((pmdec_deg + pmdec_err)*time)\n",
    "\n",
    "bound3 = (ra_ang - ra_err) + ((pmra_deg - pmra_err)*time)\n",
    "bound4 = (dec_ang - dec_err) + ((pmdec_deg - pmdec_err)*time)\n",
    "\n",
    "\n",
    "bounds = [bound1, bound3, bound2, bound4]\n",
    "\n",
    "largest_err = 0\n",
    "for bound in bounds:\n",
    "    if bound > largest_err:\n",
    "        largest_err = bound \n",
    "\n",
    "\n",
    "new_ra = ra_ang + (pmra_deg*time)\n",
    "new_dec = dec_ang + (pmdec_deg*time)\n",
    "\n",
    "x = [ra_ang, (pmra_deg*u.yr)+ra_ang]*u.mas\n",
    "y = [dec_ang, (pmdec_deg*u.yr)+dec_ang]*u.mas\n",
    "x_err = [ra_err, pmra_err*u.yr]*u.mas\n",
    "y_err = [dec_err, pmdec_err*u.yr]*u.mas\n",
    "\n",
    "x_oth = [bound1, bound3]*u.deg\n",
    "y_oth = [bound2, bound4]*u.deg\n",
    "\n",
    "xpos = [ra_ang, new_ra]*u.mas\n",
    "ypos = [dec_ang, new_dec]*u.mas\n",
    "\n",
    "region = plt.Circle((new_ra, new_dec), largest_err-new_ra, color='g', alpha=0.2)\n",
    "\n",
    "with quantity_support():\n",
    "    ax.set_aspect(1)\n",
    "    ax.errorbar(x, y, y_err, x_err) \n",
    "    ax.plot(x_oth, y_oth, 'go')  \n",
    "    ax.plot(xpos, ypos)\n",
    "    ax.add_patch(region)\n",
    "    plt.xlabel('Right Ascension')\n",
    "    plt.ylabel('Declination')\n",
    "    # plt.xlim([ra_ang,largest_err])\n",
    "    # plt.ylim([dec_ang,largest_err])\n",
    "    plt.show()\n",
    "\n",
    "print((pmra_deg*u.yr)+ra_ang)\n",
    "\n",
    "#shit, we have to convert everything to mas..... aaaaaaaa\n"
   ]
  },
  {
   "cell_type": "code",
   "execution_count": null,
   "metadata": {},
   "outputs": [],
   "source": []
  }
 ],
 "metadata": {
  "kernelspec": {
   "display_name": "Python 3.10.4 ('codeastro')",
   "language": "python",
   "name": "python3"
  },
  "language_info": {
   "codemirror_mode": {
    "name": "ipython",
    "version": 3
   },
   "file_extension": ".py",
   "mimetype": "text/x-python",
   "name": "python",
   "nbconvert_exporter": "python",
   "pygments_lexer": "ipython3",
   "version": "3.10.4"
  },
  "orig_nbformat": 4,
  "vscode": {
   "interpreter": {
    "hash": "f6ff9a58d1da4fc1c2a573e19773b576326b71fae69bf153c6887fe609598654"
   }
  }
 },
 "nbformat": 4,
 "nbformat_minor": 2
}
