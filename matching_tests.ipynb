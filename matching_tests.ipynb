{
 "cells": [
  {
   "cell_type": "code",
   "execution_count": 15,
   "metadata": {},
   "outputs": [],
   "source": [
    "import astropy\n",
    "import astropy.units as u\n",
    "import astroquery\n",
    "from astroquery.gaia import Gaia\n",
    "from astropy.coordinates import SkyCoord\n",
    "from astropy.coordinates import Angle\n",
    "import numpy as np\n",
    "import matplotlib.pyplot as plt\n",
    "from astropy.visualization import quantity_support\n",
    "from astropy.time import Time \n",
    "import os\n",
    "from astropy.io.votable import parse_single_table"
   ]
  },
  {
   "cell_type": "code",
   "execution_count": 34,
   "metadata": {},
   "outputs": [],
   "source": [
    "# inputs: ra, dec, height_of_rectangle, width_of_rectangle, radius_of_circle\n",
    "def psr_to_gaia(jname, raj, decj,  pmra, pmdec, posepoch, height, width):\n",
    "    \"\"\"Search Gaia for Possible Companion to Pulsar\n",
    "\n",
    "    Given input parameters read in from a text file following the guidelines of ATNF parameters, \n",
    "    queries Gaia DR2 to find matches based on RA and Dec for each object from the text file\n",
    "\n",
    "    Args:\n",
    "        jname (str): Name of the pulsar being checked for matches \n",
    "        raj (str): Right ascension of the pulsar in hh:mm:ss.ss format -- is this actually what it is?\n",
    "        decj (str): Declination of the pulsar in degrees:mm:ss.ss format -- is this actually what it is?\n",
    "        pmra (): Proper motion in ra of the pulsar in -- format\n",
    "        pmdec (): proper motion in dec of the pulsar in -- format\n",
    "        height (str): Height of Gaia search in mas \n",
    "        width (str): Width of Gaia search in mas \n",
    "    \n",
    "    Returns:\n",
    "        Table: results of the Gaia query in an astropy Table  \n",
    "    \"\"\"\n",
    "\n",
    "    #Import things\n",
    "\n",
    "    # Given an item (via specifying ra/dec range or optionally inputing a pulsar name) from ATNF catalouge, \n",
    "    # find nearby Gaia objects\n",
    "    from astropy.time import Time \n",
    "    p_ra = raj\n",
    "    p_dec = decj\n",
    "    p_pmra = pmra\n",
    "    p_pmdec = pmdec\n",
    "    p_epoch = Time(posepoch, format='mjd').jyear\n",
    "\n",
    "    # convert ra and dec to angle objects that will know to behave as floats \n",
    "    p_ra_ang = Angle(p_ra, u.degree) # this is a potential error -- this takes the input as degrees, when\n",
    "    # we should instatntiate the Quantity as what it is from atnf and convert to degrees if that is how \n",
    "    # we want them to be represented\n",
    "    p_dec_ang = Angle(p_dec, u.degree) # yes, these are looking more and more suspicious to me\n",
    "\n",
    "    # convert pmra and pmdec from mas/yr to deg/yr\n",
    "    p_pmra_deg = (float(p_pmra) * u.mas).to(u.deg) / u.yr\n",
    "    p_pmdec_deg = (float(p_pmdec) * u.mas).to(u.deg) / u.yr\n",
    "\n",
    "    print(p_pmdec_deg)\n",
    "    print(p_pmdec_deg.unit())\n",
    "\n",
    "    # update location of pulsar based on difference from gaia epoch and pmra/pmdec\n",
    "    gaia_epoch = 2015.5 * u.yr\n",
    "    year_diff = gaia_epoch - p_epoch.tolist() * u.yr\n",
    "\n",
    "    # get the new ra and dec for the pulsar by updating to gaia epoch \n",
    "    p_new_ra = p_ra_ang + (p_pmra_deg * year_diff)\n",
    "    p_new_dec = p_dec_ang + (p_pmdec_deg * year_diff)\n",
    "\n",
    "    # ra_ext_pos = raj + rajerr + (pmra + pmraerr)*year_diff\n",
    "    # ra_ext_neg = raj - rajerr + (pmra - pmraerr)*year_diff\n",
    "\n",
    "    # dec_ext_pos = decj + decjerr + (pmdec + pmdecerr)*year_diff\n",
    "    # dec_ext_neg = decj - decjerr + (pmdec - pmdecerr)*year_diff\n",
    "\n",
    "\n",
    "    # Query Gaia within the range of the given pulsar \n",
    "    coord=SkyCoord(ra=p_new_ra, dec=p_new_dec, unit=(u.degree, u.degree), frame='icrs')\n",
    "    width_gaia = u.Quantity(width, u.arcmin)\n",
    "    height_gaia = u.Quantity(height, u.arcmin)\n",
    "    results = Gaia.query_object_async(coordinate=coord, width=width_gaia, height=height_gaia)\n",
    "    \n",
    "    if len(results) == 0:\n",
    "        return results\n",
    "    else:\n",
    "        results.add_column(jname, name='Companion Pulsar', index=0)\n",
    "        return results"
   ]
  },
  {
   "cell_type": "code",
   "execution_count": 6,
   "metadata": {},
   "outputs": [],
   "source": [
    "def get_matches(input_file, output_file, height=1., width=1.):\n",
    "    \"\"\"Give Gaia matches to Pulsars \n",
    "\n",
    "    Takes as input a text file (.csv file) with index number, name, ra, dec, proper\n",
    "    motion ra, proper motion dec and posepoch and produces all of the gaia matches\n",
    "    of ra and dec to within a certain range.\n",
    "\n",
    "    Args: \n",
    "        input_file (str): Name of the text file (csv) containing each pulsar with the parameters 'index', 'name', \n",
    "            'ra', 'dec', 'pmra', 'pmdec', 'posepoch' row by row for each object.\n",
    "        output_file (str): Name of the text file which the pulsar-gaia matches will be output to.\n",
    "        height (:obj:'float', optional): Height of the rectangle Gaia will query in.\n",
    "        width (:obj:'float', optional): Width of the rectangle Gaia will query in.\n",
    "\n",
    "\n",
    "    \"\"\"\n",
    "    from astropy.table import Table, vstack\n",
    "\n",
    "    f = open(input_file, \"r\")\n",
    "    results = Table()\n",
    "    first_time = True\n",
    "\n",
    "    counter = 0\n",
    "\n",
    "    # Loop through file of ATNF data and combine tables of Gaia matches into one supertable\n",
    "    for line in f:\n",
    "      # Loop 20 times\n",
    "      counter += 1\n",
    "      if (counter == 20):\n",
    "        break\n",
    "\n",
    "      # Parse input\n",
    "      values = line.split(';')\n",
    "\n",
    "      # Add result to supertable\n",
    "      search_result = psr_to_gaia(values[1],values[2],values[3],values[4],values[5],values[6], height, width)\n",
    "      if (len(search_result) == 0):\n",
    "        continue\n",
    "      if first_time:\n",
    "        results = search_result\n",
    "        first_time = False\n",
    "      else:  \n",
    "        results = vstack([results, search_result])\n",
    "\n",
    "    results.write(output_file, format='csv', overwrite=True)"
   ]
  },
  {
   "cell_type": "markdown",
   "metadata": {},
   "source": [
    "Below is a number of unit tests on psr_to_gaia(), testing edge cases, cases that should throw an error, and \n",
    "that cases with already known outcomes return the correct values"
   ]
  },
  {
   "cell_type": "code",
   "execution_count": 14,
   "metadata": {},
   "outputs": [
    {
     "name": "stdout",
     "output_type": "stream",
     "text": [
      "INFO: Query finished. [astroquery.utils.tap.core]\n"
     ]
    }
   ],
   "source": [
    "def test_returns_empty_table_when_range_is_zero():\n",
    "    \"\"\"psr_to_gaia() returns empty table when height and width equal zero\n",
    "\n",
    "    Tests that, when given an otherwise valid dataset, if height and width are zero, an empty astropy Table\n",
    "    is returned.\n",
    "    \"\"\"\n",
    "\n",
    "    jname = 'J1012+5307'\n",
    "    raj = '10:12:33.4'\n",
    "    decj = '+53:07:02.2'\n",
    "    pmra = '9.240'\n",
    "    pmdec = '1.770'\n",
    "    posepoch = '56000.00'\n",
    "    height = 0.\n",
    "    width = 0.\n",
    "\n",
    "    check = psr_to_gaia(jname, raj, decj, pmra, pmdec, posepoch, height, width)\n",
    "    assert len(check) == 0"
   ]
  },
  {
   "cell_type": "code",
   "execution_count": 35,
   "metadata": {},
   "outputs": [
    {
     "name": "stdout",
     "output_type": "stream",
     "text": [
      "-9.972222222222224e-07 deg / yr\n"
     ]
    },
    {
     "ename": "TypeError",
     "evalue": "'CompositeUnit' object is not callable",
     "output_type": "error",
     "traceback": [
      "\u001b[0;31m---------------------------------------------------------------------------\u001b[0m",
      "\u001b[0;31mTypeError\u001b[0m                                 Traceback (most recent call last)",
      "\u001b[1;32m/home/annika_deutsch/Binary-Pulsar-Distances/matching_tests.ipynb Cell 6'\u001b[0m in \u001b[0;36m<cell line: 21>\u001b[0;34m()\u001b[0m\n\u001b[1;32m     <a href='vscode-notebook-cell://wsl%2Bubuntu/home/annika_deutsch/Binary-Pulsar-Distances/matching_tests.ipynb#ch0000006vscode-remote?line=17'>18</a>\u001b[0m     check\u001b[39m.\u001b[39minfo()\n\u001b[1;32m     <a href='vscode-notebook-cell://wsl%2Bubuntu/home/annika_deutsch/Binary-Pulsar-Distances/matching_tests.ipynb#ch0000006vscode-remote?line=18'>19</a>\u001b[0m     \u001b[39m# assert check == astropy_table\u001b[39;00m\n\u001b[0;32m---> <a href='vscode-notebook-cell://wsl%2Bubuntu/home/annika_deutsch/Binary-Pulsar-Distances/matching_tests.ipynb#ch0000006vscode-remote?line=20'>21</a>\u001b[0m test_minus_sign_in_decj_and_pm_strings()\n",
      "\u001b[1;32m/home/annika_deutsch/Binary-Pulsar-Distances/matching_tests.ipynb Cell 6'\u001b[0m in \u001b[0;36mtest_minus_sign_in_decj_and_pm_strings\u001b[0;34m()\u001b[0m\n\u001b[1;32m     <a href='vscode-notebook-cell://wsl%2Bubuntu/home/annika_deutsch/Binary-Pulsar-Distances/matching_tests.ipynb#ch0000006vscode-remote?line=12'>13</a>\u001b[0m height \u001b[39m=\u001b[39m \u001b[39m1.\u001b[39m\n\u001b[1;32m     <a href='vscode-notebook-cell://wsl%2Bubuntu/home/annika_deutsch/Binary-Pulsar-Distances/matching_tests.ipynb#ch0000006vscode-remote?line=13'>14</a>\u001b[0m width \u001b[39m=\u001b[39m \u001b[39m1.\u001b[39m\n\u001b[0;32m---> <a href='vscode-notebook-cell://wsl%2Bubuntu/home/annika_deutsch/Binary-Pulsar-Distances/matching_tests.ipynb#ch0000006vscode-remote?line=15'>16</a>\u001b[0m check \u001b[39m=\u001b[39m psr_to_gaia(jname, raj, decj, pmra, pmdec, posepoch, height, width)\n\u001b[1;32m     <a href='vscode-notebook-cell://wsl%2Bubuntu/home/annika_deutsch/Binary-Pulsar-Distances/matching_tests.ipynb#ch0000006vscode-remote?line=16'>17</a>\u001b[0m astropy_table \u001b[39m=\u001b[39m parse_single_table(\u001b[39m'\u001b[39m\u001b[39mJ0024-7204J_matches.vot.gz\u001b[39m\u001b[39m'\u001b[39m)\u001b[39m.\u001b[39mto_table(use_names_over_ids\u001b[39m=\u001b[39m\u001b[39mTrue\u001b[39;00m)\n\u001b[1;32m     <a href='vscode-notebook-cell://wsl%2Bubuntu/home/annika_deutsch/Binary-Pulsar-Distances/matching_tests.ipynb#ch0000006vscode-remote?line=17'>18</a>\u001b[0m check\u001b[39m.\u001b[39minfo()\n",
      "\u001b[1;32m/home/annika_deutsch/Binary-Pulsar-Distances/matching_tests.ipynb Cell 2'\u001b[0m in \u001b[0;36mpsr_to_gaia\u001b[0;34m(jname, raj, decj, pmra, pmdec, posepoch, height, width)\u001b[0m\n\u001b[1;32m     <a href='vscode-notebook-cell://wsl%2Bubuntu/home/annika_deutsch/Binary-Pulsar-Distances/matching_tests.ipynb#ch0000002vscode-remote?line=39'>40</a>\u001b[0m p_pmdec_deg \u001b[39m=\u001b[39m (\u001b[39mfloat\u001b[39m(p_pmdec) \u001b[39m*\u001b[39m u\u001b[39m.\u001b[39mmas)\u001b[39m.\u001b[39mto(u\u001b[39m.\u001b[39mdeg) \u001b[39m/\u001b[39m u\u001b[39m.\u001b[39myr\n\u001b[1;32m     <a href='vscode-notebook-cell://wsl%2Bubuntu/home/annika_deutsch/Binary-Pulsar-Distances/matching_tests.ipynb#ch0000002vscode-remote?line=41'>42</a>\u001b[0m \u001b[39mprint\u001b[39m(p_pmdec_deg)\n\u001b[0;32m---> <a href='vscode-notebook-cell://wsl%2Bubuntu/home/annika_deutsch/Binary-Pulsar-Distances/matching_tests.ipynb#ch0000002vscode-remote?line=42'>43</a>\u001b[0m \u001b[39mprint\u001b[39m(p_pmdec_deg\u001b[39m.\u001b[39;49munit())\n\u001b[1;32m     <a href='vscode-notebook-cell://wsl%2Bubuntu/home/annika_deutsch/Binary-Pulsar-Distances/matching_tests.ipynb#ch0000002vscode-remote?line=44'>45</a>\u001b[0m \u001b[39m# update location of pulsar based on difference from gaia epoch and pmra/pmdec\u001b[39;00m\n\u001b[1;32m     <a href='vscode-notebook-cell://wsl%2Bubuntu/home/annika_deutsch/Binary-Pulsar-Distances/matching_tests.ipynb#ch0000002vscode-remote?line=45'>46</a>\u001b[0m gaia_epoch \u001b[39m=\u001b[39m \u001b[39m2015.5\u001b[39m \u001b[39m*\u001b[39m u\u001b[39m.\u001b[39myr\n",
      "\u001b[0;31mTypeError\u001b[0m: 'CompositeUnit' object is not callable"
     ]
    }
   ],
   "source": [
    "def test_minus_sign_in_decj_and_pm_strings():\n",
    "    \"\"\"\n",
    "    Tests that the function psr_to_gaia() still behaves properly with string inputs that are intended to be \n",
    "    interpreted as negative values, such as decj and pmdec\n",
    "    \"\"\"\n",
    "\n",
    "    jname = 'J0024-7204J'\n",
    "    raj = '00:23:59.4'\n",
    "    decj = '-72:03:58.7'\n",
    "    pmra = '5.270'\n",
    "    pmdec = '-3.590'\n",
    "    posepoch = '51600.00'\n",
    "    height = 1.\n",
    "    width = 1.\n",
    "\n",
    "    check = psr_to_gaia(jname, raj, decj, pmra, pmdec, posepoch, height, width)\n",
    "    astropy_table = parse_single_table('J0024-7204J_matches.vot.gz').to_table(use_names_over_ids=True)\n",
    "    check.info()\n",
    "    # assert check == astropy_table\n",
    "\n",
    "test_minus_sign_in_decj_and_pm_strings()"
   ]
  },
  {
   "cell_type": "code",
   "execution_count": 19,
   "metadata": {},
   "outputs": [
    {
     "data": {
      "text/html": [
       "<div><i>Table length=661</i>\n",
       "<table id=\"table139745901671328\" class=\"table-striped table-bordered table-condensed\">\n",
       "<thead><tr><th>source_id</th><th>ra</th><th>ra_error</th><th>dec</th><th>dec_error</th><th>parallax</th><th>parallax_error</th><th>phot_g_mean_mag</th><th>bp_rp</th><th>radial_velocity</th><th>radial_velocity_error</th><th>phot_variable_flag</th><th>teff_val</th><th>a_g_val</th></tr></thead>\n",
       "<thead><tr><th></th><th>deg</th><th>mas</th><th>deg</th><th>mas</th><th>mas</th><th>mas</th><th>mag</th><th>mag</th><th>km / s</th><th>km / s</th><th></th><th>K</th><th>mag</th></tr></thead>\n",
       "<thead><tr><th>int64</th><th>float64</th><th>float64</th><th>float64</th><th>float64</th><th>float64</th><th>float64</th><th>float32</th><th>float32</th><th>float64</th><th>float64</th><th>object</th><th>float32</th><th>float32</th></tr></thead>\n",
       "<tr><td>4689638059950659584</td><td>5.97241862484132</td><td>1.1218197395986786</td><td>-72.07724313868937</td><td>1.1522017052178715</td><td>--</td><td>--</td><td>12.169037</td><td>1.3813763</td><td>--</td><td>--</td><td>NOT_AVAILABLE</td><td>4485.0</td><td>--</td></tr>\n",
       "<tr><td>4689638059950659328</td><td>5.972237513069744</td><td>0.05401054600347419</td><td>-72.06867647066856</td><td>0.03838187634966246</td><td>0.17901260184049259</td><td>0.05563867117858709</td><td>12.772815</td><td>1.3368607</td><td>--</td><td>--</td><td>NOT_AVAILABLE</td><td>4675.85</td><td>--</td></tr>\n",
       "<tr><td>4689638064247508992</td><td>5.959260732208984</td><td>0.050964009928267606</td><td>-72.07060764075895</td><td>0.04498876408737587</td><td>0.2985669295192851</td><td>0.0718588865764239</td><td>13.823187</td><td>0.92626095</td><td>--</td><td>--</td><td>NOT_AVAILABLE</td><td>5286.9</td><td>--</td></tr>\n",
       "<tr><td>4689638059950658816</td><td>5.971585098360353</td><td>0.03065644558825252</td><td>-72.0710082981874</td><td>0.022933079906530776</td><td>0.20389835991167002</td><td>0.032139191567241564</td><td>10.900701</td><td>2.080802</td><td>-28.410603007965378</td><td>0.883241520872489</td><td>NOT_AVAILABLE</td><td>4012.9749</td><td>0.97</td></tr>\n",
       "<tr><td>4689638059950657920</td><td>5.97012969664121</td><td>0.053846396343092656</td><td>-72.07591033878539</td><td>0.04294341249822893</td><td>0.07673052292975972</td><td>0.0637344759189761</td><td>12.297852</td><td>1.4347897</td><td>--</td><td>--</td><td>NOT_AVAILABLE</td><td>4610.0</td><td>--</td></tr>\n",
       "<tr><td>4689637991231188352</td><td>5.982917396489215</td><td>0.24869482903968546</td><td>-72.08175889572875</td><td>0.18126983312158823</td><td>--</td><td>--</td><td>12.755561</td><td>1.234786</td><td>--</td><td>--</td><td>NOT_AVAILABLE</td><td>5143.45</td><td>--</td></tr>\n",
       "<tr><td>4689638059950664064</td><td>5.980239570245464</td><td>0.047467639866324185</td><td>-72.06722400614316</td><td>0.07365683978439337</td><td>--</td><td>--</td><td>13.760385</td><td>1.1834755</td><td>--</td><td>--</td><td>NOT_AVAILABLE</td><td>5000.0</td><td>--</td></tr>\n",
       "<tr><td>4689638064253888128</td><td>5.9650780705944655</td><td>0.17688341657523676</td><td>-72.07272867864056</td><td>0.4782671499353005</td><td>-0.862823191245309</td><td>0.45927497629857633</td><td>12.792448</td><td>1.3512039</td><td>--</td><td>--</td><td>NOT_AVAILABLE</td><td>4733.29</td><td>--</td></tr>\n",
       "<tr><td>4689637995526876800</td><td>5.973621522216123</td><td>0.24804666611328616</td><td>-72.08008179507334</td><td>0.18527941860490965</td><td>-0.36678112666688045</td><td>0.16264582691232052</td><td>13.677268</td><td>1.1535568</td><td>--</td><td>--</td><td>NOT_AVAILABLE</td><td>5076.0</td><td>--</td></tr>\n",
       "<tr><td>...</td><td>...</td><td>...</td><td>...</td><td>...</td><td>...</td><td>...</td><td>...</td><td>...</td><td>...</td><td>...</td><td>...</td><td>...</td><td>...</td></tr>\n",
       "<tr><td>4689640297628995712</td><td>5.9967618203486746</td><td>0.06526896268469944</td><td>-72.05984348088602</td><td>0.08689019331530566</td><td>0.1746022285640062</td><td>0.05980252079818831</td><td>14.184605</td><td>1.10396</td><td>--</td><td>--</td><td>NOT_AVAILABLE</td><td>5144.95</td><td>--</td></tr>\n",
       "<tr><td>4689640297630462464</td><td>6.002798840250298</td><td>0.2883154956392304</td><td>-72.05502516392369</td><td>0.31490805824478907</td><td>-0.9229464555522303</td><td>0.3496278352646025</td><td>16.78728</td><td>0.5209265</td><td>--</td><td>--</td><td>NOT_AVAILABLE</td><td>5095.6333</td><td>--</td></tr>\n",
       "<tr><td>4689640297628996096</td><td>5.998703280771517</td><td>0.14213466312113676</td><td>-72.05975809718848</td><td>0.14121724593401747</td><td>-0.0622568012148608</td><td>0.15880156664031395</td><td>15.211784</td><td>1.225112</td><td>--</td><td>--</td><td>NOT_AVAILABLE</td><td>5095.6333</td><td>--</td></tr>\n",
       "<tr><td>4689640297637520512</td><td>5.995843812471964</td><td>0.36731924607275535</td><td>-72.05736643601809</td><td>0.3023738022807391</td><td>--</td><td>--</td><td>16.71255</td><td>--</td><td>--</td><td>--</td><td>NOT_AVAILABLE</td><td>--</td><td>--</td></tr>\n",
       "<tr><td>4689640297628815744</td><td>6.032114879184271</td><td>0.28970888821546475</td><td>-72.05360954539636</td><td>0.22290060449120425</td><td>4.186731923373058</td><td>0.29220883059713504</td><td>16.434753</td><td>0.84853745</td><td>--</td><td>--</td><td>NOT_AVAILABLE</td><td>5095.6333</td><td>--</td></tr>\n",
       "<tr><td>4689640297636728704</td><td>6.021002994442265</td><td>0.11549271854934401</td><td>-72.05405139042239</td><td>0.12545352007775268</td><td>1.1697231159939179</td><td>0.12869334640552416</td><td>15.467193</td><td>1.0331602</td><td>--</td><td>--</td><td>NOT_AVAILABLE</td><td>5143.45</td><td>--</td></tr>\n",
       "<tr><td>4689640293356575232</td><td>5.993391773146939</td><td>0.6141240390575655</td><td>-72.05415709872929</td><td>0.40835781207217176</td><td>-1.2997833503016556</td><td>0.5811879369366733</td><td>16.538391</td><td>0.8594694</td><td>--</td><td>--</td><td>NOT_AVAILABLE</td><td>5095.6333</td><td>--</td></tr>\n",
       "<tr><td>4689640297628823168</td><td>6.011983828008467</td><td>18.050824939313685</td><td>-72.05086169730009</td><td>5.449930993857578</td><td>--</td><td>--</td><td>17.104965</td><td>--</td><td>--</td><td>--</td><td>NOT_AVAILABLE</td><td>--</td><td>--</td></tr>\n",
       "<tr><td>4689640293357212288</td><td>5.994300284425161</td><td>1.7490724450204207</td><td>-72.05601491537212</td><td>0.31791064305686423</td><td>--</td><td>--</td><td>16.509687</td><td>--</td><td>--</td><td>--</td><td>NOT_AVAILABLE</td><td>--</td><td>--</td></tr>\n",
       "<tr><td>4689640293357687808</td><td>5.984079436619267</td><td>0.7863428758179325</td><td>-72.05829210571032</td><td>0.9632075844239468</td><td>--</td><td>--</td><td>16.762547</td><td>0.81800747</td><td>--</td><td>--</td><td>NOT_AVAILABLE</td><td>5095.6333</td><td>--</td></tr>\n",
       "</table></div>"
      ],
      "text/plain": [
       "<Table length=661>\n",
       "     source_id              ra         ...  teff_val a_g_val\n",
       "                           deg         ...     K       mag  \n",
       "       int64             float64       ...  float32  float32\n",
       "------------------- ------------------ ... --------- -------\n",
       "4689638059950659584   5.97241862484132 ...    4485.0      --\n",
       "4689638059950659328  5.972237513069744 ...   4675.85      --\n",
       "4689638064247508992  5.959260732208984 ...    5286.9      --\n",
       "4689638059950658816  5.971585098360353 ... 4012.9749    0.97\n",
       "4689638059950657920   5.97012969664121 ...    4610.0      --\n",
       "4689637991231188352  5.982917396489215 ...   5143.45      --\n",
       "4689638059950664064  5.980239570245464 ...    5000.0      --\n",
       "4689638064253888128 5.9650780705944655 ...   4733.29      --\n",
       "4689637995526876800  5.973621522216123 ...    5076.0      --\n",
       "                ...                ... ...       ...     ...\n",
       "4689640297628995712 5.9967618203486746 ...   5144.95      --\n",
       "4689640297630462464  6.002798840250298 ... 5095.6333      --\n",
       "4689640297628996096  5.998703280771517 ... 5095.6333      --\n",
       "4689640297637520512  5.995843812471964 ...        --      --\n",
       "4689640297628815744  6.032114879184271 ... 5095.6333      --\n",
       "4689640297636728704  6.021002994442265 ...   5143.45      --\n",
       "4689640293356575232  5.993391773146939 ... 5095.6333      --\n",
       "4689640297628823168  6.011983828008467 ...        --      --\n",
       "4689640293357212288  5.994300284425161 ...        --      --\n",
       "4689640293357687808  5.984079436619267 ... 5095.6333      --"
      ]
     },
     "execution_count": 19,
     "metadata": {},
     "output_type": "execute_result"
    }
   ],
   "source": [
    "astropy_table = parse_single_table('J0024-7204J_matches.vot.gz').to_table(use_names_over_ids=True)\n",
    "astropy_table"
   ]
  }
 ],
 "metadata": {
  "kernelspec": {
   "display_name": "Python 3.10.4 ('codeastro')",
   "language": "python",
   "name": "python3"
  },
  "language_info": {
   "codemirror_mode": {
    "name": "ipython",
    "version": 3
   },
   "file_extension": ".py",
   "mimetype": "text/x-python",
   "name": "python",
   "nbconvert_exporter": "python",
   "pygments_lexer": "ipython3",
   "version": "3.10.4"
  },
  "orig_nbformat": 4,
  "vscode": {
   "interpreter": {
    "hash": "f6ff9a58d1da4fc1c2a573e19773b576326b71fae69bf153c6887fe609598654"
   }
  }
 },
 "nbformat": 4,
 "nbformat_minor": 2
}
