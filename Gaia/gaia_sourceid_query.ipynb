{
 "cells": [
  {
   "cell_type": "code",
   "execution_count": 1,
   "metadata": {},
   "outputs": [],
   "source": [
    "import astropy\n",
    "import astropy.units as u\n",
    "import astroquery\n",
    "from astroquery.gaia import Gaia\n",
    "from astropy.coordinates import SkyCoord\n",
    "from astropy.coordinates import Angle\n",
    "import numpy as np\n",
    "import matplotlib.pyplot as plt\n",
    "from astropy.visualization import quantity_support\n",
    "from astropy.time import Time \n",
    "import os\n",
    "import pandas as pd"
   ]
  },
  {
   "cell_type": "code",
   "execution_count": 23,
   "metadata": {},
   "outputs": [],
   "source": [
    "def GetGAIAData(input_file):\n",
    "\n",
    "    f = open(input_file, 'r')\n",
    "    count = 0\n",
    "    for line in f:\n",
    "        # gets the GAIA data for the provided GaiaDR2SourceIDs's\n",
    "        # and writes to a local CSV\n",
    "            \n",
    "        dfGaia = pd.DataFrame()\n",
    "        \n",
    "        #job = Gaia.launch_job_async( \"select top 100 * from gaiadr2.gaia_source where parallax>0 and parallax_over_error>3. \") # Select `good' parallaxes\n",
    "        qry = \"SELECT * FROM gaiadr2.gaia_source gs WHERE gs.source_id in (\" + line + \");\"\n",
    "        \n",
    "        job = Gaia.launch_job_async(qry)\n",
    "        tblGaia = job.get_results()       #Astropy table\n",
    "        modtblGaia = Table(np.array([tblGaia[count][2],tblGaia[count][5],tblGaia[count][7]]))\n",
    "    \n",
    "        modtblGaia.write('output', format= 'csv', overwrite=True)\n",
    "        count+=1 "
   ]
  },
  {
   "cell_type": "code",
   "execution_count": 5,
   "metadata": {},
   "outputs": [
    {
     "name": "stdout",
     "output_type": "stream",
     "text": [
      "INFO: Query finished. [astroquery.utils.tap.core]\n"
     ]
    },
    {
     "data": {
      "text/plain": [
       "dms_tuple(d=-1.0, m=-14.0, s=-42.9710665712037)"
      ]
     },
     "execution_count": 5,
     "metadata": {},
     "output_type": "execute_result"
    }
   ],
   "source": [
    "GetGAIAData('3649963989549165440', 'Gaia')\n",
    "Angle(-1.2452697407142232, u.deg).hms\n",
    "Angle(-1.2452697407142232, u.deg).dms"
   ]
  },
  {
   "cell_type": "code",
   "execution_count": 24,
   "metadata": {},
   "outputs": [
    {
     "name": "stdout",
     "output_type": "stream",
     "text": [
      "INFO: Query finished. [astroquery.utils.tap.core]\n"
     ]
    }
   ],
   "source": [
    "# f = open('source_ids.csv', 'r')\n",
    "# for line in f:\n",
    "#     GetGAIAData(line,'plots')\n",
    "\n",
    "GetGAIAData('source_ids.csv')"
   ]
  },
  {
   "cell_type": "code",
   "execution_count": 25,
   "metadata": {},
   "outputs": [],
   "source": [
    "def GetGAIAData2(GaiaDR2SourceIDs, FolderForLocalStorage):\n",
    "    # gets the GAIA data for the provided GaiaDR2SourceIDs's\n",
    "    # and writes to a local CSV\n",
    "        \n",
    "    dfGaia = pd.DataFrame()\n",
    "    \n",
    "    #job = Gaia.launch_job_async( \"select top 100 * from gaiadr2.gaia_source where parallax>0 and parallax_over_error>3. \") # Select `good' parallaxes\n",
    "    qry = \"SELECT * FROM gaiadr2.gaia_source gs WHERE gs.source_id in (\" + GaiaDR2SourceIDs + \");\"\n",
    "    \n",
    "    job = Gaia.launch_job_async(qry)\n",
    "    tblGaia = job.get_results()       #Astropy table\n",
    "    dfGaia = tblGaia.to_pandas()      #convert to Pandas dataframe\n",
    "    \n",
    "    npGAIARecords = dfGaia.to_numpy() #convert to numpy array    \n",
    "    lstGAIARecords = [list(x) for x in npGAIARecords]   #convert to List[]\n",
    "\n",
    "    tblGaia.write('output', format= 'csv', overwrite= True)\n",
    "    \n",
    "    FileForLocalStorage = FolderForLocalStorage + str(lstGAIARecords[0][2]) + '.csv'  # use SourceID from 1st record\n",
    "    dfGaia.to_csv(FileForLocalStorage, index = False, header=True)    "
   ]
  },
  {
   "cell_type": "code",
   "execution_count": 26,
   "metadata": {},
   "outputs": [
    {
     "name": "stdout",
     "output_type": "stream",
     "text": [
      "INFO: Query finished. [astroquery.utils.tap.core]\n"
     ]
    }
   ],
   "source": [
    "f = open('source_ids.csv', 'r')\n",
    "for line in f:\n",
    "    GetGAIAData2(line,'plots')"
   ]
  },
  {
   "cell_type": "code",
   "execution_count": 30,
   "metadata": {},
   "outputs": [
    {
     "name": "stdout",
     "output_type": "stream",
     "text": [
      "['7.47174E+17', '10:07:21.566112', '34:08:23.738064']\n",
      "['8.09741E+17', '10:07:08.811504', '44:53:47.771808']\n",
      "['1.05888E+18', '10:48:59.444184', '65:47:55.653792']\n",
      "['1.14402E+18', '8:53:25.187496', '79:21:18.927216']\n",
      "['1.3503E+18', '17:39:56.060952', '45:02:17.307636']\n",
      "['1.52583E+18', '13:13:29.020272', '41:51:54.061884']\n",
      "['1.58112E+18', '12:20:12.819', '58:41:16.4724']\n",
      "['1.69529E+18', '15:05:54.810696', '71:08:03.929136']\n",
      "['1.74901E+18', '20:33:15.264408', '7:58:46.0307352']\n",
      "['1.85424E+18', '21:27:37.70376', '33:16:23.897784']\n",
      "['1.94729E+18', '21:46:56.564832', '33:28:13.892412']\n",
      "['2.39714E+18', '22:44:48.564792', '-22:36:07.530876']\n",
      "['3.64996E+18', '14:33:30.863184', '-1:14:42.9710676']\n",
      "['4.272E+18', '18:31:43.612872', '-1:18:59.4106668']\n",
      "['4.31424E+18', '19:02:44.9082', '13:03:49.205844']\n",
      "['4.74409E+18', '2:16:51.112008', '-53:21:41.903892']\n",
      "['5.58053E+18', '6:39:47.8044216', '-36:55:51.508344']\n",
      "['5.59096E+18', '7:15:10.562568', '-34:30:13.192164']\n",
      "['5.59344E+18', '7:30:44.34768', '-30:27:38.025756']\n",
      "['5.68191E+18', '9:28:30.507432', '-17:35:41.033364']\n",
      "['5.84792E+18', '14:15:19.445376', '-66:35:58.568244']\n",
      "['6.00146E+18', '15:30:53.299536', '-42:50:33.565092']\n",
      "['6.32815E+18', '14:32:20.688384', '-10:21:58.804704']\n",
      "['6.59376E+18', '22:28:51.342456', '-39:43:18.892164']\n"
     ]
    }
   ],
   "source": [
    "from astropy.table import Table, vstack\n",
    "import csv\n",
    "g = open('output.csv', 'r')\n",
    "results=Table()\n",
    "count = 0\n",
    "h = open('ra_dec_hms.csv','w')\n",
    "writer = csv.writer(h)\n",
    "for line in g:\n",
    "    if count == 0:\n",
    "        count+=1\n",
    "    else:\n",
    "        values = line.split(',')\n",
    "        mod_values = [values[0]]\n",
    "        mod_values.append(Angle(float(values[1]),u.degree).to_string(unit=u.hourangle,sep=':'))\n",
    "        mod_values.append(Angle(float(values[2]),u.degree).to_string(unit=u.deg,sep=':'))\n",
    "        print(mod_values)\n",
    "        writer.writerow(mod_values)\n",
    "h.close()\n"
   ]
  },
  {
   "cell_type": "code",
   "execution_count": 13,
   "metadata": {},
   "outputs": [
    {
     "data": {
      "text/plain": [
       "hms_tuple(h=14.0, m=33.0, s=28.800000000012176)"
      ]
     },
     "execution_count": 13,
     "metadata": {},
     "output_type": "execute_result"
    }
   ],
   "source": [
    "a = Angle(218.37, u.degree)\n",
    "a.hms"
   ]
  },
  {
   "cell_type": "code",
   "execution_count": 3,
   "metadata": {},
   "outputs": [
    {
     "ename": "KeyboardInterrupt",
     "evalue": "",
     "output_type": "error",
     "traceback": [
      "\u001b[0;31m---------------------------------------------------------------------------\u001b[0m",
      "\u001b[0;31mKeyboardInterrupt\u001b[0m                         Traceback (most recent call last)",
      "\u001b[1;32m/home/annika_deutsch/Binary-Pulsar-Distances/gaia_sourceid_query.ipynb Cell 3'\u001b[0m in \u001b[0;36m<cell line: 1>\u001b[0;34m()\u001b[0m\n\u001b[0;32m----> <a href='vscode-notebook-cell://wsl%2Bubuntu/home/annika_deutsch/Binary-Pulsar-Distances/gaia_sourceid_query.ipynb#ch0000005vscode-remote?line=0'>1</a>\u001b[0m GetGAIAData(\u001b[39m'\u001b[39;49m\u001b[39m5681911574178198400,3649963989549165440,747174436620510976,1581117310088807552,1525829295599805184,4271998639836225920,1695294922548180224,1854241667792418304,1058875159778407808,1947292821452944896,2397135910639986304,11440196909660289286593763230249162112,5590962927271507712,809741149368202752,5847919241396757888,5580526947012630912,1350295047363872512,4744087975990080896,6001459821083925120,1749013354127453696,4314242838679237120,5593444799901901696,6328149636482597888\u001b[39;49m\u001b[39m'\u001b[39;49m,\u001b[39m'\u001b[39;49m\u001b[39mGaia\u001b[39;49m\u001b[39m'\u001b[39;49m)\n",
      "\u001b[1;32m/home/annika_deutsch/Binary-Pulsar-Distances/gaia_sourceid_query.ipynb Cell 2'\u001b[0m in \u001b[0;36mGetGAIAData\u001b[0;34m(GaiaDR2SourceIDs, FolderForLocalStorage)\u001b[0m\n\u001b[1;32m      <a href='vscode-notebook-cell://wsl%2Bubuntu/home/annika_deutsch/Binary-Pulsar-Distances/gaia_sourceid_query.ipynb#ch0000004vscode-remote?line=6'>7</a>\u001b[0m \u001b[39m#job = Gaia.launch_job_async( \"select top 100 * from gaiadr2.gaia_source where parallax>0 and parallax_over_error>3. \") # Select `good' parallaxes\u001b[39;00m\n\u001b[1;32m      <a href='vscode-notebook-cell://wsl%2Bubuntu/home/annika_deutsch/Binary-Pulsar-Distances/gaia_sourceid_query.ipynb#ch0000004vscode-remote?line=7'>8</a>\u001b[0m qry \u001b[39m=\u001b[39m \u001b[39m\"\u001b[39m\u001b[39mSELECT * FROM gaiadr2.gaia_source gs WHERE gs.source_id in (\u001b[39m\u001b[39m\"\u001b[39m \u001b[39m+\u001b[39m GaiaDR2SourceIDs \u001b[39m+\u001b[39m \u001b[39m\"\u001b[39m\u001b[39m);\u001b[39m\u001b[39m\"\u001b[39m\n\u001b[0;32m---> <a href='vscode-notebook-cell://wsl%2Bubuntu/home/annika_deutsch/Binary-Pulsar-Distances/gaia_sourceid_query.ipynb#ch0000004vscode-remote?line=9'>10</a>\u001b[0m job \u001b[39m=\u001b[39m Gaia\u001b[39m.\u001b[39;49mlaunch_job_async( qry )\n\u001b[1;32m     <a href='vscode-notebook-cell://wsl%2Bubuntu/home/annika_deutsch/Binary-Pulsar-Distances/gaia_sourceid_query.ipynb#ch0000004vscode-remote?line=10'>11</a>\u001b[0m tblGaia \u001b[39m=\u001b[39m job\u001b[39m.\u001b[39mget_results()       \u001b[39m#Astropy table\u001b[39;00m\n\u001b[1;32m     <a href='vscode-notebook-cell://wsl%2Bubuntu/home/annika_deutsch/Binary-Pulsar-Distances/gaia_sourceid_query.ipynb#ch0000004vscode-remote?line=11'>12</a>\u001b[0m dfGaia \u001b[39m=\u001b[39m tblGaia\u001b[39m.\u001b[39mto_pandas()      \u001b[39m#convert to Pandas dataframe\u001b[39;00m\n",
      "File \u001b[0;32m~/miniconda3/envs/codeastro/lib/python3.10/site-packages/astroquery/gaia/core.py:903\u001b[0m, in \u001b[0;36mGaiaClass.launch_job_async\u001b[0;34m(self, query, name, output_file, output_format, verbose, dump_to_file, background, upload_resource, upload_table_name, autorun)\u001b[0m\n\u001b[1;32m    862\u001b[0m \u001b[39mdef\u001b[39;00m \u001b[39mlaunch_job_async\u001b[39m(\u001b[39mself\u001b[39m, query, name\u001b[39m=\u001b[39m\u001b[39mNone\u001b[39;00m, output_file\u001b[39m=\u001b[39m\u001b[39mNone\u001b[39;00m,\n\u001b[1;32m    863\u001b[0m                      output_format\u001b[39m=\u001b[39m\u001b[39m\"\u001b[39m\u001b[39mvotable\u001b[39m\u001b[39m\"\u001b[39m, verbose\u001b[39m=\u001b[39m\u001b[39mFalse\u001b[39;00m,\n\u001b[1;32m    864\u001b[0m                      dump_to_file\u001b[39m=\u001b[39m\u001b[39mFalse\u001b[39;00m, background\u001b[39m=\u001b[39m\u001b[39mFalse\u001b[39;00m,\n\u001b[1;32m    865\u001b[0m                      upload_resource\u001b[39m=\u001b[39m\u001b[39mNone\u001b[39;00m, upload_table_name\u001b[39m=\u001b[39m\u001b[39mNone\u001b[39;00m,\n\u001b[1;32m    866\u001b[0m                      autorun\u001b[39m=\u001b[39m\u001b[39mTrue\u001b[39;00m):\n\u001b[1;32m    867\u001b[0m     \u001b[39m\"\"\"Launches an asynchronous job\u001b[39;00m\n\u001b[1;32m    868\u001b[0m \n\u001b[1;32m    869\u001b[0m \u001b[39m    Parameters\u001b[39;00m\n\u001b[0;32m   (...)\u001b[0m\n\u001b[1;32m    901\u001b[0m \u001b[39m    A Job object\u001b[39;00m\n\u001b[1;32m    902\u001b[0m \u001b[39m    \"\"\"\u001b[39;00m\n\u001b[0;32m--> 903\u001b[0m     \u001b[39mreturn\u001b[39;00m TapPlus\u001b[39m.\u001b[39;49mlaunch_job_async(\u001b[39mself\u001b[39;49m, query\u001b[39m=\u001b[39;49mquery,\n\u001b[1;32m    904\u001b[0m                                     name\u001b[39m=\u001b[39;49mname,\n\u001b[1;32m    905\u001b[0m                                     output_file\u001b[39m=\u001b[39;49moutput_file,\n\u001b[1;32m    906\u001b[0m                                     output_format\u001b[39m=\u001b[39;49moutput_format,\n\u001b[1;32m    907\u001b[0m                                     verbose\u001b[39m=\u001b[39;49mverbose,\n\u001b[1;32m    908\u001b[0m                                     dump_to_file\u001b[39m=\u001b[39;49mdump_to_file,\n\u001b[1;32m    909\u001b[0m                                     background\u001b[39m=\u001b[39;49mbackground,\n\u001b[1;32m    910\u001b[0m                                     upload_resource\u001b[39m=\u001b[39;49mupload_resource,\n\u001b[1;32m    911\u001b[0m                                     upload_table_name\u001b[39m=\u001b[39;49mupload_table_name,\n\u001b[1;32m    912\u001b[0m                                     autorun\u001b[39m=\u001b[39;49mautorun)\n",
      "File \u001b[0;32m~/miniconda3/envs/codeastro/lib/python3.10/site-packages/astroquery/utils/tap/core.py:459\u001b[0m, in \u001b[0;36mTap.launch_job_async\u001b[0;34m(self, query, name, output_file, output_format, verbose, dump_to_file, background, upload_resource, upload_table_name, autorun)\u001b[0m\n\u001b[1;32m    457\u001b[0m                 job\u001b[39m.\u001b[39msave_results(verbose)\n\u001b[1;32m    458\u001b[0m             \u001b[39melse\u001b[39;00m:\n\u001b[0;32m--> 459\u001b[0m                 job\u001b[39m.\u001b[39;49mget_results()\n\u001b[1;32m    460\u001b[0m                 log\u001b[39m.\u001b[39minfo(\u001b[39m\"\u001b[39m\u001b[39mQuery finished.\u001b[39m\u001b[39m\"\u001b[39m)\n\u001b[1;32m    461\u001b[0m \u001b[39mreturn\u001b[39;00m job\n",
      "File \u001b[0;32m~/miniconda3/envs/codeastro/lib/python3.10/site-packages/astroquery/utils/tap/model/job.py:246\u001b[0m, in \u001b[0;36mJob.get_results\u001b[0;34m(self)\u001b[0m\n\u001b[1;32m    243\u001b[0m     \u001b[39mreturn\u001b[39;00m \u001b[39mNone\u001b[39;00m\n\u001b[1;32m    244\u001b[0m \u001b[39melse\u001b[39;00m:\n\u001b[1;32m    245\u001b[0m     \u001b[39m# async: result is in the server once the job is finished\u001b[39;00m\n\u001b[0;32m--> 246\u001b[0m     \u001b[39mself\u001b[39;49m\u001b[39m.\u001b[39;49m__load_async_job_results()\n\u001b[1;32m    247\u001b[0m     \u001b[39mreturn\u001b[39;00m \u001b[39mself\u001b[39m\u001b[39m.\u001b[39mresults\n",
      "File \u001b[0;32m~/miniconda3/envs/codeastro/lib/python3.10/site-packages/astroquery/utils/tap/model/job.py:342\u001b[0m, in \u001b[0;36mJob.__load_async_job_results\u001b[0;34m(self, debug)\u001b[0m\n\u001b[1;32m    341\u001b[0m \u001b[39mdef\u001b[39;00m \u001b[39m__load_async_job_results\u001b[39m(\u001b[39mself\u001b[39m, debug\u001b[39m=\u001b[39m\u001b[39mFalse\u001b[39;00m):\n\u001b[0;32m--> 342\u001b[0m     wjResponse, phase \u001b[39m=\u001b[39m \u001b[39mself\u001b[39;49m\u001b[39m.\u001b[39;49mwait_for_job_end()\n\u001b[1;32m    343\u001b[0m     subContext \u001b[39m=\u001b[39m \u001b[39mf\u001b[39m\u001b[39m\"\u001b[39m\u001b[39masync/\u001b[39m\u001b[39m{\u001b[39;00m\u001b[39mself\u001b[39m\u001b[39m.\u001b[39mjobid\u001b[39m}\u001b[39;00m\u001b[39m/results/result\u001b[39m\u001b[39m\"\u001b[39m\n\u001b[1;32m    344\u001b[0m     resultsResponse \u001b[39m=\u001b[39m \u001b[39mself\u001b[39m\u001b[39m.\u001b[39mconnHandler\u001b[39m.\u001b[39mexecute_tapget(subContext)\n",
      "File \u001b[0;32m~/miniconda3/envs/codeastro/lib/python3.10/site-packages/astroquery/utils/tap/model/job.py:338\u001b[0m, in \u001b[0;36mJob.wait_for_job_end\u001b[0;34m(self, verbose)\u001b[0m\n\u001b[1;32m    335\u001b[0m         \u001b[39mbreak\u001b[39;00m\n\u001b[1;32m    336\u001b[0m     \u001b[39m# PENDING, QUEUED, EXECUTING, COMPLETED, ERROR, ABORTED, UNKNOWN,\u001b[39;00m\n\u001b[1;32m    337\u001b[0m     \u001b[39m# HELD, SUSPENDED, ARCHIVED:\u001b[39;00m\n\u001b[0;32m--> 338\u001b[0m     time\u001b[39m.\u001b[39;49msleep(\u001b[39m0.5\u001b[39;49m)\n\u001b[1;32m    339\u001b[0m \u001b[39mreturn\u001b[39;00m currentResponse, lphase\n",
      "\u001b[0;31mKeyboardInterrupt\u001b[0m: "
     ]
    }
   ],
   "source": [
    "GetGAIAData('5681911574178198400,3649963989549165440,747174436620510976,1581117310088807552,1525829295599805184,4271998639836225920,1695294922548180224,1854241667792418304,1058875159778407808,1947292821452944896,2397135910639986304,11440196909660289286593763230249162112,5590962927271507712,809741149368202752,5847919241396757888,5580526947012630912,1350295047363872512,4744087975990080896,6001459821083925120,1749013354127453696,4314242838679237120,5593444799901901696,6328149636482597888','Gaia')"
   ]
  }
 ],
 "metadata": {
  "kernelspec": {
   "display_name": "Python 3.8.3 ('base')",
   "language": "python",
   "name": "python3"
  },
  "language_info": {
   "codemirror_mode": {
    "name": "ipython",
    "version": 3
   },
   "file_extension": ".py",
   "mimetype": "text/x-python",
   "name": "python",
   "nbconvert_exporter": "python",
   "pygments_lexer": "ipython3",
   "version": "3.8.3"
  },
  "orig_nbformat": 4,
  "vscode": {
   "interpreter": {
    "hash": "a7af44852754681d8e67e74b0df2a7f79f23c7ca10f895338acedee5317d869e"
   }
  }
 },
 "nbformat": 4,
 "nbformat_minor": 2
}
