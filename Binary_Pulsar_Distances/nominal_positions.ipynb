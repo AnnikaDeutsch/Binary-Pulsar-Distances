{
 "cells": [
  {
   "cell_type": "code",
   "execution_count": 1,
   "metadata": {},
   "outputs": [],
   "source": [
    "import astropy\n",
    "import astropy.units as u\n",
    "import astroquery\n",
    "from astroquery.gaia import Gaia\n",
    "from astropy.coordinates import SkyCoord\n",
    "from astropy.coordinates import Angle\n",
    "import numpy as np\n",
    "import matplotlib.pyplot as plt\n",
    "from astropy.visualization import quantity_support\n",
    "from astropy.time import Time \n",
    "import os\n",
    "from astropy.io.votable import parse_single_table\n",
    "from astropy.time import Time\n",
    "import pytest\n",
    "from astropy.table import Table, vstack\n",
    "import csv\n",
    "import pandas as pd\n",
    "from astropy.io.votable import from_table, writeto"
   ]
  },
  {
   "cell_type": "code",
   "execution_count": 2,
   "metadata": {},
   "outputs": [],
   "source": [
    "def psr_to_gaia_nominal(jname, raj, decj, radius):\n",
    "    \"\"\"\n",
    "        looks for Gaia matches to a single pulsar within a specified radius, and returns the table resulting \n",
    "        from the Gaia query with the psr name, ra and dec\n",
    "    \"\"\"\n",
    "    \n",
    "    # Query Gaia within the range of the given pulsar \n",
    "    Gaia.ROW_LIMIT = 2000\n",
    "    Gaia.MAIN_GAIA_TABLE = \"gaiadr3.gaia_source\" # Select early Data Release 3\n",
    "    sc = SkyCoord(ra= raj, dec= decj, frame= 'icrs', unit=(u.hourangle, u.deg))\n",
    "    j = Gaia.cone_search_async(coordinate=sc, radius=u.Quantity(radius, u.arcsec))\n",
    "    results = j.get_results()\n",
    "\n",
    "    # use python sort function\n",
    "    \n",
    "    if len(results) == 0:\n",
    "        return results\n",
    "    else:\n",
    "        results.add_column(jname, name='Companion Pulsar', index=0)\n",
    "        results.add_column(raj, name='Pulsar RA', index=1)\n",
    "        results.add_column(decj, name='Pulsar DEC', index=2)\n",
    "        return results\n"
   ]
  },
  {
   "cell_type": "code",
   "execution_count": 3,
   "metadata": {},
   "outputs": [],
   "source": [
    "def psr_to_gaia(jname, raj, decj,  pmra, pmdec, posepoch, radius):\n",
    "    \"\"\"Searches Gaia for possible companion to any given pulsar\n",
    "\n",
    "    Given input parameters read in from a text file following the guidelines of ATNF parameters, \n",
    "    queries Gaia DR2 to find matches (nearby objects from Gaia) based on RA and Dec for each object \n",
    "    from the text file to within a certain range, the default being 1 arcmin in both ra and dec.\n",
    "\n",
    "    Args:\n",
    "        jname (str): Name of the pulsar being checked for matches \n",
    "        raj (str): Right ascension of the pulsar in hh:mm:ss.ss format -- is this actually what it is?\n",
    "        decj (str): Declination of the pulsar in degrees:mm:ss.ss format -- is this actually what it is?\n",
    "        pmra (str): Proper motion in ra of the pulsar in string format and mas/yr units\n",
    "        pmdec (str): proper motion in dec of the pulsar in string format and mas/yr units\n",
    "        posepoch (str): epoch that the data was taken in string format and mjd units\n",
    "        height (float): Height of Gaia box search in arcminutes\n",
    "        width (float): Width of Gaia box search in arcminutes \n",
    "        radius (float): Radius of the Gaia cone search in arcminutes\n",
    "    \n",
    "    Returns:\n",
    "        Table: results of the Gaia query in an astropy Table  \n",
    "    \"\"\"\n",
    "\n",
    "    from astropy.time import Time \n",
    "    ra = Angle(raj, unit = u.hourangle) # comes in as a string of units hh:mm:ss.ss\n",
    "    dec = Angle(decj, unit = u.deg) # comes in as a string of units dd:mm:ss.s\n",
    "    p_pmra = u.Quantity(pmra, u.mas/u.yr) # comes in as a string of units mas/yr\n",
    "    p_pmdec = u.Quantity(pmdec, u.mas/u.yr) # comes in as a string of units mas/yr\n",
    "    p_epoch = Time(posepoch, format='mjd').jyear # comes in in units mjd, is immediately converted to jyear tcb\n",
    "\n",
    "    psr = SkyCoord(ra= raj, dec= decj, unit= (u.hourangle, u.deg), frame = 'icrs', pm_ra_cosdec= p_pmra, pm_dec= p_pmdec)\n",
    "\n",
    "    # to propogate location of pulsar up to gaia time, must calculate epoch difference\n",
    "    gaia_epoch = Time('2016.0', format='jyear').jyear\n",
    "    year_diff = (gaia_epoch.tolist() * u.yr) - (p_epoch.tolist() * u.yr) # difference b/w epochs in years\n",
    "\n",
    "    # define our new vector of pm times the time diff\n",
    "    pmtransra = psr.pm_ra_cosdec * year_diff\n",
    "    pmtransdec = psr.pm_dec * year_diff\n",
    "\n",
    "    ra_dr3 = psr.ra.to_value(u.mas) * u.mas + (pmtransra)\n",
    "    dec_dr3 = psr.dec.to_value(u.mas) * u.mas + (pmtransdec)\n",
    "\n",
    "    # define a new SkyCoord object with the propagated positions\n",
    "    psr_dr3 = SkyCoord(ra= ra_dr3, dec= dec_dr3, unit= (u.mas, u.mas), frame= 'icrs', pm_ra_cosdec= p_pmra, pm_dec= p_pmdec)\n",
    "\n",
    "    # Query Gaia within the range of the given pulsar \n",
    "    Gaia.ROW_LIMIT = 2000\n",
    "    Gaia.MAIN_GAIA_TABLE = \"gaiadr3.gaia_source\" # Select early Data Release 3\n",
    "    #coord=SkyCoord(ra=p_new_ra, dec=p_new_dec, unit=(u.degree, u.degree), frame='icrs')\n",
    "    j = Gaia.cone_search_async(coordinate=psr_dr3, radius=u.Quantity(radius, u.arcsec))\n",
    "    results = j.get_results()\n",
    "\n",
    "    # use python sort function\n",
    "    \n",
    "    if len(results) == 0:\n",
    "        with open('/home/annika_deutsch/Binary-Pulsar-Distances/Binary_Pulsar_Distances/matches_10arcsec.csv', 'a') as fd:\n",
    "            fd.write(jname + ',\\n')\n",
    "            fd.close()\n",
    "        return results\n",
    "    else:\n",
    "        results.add_column(jname, name='Companion Pulsar', index=0)\n",
    "        results.add_column(raj, name='Pulsar RA', index=1)\n",
    "        results.add_column(decj, name='Pulsar DEC', index=2)\n",
    "        results.write('temp.csv', overwrite=True) #writes the results of a single query to a csv file\n",
    "        f = open('temp.csv', 'r')\n",
    "        for line in f:\n",
    "            with open('/home/annika_deutsch/Binary-Pulsar-Distances/Binary_Pulsar_Distances/matches_10arcsec.csv', 'a') as fd:\n",
    "                fd.write(line)\n",
    "                fd.close()\n",
    "        return results"
   ]
  },
  {
   "cell_type": "code",
   "execution_count": 4,
   "metadata": {},
   "outputs": [],
   "source": [
    "def get_matches(input_file, radius=1.):\n",
    "    \"\"\"Takes a list of pulsars and returns a list of those with potential matches.\n",
    "\n",
    "    Takes as input a text file (.csv file) with index number, name, ra, dec, proper\n",
    "    motion ra, proper motion dec and posepoch of a list of pulsars and produces all of the gaia \n",
    "    matches of ra and dec to within a certain range.\n",
    "\n",
    "    Args: \n",
    "        input_file (str): Name of the text file (csv) containing each pulsar with the parameters 'index', 'jname', \n",
    "            'ra', 'dec', 'pmra', 'pmdec', 'posepoch' row by row for each object.\n",
    "        output_file (str): Name of the text file which the pulsar-gaia matches will be output to. If desired,\n",
    "            specify the full path to which the file should be saved, otherwise it will just be saved to the \n",
    "            present working directory\n",
    "        height (:obj:'float', optional): Height of the rectangle Gaia will query in.\n",
    "        width (:obj:'float', optional): Width of the rectangle Gaia will query in.\n",
    "        radius (:obj:'float', optional): Radius of the circle Gaia will query in. \n",
    "\n",
    "\n",
    "    \"\"\"\n",
    "    from astropy.table import Table, vstack\n",
    "\n",
    "    f = open(input_file, \"r\")\n",
    "    results = Table()\n",
    "    first_time = True\n",
    "    skipped = 0\n",
    "\n",
    "    # Loop through file of ATNF data and combine tables of Gaia matches into one supertable\n",
    "    for line in f:\n",
    "\n",
    "      # Parse input\n",
    "      values = line.split(';')\n",
    "\n",
    "      if values[3] == '*' or values[4] == '*' or values[6] == '*' or values[7] == '*' or values[9] == '*' or values[10] == '*' or values[12] == '*' or values[13] == '*' or values[15] == '*':\n",
    "        skipped += 1\n",
    "        with open('/home/annika_deutsch/Binary-Pulsar-Distances/Binary_Pulsar_Distances/matches_10arcsec.csv', 'a') as fd:\n",
    "          fd.write(values[1] + ',\\n')\n",
    "          fd.close()\n",
    "        continue\n",
    "\n",
    "      # write a condition that will perform the query if that pulsar is not in the table, and will skip if it is\n",
    "      query = True\n",
    "      g = open('/home/annika_deutsch/Binary-Pulsar-Distances/Binary_Pulsar_Distances/matches_10arcsec.csv', 'r')\n",
    "      for line in g:\n",
    "        name = line.split(',')\n",
    "        if name[0] == values[1]:\n",
    "          query = False\n",
    "          break\n",
    "      \n",
    "      if query:\n",
    "        # Add result to supertable\n",
    "        #psr_to_gaia(jname, raj, decj,  pmra, pmdec, posepoch, radius)\n",
    "        search_result = psr_to_gaia(values[1],values[3],values[6],values[9],values[12],values[15],radius)\n",
    "        if (len(search_result) == 0):\n",
    "          continue\n",
    "        if first_time:\n",
    "          results = search_result\n",
    "          first_time = False\n",
    "        else:  \n",
    "          results = vstack([results, search_result])\n",
    "\n",
    "    hits = len(results)\n",
    "    # results.write(output_file, format='csv', overwrite=True)\n",
    "    return results, hits, skipped"
   ]
  },
  {
   "cell_type": "code",
   "execution_count": 12,
   "metadata": {},
   "outputs": [
    {
     "data": {
      "text/html": [
       "<div><i>Table length=3359</i>\n",
       "<table id=\"table140184417996656\" class=\"table-striped table-bordered table-condensed\">\n",
       "<thead><tr><th>psr</th><th>ra</th><th>ra_err</th><th>dec</th><th>dec_err</th><th>pmra</th><th>pmra_err</th><th>pmdec</th><th>pmdec_err</th><th>epoch</th></tr></thead>\n",
       "<thead><tr><th>str12</th><th>str16</th><th>str7</th><th>str16</th><th>str7</th><th>str8</th><th>str7</th><th>str8</th><th>str7</th><th>str10</th></tr></thead>\n",
       "<tr><td>J0002+6216</td><td>00:02:58.17</td><td>2.0e-02</td><td>+62:16:09.4</td><td>1.0e-01</td><td>*</td><td>0</td><td>*</td><td>0</td><td>55806</td></tr>\n",
       "<tr><td>J0006+1834</td><td>00:06:04.8</td><td>2.0e-01</td><td>+18:34:59</td><td>4.0e+00</td><td>*</td><td>0</td><td>*</td><td>0</td><td>49079.50</td></tr>\n",
       "<tr><td>J0007+7303</td><td>00:07:01.7</td><td>2.0e-01</td><td>+73:03:07.4</td><td>8.0e-01</td><td>*</td><td>0</td><td>*</td><td>0</td><td>54952.00</td></tr>\n",
       "<tr><td>J0011+08</td><td>00:11:34</td><td>1.1e+02</td><td>+08:10</td><td>8.0e+00</td><td>*</td><td>0</td><td>*</td><td>0</td><td>57022.00</td></tr>\n",
       "<tr><td>J0014+4746</td><td>00:14:17.75</td><td>4.0e-02</td><td>+47:46:33.4</td><td>3.0e-01</td><td>19.3</td><td>1.8e+00</td><td>-19.7</td><td>1.5e+00</td><td>49664.00</td></tr>\n",
       "<tr><td>J0021-0909</td><td>00:21:51.47</td><td>3.0e-02</td><td>-09:09:58.7</td><td>1.1e+00</td><td>*</td><td>0</td><td>*</td><td>0</td><td>58388.00</td></tr>\n",
       "<tr><td>J0023+0923</td><td>00:23:16.877498</td><td>7.0e-06</td><td>+09:23:23.8604</td><td>2.3e-04</td><td>-12.44</td><td>7.0e-02</td><td>-6.16</td><td>1.6e-01</td><td>56845.00</td></tr>\n",
       "<tr><td>J0024-7204aa</td><td>00:24:05.67</td><td>0</td><td>-72:04:52.62</td><td>0</td><td>5.252</td><td>2.1e-02</td><td>-2.551</td><td>2.1e-02</td><td>57022.00</td></tr>\n",
       "<tr><td>J0024-7204ab</td><td>00:24:08.1615</td><td>5.0e-04</td><td>-72:04:47.602</td><td>2.0e-03</td><td>5.252</td><td>2.1e-02</td><td>-2.551</td><td>2.1e-02</td><td>51600</td></tr>\n",
       "<tr><td>J0024-7204ac</td><td>00:24:05.67</td><td>0</td><td>-72:04:05</td><td>0</td><td>5.252</td><td>2.1e-02</td><td>-2.551</td><td>2.1e-02</td><td>*</td></tr>\n",
       "<tr><td>...</td><td>...</td><td>...</td><td>...</td><td>...</td><td>...</td><td>...</td><td>...</td><td>...</td><td>...</td></tr>\n",
       "<tr><td>J2343+6221</td><td>23:43</td><td>0</td><td>+62:21</td><td>0</td><td>*</td><td>0</td><td>*</td><td>0</td><td>54100.00</td></tr>\n",
       "<tr><td>J2346-0609</td><td>23:46:50.4978</td><td>1.0e-04</td><td>-06:09:59.899</td><td>2.0e-03</td><td>37.38</td><td>3.0e-02</td><td>-20.21</td><td>9.0e-02</td><td>56000.00</td></tr>\n",
       "<tr><td>J2347+02</td><td>23:47</td><td>0.0e+00</td><td>+02</td><td>0.0e+00</td><td>*</td><td>0</td><td>*</td><td>0</td><td>*</td></tr>\n",
       "<tr><td>J2350+31</td><td>23:50:42</td><td>1.2e+01</td><td>+31:39</td><td>3.0e+00</td><td>*</td><td>0</td><td>*</td><td>0</td><td>*</td></tr>\n",
       "<tr><td>J2351+8533</td><td>23:51:03</td><td>6.2e-01</td><td>+85:33:20.6</td><td>4.4e-01</td><td>*</td><td>0</td><td>*</td><td>0</td><td>56500.00</td></tr>\n",
       "<tr><td>J2352+65</td><td>23:52</td><td>0</td><td>+65</td><td>0</td><td>*</td><td>0</td><td>*</td><td>0</td><td>54100.00</td></tr>\n",
       "<tr><td>J2354-22</td><td>23:54:26</td><td>0</td><td>-22:51:53</td><td>0</td><td>*</td><td>0</td><td>*</td><td>0</td><td>54973.00</td></tr>\n",
       "<tr><td>J2354+6155</td><td>23:54:04.7830</td><td>1.0e-04</td><td>+61:55:46.845</td><td>1.0e-03</td><td>22.76</td><td>5.0e-02</td><td>4.897</td><td>2.5e-02</td><td>56000.00</td></tr>\n",
       "<tr><td>J2355+0051</td><td>23:55:51.2885</td><td>1.4e-03</td><td>+00:51:09.57</td><td>4.0e-02</td><td>*</td><td>0</td><td>*</td><td>0</td><td>59492.67</td></tr>\n",
       "<tr><td>J2355+2246</td><td>23:55:49.8</td><td>3.0e-01</td><td>+22:46:17</td><td>8.0e+00</td><td>*</td><td>0</td><td>*</td><td>0</td><td>57102.00</td></tr>\n",
       "</table></div>"
      ],
      "text/plain": [
       "<Table length=3359>\n",
       "    psr             ra        ra_err ... pmdec  pmdec_err  epoch  \n",
       "   str12          str16        str7  ...  str8     str7    str10  \n",
       "------------ --------------- ------- ... ------ --------- --------\n",
       "  J0002+6216     00:02:58.17 2.0e-02 ...      *         0    55806\n",
       "  J0006+1834      00:06:04.8 2.0e-01 ...      *         0 49079.50\n",
       "  J0007+7303      00:07:01.7 2.0e-01 ...      *         0 54952.00\n",
       "    J0011+08        00:11:34 1.1e+02 ...      *         0 57022.00\n",
       "  J0014+4746     00:14:17.75 4.0e-02 ...  -19.7   1.5e+00 49664.00\n",
       "  J0021-0909     00:21:51.47 3.0e-02 ...      *         0 58388.00\n",
       "  J0023+0923 00:23:16.877498 7.0e-06 ...  -6.16   1.6e-01 56845.00\n",
       "J0024-7204aa     00:24:05.67       0 ... -2.551   2.1e-02 57022.00\n",
       "J0024-7204ab   00:24:08.1615 5.0e-04 ... -2.551   2.1e-02    51600\n",
       "J0024-7204ac     00:24:05.67       0 ... -2.551   2.1e-02        *\n",
       "         ...             ...     ... ...    ...       ...      ...\n",
       "  J2343+6221           23:43       0 ...      *         0 54100.00\n",
       "  J2346-0609   23:46:50.4978 1.0e-04 ... -20.21   9.0e-02 56000.00\n",
       "    J2347+02           23:47 0.0e+00 ...      *         0        *\n",
       "    J2350+31        23:50:42 1.2e+01 ...      *         0        *\n",
       "  J2351+8533        23:51:03 6.2e-01 ...      *         0 56500.00\n",
       "    J2352+65           23:52       0 ...      *         0 54100.00\n",
       "    J2354-22        23:54:26       0 ...      *         0 54973.00\n",
       "  J2354+6155   23:54:04.7830 1.0e-04 ...  4.897   2.5e-02 56000.00\n",
       "  J2355+0051   23:55:51.2885 1.4e-03 ...      *         0 59492.67\n",
       "  J2355+2246      23:55:49.8 3.0e-01 ...      *         0 57102.00"
      ]
     },
     "execution_count": 12,
     "metadata": {},
     "output_type": "execute_result"
    }
   ],
   "source": [
    "# create an astropy table of the ATNF data\n",
    "f = open('/home/annika_deutsch/Binary-Pulsar-Distances/Binary_Pulsar_Distances/atnf_csv_w_errors.csv', \"r\")\n",
    "first_time = True\n",
    "a1 = []\n",
    "a3 = []\n",
    "a4 = []\n",
    "a6 = []\n",
    "a7 = []\n",
    "a9 = []\n",
    "a10 = []\n",
    "a12 = []\n",
    "a13 = []\n",
    "a15 = []\n",
    "\n",
    "for line in f:\n",
    "    values = line.split(';')\n",
    "    if first_time:\n",
    "        a1.insert(0, values[1])\n",
    "        a3.insert(0, values[3])\n",
    "        a4.insert(0, values[4])\n",
    "        a6.insert(0, values[6])\n",
    "        a7.insert(0, values[7])\n",
    "        a9.insert(0, values[9])\n",
    "        a10.insert(0, values[10])\n",
    "        a12.insert(0, values[12])\n",
    "        a13.insert(0, values[13])\n",
    "        a15.insert(0, values[15])\n",
    "        first_time = False\n",
    "    else:\n",
    "        a1.append(values[1])\n",
    "        a3.append(values[3])\n",
    "        a4.append(values[4])\n",
    "        a6.append(values[6])\n",
    "        a7.append(values[7])\n",
    "        a9.append(values[9])\n",
    "        a10.append(values[10])\n",
    "        a12.append(values[12])\n",
    "        a13.append(values[13])\n",
    "        a15.append(values[15])\n",
    "\n",
    "atnf_psrs = Table([a1,a3,a4,a6,a7,a9,a10,a12,a13,a15], names= ['psr', 'ra', 'ra_err', 'dec', 'dec_err', 'pmra', \n",
    "                                                               'pmra_err', 'pmdec', 'pmdec_err', 'epoch'])\n",
    "atnf_psrs"
   ]
  },
  {
   "cell_type": "code",
   "execution_count": 14,
   "metadata": {},
   "outputs": [
    {
     "name": "stdout",
     "output_type": "stream",
     "text": [
      "INFO: Login to gaia TAP server [astroquery.gaia.core]\n",
      "OK\n",
      "INFO: Login to gaia data server [astroquery.gaia.core]\n",
      "OK\n",
      "Sending pytable.\n",
      "200 200\n",
      "[('Date', 'Thu, 02 Mar 2023 19:23:41 GMT'), ('Server', 'Apache/2.4.6 (CentOS) OpenSSL/1.0.2k-fips mod_jk/1.2.43'), ('Cache-Control', 'no-cache, no-store, max-age=0, must-revalidate'), ('Pragma', 'no-cache'), ('Expires', '0'), ('X-XSS-Protection', '1; mode=block'), ('X-Frame-Options', 'SAMEORIGIN'), ('X-Content-Type-Options', 'nosniff'), ('Transfer-Encoding', 'chunked'), ('Content-Type', 'text/plain;charset=ISO-8859-1')]\n",
      "Uploaded table 'atnf_allpsrs_new5'.\n",
      "Retrieving table 'atnf_allpsrs_new5'\n",
      "------>https\n",
      "host = gea.esac.esa.int:443\n",
      "context = /tap-server/tap/tables?tables=atnf_allpsrs_new5\n",
      "500 500\n",
      "ERROR: 500: 500\n",
      "500 Error 500:\n",
      "esavo.tap.TAPException: java.lang.NullPointerException\n"
     ]
    },
    {
     "ename": "HTTPError",
     "evalue": "Error 500:\nesavo.tap.TAPException: java.lang.NullPointerException",
     "output_type": "error",
     "traceback": [
      "\u001b[0;31m---------------------------------------------------------------------------\u001b[0m",
      "\u001b[0;31mHTTPError\u001b[0m                                 Traceback (most recent call last)",
      "\u001b[1;32m/home/annika_deutsch/Binary-Pulsar-Distances/Binary_Pulsar_Distances/nominal_positions.ipynb Cell 6\u001b[0m in \u001b[0;36m<cell line: 3>\u001b[0;34m()\u001b[0m\n\u001b[1;32m      <a href='vscode-notebook-cell://wsl%2Bubuntu/home/annika_deutsch/Binary-Pulsar-Distances/Binary_Pulsar_Distances/nominal_positions.ipynb#W5sdnNjb2RlLXJlbW90ZQ%3D%3D?line=0'>1</a>\u001b[0m Gaia\u001b[39m.\u001b[39mlogin()\n\u001b[1;32m      <a href='vscode-notebook-cell://wsl%2Bubuntu/home/annika_deutsch/Binary-Pulsar-Distances/Binary_Pulsar_Distances/nominal_positions.ipynb#W5sdnNjb2RlLXJlbW90ZQ%3D%3D?line=1'>2</a>\u001b[0m Gaia\u001b[39m.\u001b[39mupload_table(upload_resource\u001b[39m=\u001b[39matnf_psrs, table_name\u001b[39m=\u001b[39m\u001b[39m\"\u001b[39m\u001b[39matnf_allpsrs_new5\u001b[39m\u001b[39m\"\u001b[39m, verbose\u001b[39m=\u001b[39m\u001b[39mTrue\u001b[39;00m)\n\u001b[0;32m----> <a href='vscode-notebook-cell://wsl%2Bubuntu/home/annika_deutsch/Binary-Pulsar-Distances/Binary_Pulsar_Distances/nominal_positions.ipynb#W5sdnNjb2RlLXJlbW90ZQ%3D%3D?line=2'>3</a>\u001b[0m Gaia\u001b[39m.\u001b[39;49mupdate_user_table(table_name\u001b[39m=\u001b[39;49m\u001b[39m\"\u001b[39;49m\u001b[39matnf_allpsrs_new5\u001b[39;49m\u001b[39m\"\u001b[39;49m,\n\u001b[1;32m      <a href='vscode-notebook-cell://wsl%2Bubuntu/home/annika_deutsch/Binary-Pulsar-Distances/Binary_Pulsar_Distances/nominal_positions.ipynb#W5sdnNjb2RlLXJlbW90ZQ%3D%3D?line=3'>4</a>\u001b[0m                        list_of_changes\u001b[39m=\u001b[39;49m[[\u001b[39m\"\u001b[39;49m\u001b[39mra\u001b[39;49m\u001b[39m\"\u001b[39;49m, \u001b[39m\"\u001b[39;49m\u001b[39mflags\u001b[39;49m\u001b[39m\"\u001b[39;49m, \u001b[39m\"\u001b[39;49m\u001b[39mRa\u001b[39;49m\u001b[39m\"\u001b[39;49m], \n\u001b[1;32m      <a href='vscode-notebook-cell://wsl%2Bubuntu/home/annika_deutsch/Binary-Pulsar-Distances/Binary_Pulsar_Distances/nominal_positions.ipynb#W5sdnNjb2RlLXJlbW90ZQ%3D%3D?line=4'>5</a>\u001b[0m                                         [\u001b[39m\"\u001b[39;49m\u001b[39mdec\u001b[39;49m\u001b[39m\"\u001b[39;49m, \u001b[39m\"\u001b[39;49m\u001b[39mflags\u001b[39;49m\u001b[39m\"\u001b[39;49m, \u001b[39m\"\u001b[39;49m\u001b[39mDec\u001b[39;49m\u001b[39m\"\u001b[39;49m]], verbose\u001b[39m=\u001b[39;49m\u001b[39mTrue\u001b[39;49;00m)\n",
      "File \u001b[0;32m~/miniconda3/envs/codeastro/lib/python3.10/site-packages/astroquery/utils/tap/core.py:1774\u001b[0m, in \u001b[0;36mTapPlus.update_user_table\u001b[0;34m(self, table_name, list_of_changes, verbose)\u001b[0m\n\u001b[1;32m   1770\u001b[0m             \u001b[39mraise\u001b[39;00m \u001b[39mValueError\u001b[39;00m(\u001b[39m\"\u001b[39m\u001b[39mPosition 2 of all changes must be \u001b[39m\u001b[39m\"\u001b[39m \u001b[39m+\u001b[39m\n\u001b[1;32m   1771\u001b[0m                              \u001b[39m\"\u001b[39m\u001b[39m'\u001b[39m\u001b[39mutype\u001b[39m\u001b[39m'\u001b[39m\u001b[39m, \u001b[39m\u001b[39m'\u001b[39m\u001b[39mucd\u001b[39m\u001b[39m'\u001b[39m\u001b[39m, \u001b[39m\u001b[39m'\u001b[39m\u001b[39mflags\u001b[39m\u001b[39m'\u001b[39m\u001b[39m or \u001b[39m\u001b[39m'\u001b[39m\u001b[39mindexed\u001b[39m\u001b[39m'\u001b[39m\u001b[39m\"\u001b[39m)\n\u001b[1;32m   1772\u001b[0m         index \u001b[39m=\u001b[39m index \u001b[39m+\u001b[39m \u001b[39m1\u001b[39m\n\u001b[0;32m-> 1774\u001b[0m table \u001b[39m=\u001b[39m \u001b[39mself\u001b[39;49m\u001b[39m.\u001b[39;49mload_table(table\u001b[39m=\u001b[39;49mtable_name, verbose\u001b[39m=\u001b[39;49mverbose)\n\u001b[1;32m   1775\u001b[0m \u001b[39mif\u001b[39;00m table \u001b[39mis\u001b[39;00m \u001b[39mNone\u001b[39;00m:\n\u001b[1;32m   1776\u001b[0m     \u001b[39mraise\u001b[39;00m \u001b[39mValueError\u001b[39;00m(\u001b[39m\"\u001b[39m\u001b[39mTable name not found\u001b[39m\u001b[39m\"\u001b[39m)\n",
      "File \u001b[0;32m~/miniconda3/envs/codeastro/lib/python3.10/site-packages/astroquery/utils/tap/core.py:177\u001b[0m, in \u001b[0;36mTap.load_table\u001b[0;34m(self, table, verbose)\u001b[0m\n\u001b[1;32m    175\u001b[0m \u001b[39mif\u001b[39;00m verbose:\n\u001b[1;32m    176\u001b[0m     \u001b[39mprint\u001b[39m(response\u001b[39m.\u001b[39mstatus, response\u001b[39m.\u001b[39mreason)\n\u001b[0;32m--> 177\u001b[0m \u001b[39mself\u001b[39;49m\u001b[39m.\u001b[39;49m__connHandler\u001b[39m.\u001b[39;49mcheck_launch_response_status(response,\n\u001b[1;32m    178\u001b[0m                                                 verbose,\n\u001b[1;32m    179\u001b[0m                                                 \u001b[39m200\u001b[39;49m)\n\u001b[1;32m    180\u001b[0m \u001b[39mif\u001b[39;00m verbose:\n\u001b[1;32m    181\u001b[0m     \u001b[39mprint\u001b[39m(\u001b[39mf\u001b[39m\u001b[39m\"\u001b[39m\u001b[39mParsing table \u001b[39m\u001b[39m'\u001b[39m\u001b[39m{\u001b[39;00mtable\u001b[39m}\u001b[39;00m\u001b[39m'\u001b[39m\u001b[39m...\u001b[39m\u001b[39m\"\u001b[39m)\n",
      "File \u001b[0;32m~/miniconda3/envs/codeastro/lib/python3.10/site-packages/astroquery/utils/tap/conn/tapconn.py:683\u001b[0m, in \u001b[0;36mTapConn.check_launch_response_status\u001b[0;34m(self, response, debug, expected_response_status, raise_exception)\u001b[0m\n\u001b[1;32m    681\u001b[0m     errMsg \u001b[39m=\u001b[39m taputils\u001b[39m.\u001b[39mget_http_response_error(response)\n\u001b[1;32m    682\u001b[0m     \u001b[39mprint\u001b[39m(response\u001b[39m.\u001b[39mstatus, errMsg)\n\u001b[0;32m--> 683\u001b[0m     \u001b[39mraise\u001b[39;00m requests\u001b[39m.\u001b[39mexceptions\u001b[39m.\u001b[39mHTTPError(errMsg)\n\u001b[1;32m    684\u001b[0m \u001b[39melse\u001b[39;00m:\n\u001b[1;32m    685\u001b[0m     \u001b[39mreturn\u001b[39;00m isError\n",
      "\u001b[0;31mHTTPError\u001b[0m: Error 500:\nesavo.tap.TAPException: java.lang.NullPointerException"
     ]
    }
   ],
   "source": [
    "Gaia.login()\n",
    "Gaia.upload_table(upload_resource=atnf_psrs, table_name=\"atnf_allpsrs_new5\", verbose=True)\n",
    "Gaia.update_user_table(table_name=\"atnf_allpsrs_new5\",\n",
    "                       list_of_changes=[[\"ra\", \"flags\", \"Ra\"], \n",
    "                                        [\"dec\", \"flags\", \"Dec\"]], verbose=True)\n",
    "\n",
    "# a=[1,2,3]\n",
    "# b=['a','b','c']\n",
    "# table = Table([a,b], names=['col1','col2'], meta={'meta':'first table'})\n",
    "# # Upload\n",
    "# Gaia.login()\n",
    "# Gaia.upload_table(upload_resource=table, table_name='table_test_from_astropy')\n",
    "# Gaia.update_user_table(table_name=\"table_test_from_astropy\",\n",
    "#                        list_of_changes=[[\"col1\", \"flags\", \"Ra\"], \n",
    "#                                         [\"col2\", \"flags\", \"Dec\"]])"
   ]
  },
  {
   "cell_type": "code",
   "execution_count": 16,
   "metadata": {},
   "outputs": [
    {
     "name": "stdout",
     "output_type": "stream",
     "text": [
      "INFO: Login to gaia TAP server [astroquery.gaia.core]\n",
      "OK\n",
      "INFO: Login to gaia data server [astroquery.gaia.core]\n",
      "OK\n",
      "Retrieving table 'atnf_allpsrs_new2'\n",
      "500 Error 500:\n",
      "esavo.tap.TAPException: java.lang.NullPointerException\n"
     ]
    },
    {
     "ename": "HTTPError",
     "evalue": "Error 500:\nesavo.tap.TAPException: java.lang.NullPointerException",
     "output_type": "error",
     "traceback": [
      "\u001b[0;31m---------------------------------------------------------------------------\u001b[0m",
      "\u001b[0;31mHTTPError\u001b[0m                                 Traceback (most recent call last)",
      "\u001b[1;32m/home/annika_deutsch/Binary-Pulsar-Distances/Binary_Pulsar_Distances/nominal_positions.ipynb Cell 7\u001b[0m in \u001b[0;36m<cell line: 4>\u001b[0;34m()\u001b[0m\n\u001b[1;32m      <a href='vscode-notebook-cell://wsl%2Bubuntu/home/annika_deutsch/Binary-Pulsar-Distances/Binary_Pulsar_Distances/nominal_positions.ipynb#W6sdnNjb2RlLXJlbW90ZQ%3D%3D?line=0'>1</a>\u001b[0m Gaia\u001b[39m.\u001b[39mlogin()\n\u001b[1;32m      <a href='vscode-notebook-cell://wsl%2Bubuntu/home/annika_deutsch/Binary-Pulsar-Distances/Binary_Pulsar_Distances/nominal_positions.ipynb#W6sdnNjb2RlLXJlbW90ZQ%3D%3D?line=1'>2</a>\u001b[0m \u001b[39m# table_metadata = Gaia.load_table('atnf_allpsrs_new2')\u001b[39;00m\n\u001b[1;32m      <a href='vscode-notebook-cell://wsl%2Bubuntu/home/annika_deutsch/Binary-Pulsar-Distances/Binary_Pulsar_Distances/nominal_positions.ipynb#W6sdnNjb2RlLXJlbW90ZQ%3D%3D?line=2'>3</a>\u001b[0m \u001b[39m# table_metadata\u001b[39;00m\n\u001b[0;32m----> <a href='vscode-notebook-cell://wsl%2Bubuntu/home/annika_deutsch/Binary-Pulsar-Distances/Binary_Pulsar_Distances/nominal_positions.ipynb#W6sdnNjb2RlLXJlbW90ZQ%3D%3D?line=3'>4</a>\u001b[0m Gaia\u001b[39m.\u001b[39;49mupdate_user_table(table_name\u001b[39m=\u001b[39;49m\u001b[39m\"\u001b[39;49m\u001b[39matnf_allpsrs_new2\u001b[39;49m\u001b[39m\"\u001b[39;49m,\n\u001b[1;32m      <a href='vscode-notebook-cell://wsl%2Bubuntu/home/annika_deutsch/Binary-Pulsar-Distances/Binary_Pulsar_Distances/nominal_positions.ipynb#W6sdnNjb2RlLXJlbW90ZQ%3D%3D?line=4'>5</a>\u001b[0m                        list_of_changes\u001b[39m=\u001b[39;49m[[\u001b[39m\"\u001b[39;49m\u001b[39mra\u001b[39;49m\u001b[39m\"\u001b[39;49m, \u001b[39m\"\u001b[39;49m\u001b[39mflags\u001b[39;49m\u001b[39m\"\u001b[39;49m, \u001b[39m\"\u001b[39;49m\u001b[39mRa\u001b[39;49m\u001b[39m\"\u001b[39;49m], \n\u001b[1;32m      <a href='vscode-notebook-cell://wsl%2Bubuntu/home/annika_deutsch/Binary-Pulsar-Distances/Binary_Pulsar_Distances/nominal_positions.ipynb#W6sdnNjb2RlLXJlbW90ZQ%3D%3D?line=5'>6</a>\u001b[0m                                         [\u001b[39m\"\u001b[39;49m\u001b[39mdec\u001b[39;49m\u001b[39m\"\u001b[39;49m, \u001b[39m\"\u001b[39;49m\u001b[39mflags\u001b[39;49m\u001b[39m\"\u001b[39;49m, \u001b[39m\"\u001b[39;49m\u001b[39mDec\u001b[39;49m\u001b[39m\"\u001b[39;49m]])\n",
      "File \u001b[0;32m~/miniconda3/envs/codeastro/lib/python3.10/site-packages/astroquery/utils/tap/core.py:1774\u001b[0m, in \u001b[0;36mTapPlus.update_user_table\u001b[0;34m(self, table_name, list_of_changes, verbose)\u001b[0m\n\u001b[1;32m   1770\u001b[0m             \u001b[39mraise\u001b[39;00m \u001b[39mValueError\u001b[39;00m(\u001b[39m\"\u001b[39m\u001b[39mPosition 2 of all changes must be \u001b[39m\u001b[39m\"\u001b[39m \u001b[39m+\u001b[39m\n\u001b[1;32m   1771\u001b[0m                              \u001b[39m\"\u001b[39m\u001b[39m'\u001b[39m\u001b[39mutype\u001b[39m\u001b[39m'\u001b[39m\u001b[39m, \u001b[39m\u001b[39m'\u001b[39m\u001b[39mucd\u001b[39m\u001b[39m'\u001b[39m\u001b[39m, \u001b[39m\u001b[39m'\u001b[39m\u001b[39mflags\u001b[39m\u001b[39m'\u001b[39m\u001b[39m or \u001b[39m\u001b[39m'\u001b[39m\u001b[39mindexed\u001b[39m\u001b[39m'\u001b[39m\u001b[39m\"\u001b[39m)\n\u001b[1;32m   1772\u001b[0m         index \u001b[39m=\u001b[39m index \u001b[39m+\u001b[39m \u001b[39m1\u001b[39m\n\u001b[0;32m-> 1774\u001b[0m table \u001b[39m=\u001b[39m \u001b[39mself\u001b[39;49m\u001b[39m.\u001b[39;49mload_table(table\u001b[39m=\u001b[39;49mtable_name, verbose\u001b[39m=\u001b[39;49mverbose)\n\u001b[1;32m   1775\u001b[0m \u001b[39mif\u001b[39;00m table \u001b[39mis\u001b[39;00m \u001b[39mNone\u001b[39;00m:\n\u001b[1;32m   1776\u001b[0m     \u001b[39mraise\u001b[39;00m \u001b[39mValueError\u001b[39;00m(\u001b[39m\"\u001b[39m\u001b[39mTable name not found\u001b[39m\u001b[39m\"\u001b[39m)\n",
      "File \u001b[0;32m~/miniconda3/envs/codeastro/lib/python3.10/site-packages/astroquery/utils/tap/core.py:177\u001b[0m, in \u001b[0;36mTap.load_table\u001b[0;34m(self, table, verbose)\u001b[0m\n\u001b[1;32m    175\u001b[0m \u001b[39mif\u001b[39;00m verbose:\n\u001b[1;32m    176\u001b[0m     \u001b[39mprint\u001b[39m(response\u001b[39m.\u001b[39mstatus, response\u001b[39m.\u001b[39mreason)\n\u001b[0;32m--> 177\u001b[0m \u001b[39mself\u001b[39;49m\u001b[39m.\u001b[39;49m__connHandler\u001b[39m.\u001b[39;49mcheck_launch_response_status(response,\n\u001b[1;32m    178\u001b[0m                                                 verbose,\n\u001b[1;32m    179\u001b[0m                                                 \u001b[39m200\u001b[39;49m)\n\u001b[1;32m    180\u001b[0m \u001b[39mif\u001b[39;00m verbose:\n\u001b[1;32m    181\u001b[0m     \u001b[39mprint\u001b[39m(\u001b[39mf\u001b[39m\u001b[39m\"\u001b[39m\u001b[39mParsing table \u001b[39m\u001b[39m'\u001b[39m\u001b[39m{\u001b[39;00mtable\u001b[39m}\u001b[39;00m\u001b[39m'\u001b[39m\u001b[39m...\u001b[39m\u001b[39m\"\u001b[39m)\n",
      "File \u001b[0;32m~/miniconda3/envs/codeastro/lib/python3.10/site-packages/astroquery/utils/tap/conn/tapconn.py:683\u001b[0m, in \u001b[0;36mTapConn.check_launch_response_status\u001b[0;34m(self, response, debug, expected_response_status, raise_exception)\u001b[0m\n\u001b[1;32m    681\u001b[0m     errMsg \u001b[39m=\u001b[39m taputils\u001b[39m.\u001b[39mget_http_response_error(response)\n\u001b[1;32m    682\u001b[0m     \u001b[39mprint\u001b[39m(response\u001b[39m.\u001b[39mstatus, errMsg)\n\u001b[0;32m--> 683\u001b[0m     \u001b[39mraise\u001b[39;00m requests\u001b[39m.\u001b[39mexceptions\u001b[39m.\u001b[39mHTTPError(errMsg)\n\u001b[1;32m    684\u001b[0m \u001b[39melse\u001b[39;00m:\n\u001b[1;32m    685\u001b[0m     \u001b[39mreturn\u001b[39;00m isError\n",
      "\u001b[0;31mHTTPError\u001b[0m: Error 500:\nesavo.tap.TAPException: java.lang.NullPointerException"
     ]
    }
   ],
   "source": [
    "Gaia.login()\n",
    "# table_metadata = Gaia.load_table('atnf_allpsrs_new2')\n",
    "# table_metadata\n",
    "Gaia.update_user_table(table_name=\"atnf_allpsrs_new2\",\n",
    "                       list_of_changes=[[\"ra\", \"flags\", \"Ra\"], \n",
    "                                        [\"dec\", \"flags\", \"Dec\"]])"
   ]
  },
  {
   "cell_type": "code",
   "execution_count": 50,
   "metadata": {},
   "outputs": [],
   "source": [
    "# first step is to run get matches for 10 arcsec\n",
    "filetouse = '/home/annika_deutsch/Binary-Pulsar-Distances/Binary_Pulsar_Distances/atnf_csv_w_errors.csv'\n",
    "table, hits, skipped = get_matches(filetouse, radius= 10.)"
   ]
  },
  {
   "cell_type": "code",
   "execution_count": 26,
   "metadata": {},
   "outputs": [
    {
     "data": {
      "text/html": [
       "<div><i>Table length=15314</i>\n",
       "<table id=\"table139872202405392\" class=\"table-striped table-bordered table-condensed\">\n",
       "<thead><tr><th>Pulsar</th><th>Pulsar RA</th><th>Pulsar DEC</th><th>ra</th><th>dec</th></tr></thead>\n",
       "<thead><tr><th>str12</th><th>str16</th><th>str16</th><th>str18</th><th>str19</th></tr></thead>\n",
       "<tr><td>J0024-7204aa</td><td>00:24:05.67</td><td>-72:04:52.62</td><td>6.023128743364097</td><td>-72.08127489997942</td></tr>\n",
       "<tr><td>J0024-7204aa</td><td>00:24:05.67</td><td>-72:04:52.62</td><td>6.02136691234547</td><td>-72.08178209766417</td></tr>\n",
       "<tr><td>J0024-7204aa</td><td>00:24:05.67</td><td>-72:04:52.62</td><td>6.02394670980477</td><td>-72.0803894414852</td></tr>\n",
       "<tr><td>J0024-7204aa</td><td>00:24:05.67</td><td>-72:04:52.62</td><td>6.026624481094398</td><td>-72.08199713192272</td></tr>\n",
       "<tr><td>J0024-7204aa</td><td>00:24:05.67</td><td>-72:04:52.62</td><td>6.028650079813069</td><td>-72.08034006779617</td></tr>\n",
       "<tr><td>J0024-7204aa</td><td>00:24:05.67</td><td>-72:04:52.62</td><td>6.029471118493607</td><td>-72.08078295262682</td></tr>\n",
       "<tr><td>J0024-7204aa</td><td>00:24:05.67</td><td>-72:04:52.62</td><td>6.030127420912808</td><td>-72.08182771453025</td></tr>\n",
       "<tr><td>J0024-7204aa</td><td>00:24:05.67</td><td>-72:04:52.62</td><td>6.0263013509831715</td><td>-72.07927524167017</td></tr>\n",
       "<tr><td>J0024-7204aa</td><td>00:24:05.67</td><td>-72:04:52.62</td><td>6.016716693606229</td><td>-72.08078388880749</td></tr>\n",
       "<tr><td>J0024-7204aa</td><td>00:24:05.67</td><td>-72:04:52.62</td><td>6.021504816349012</td><td>-72.07918641122816</td></tr>\n",
       "<tr><td>...</td><td>...</td><td>...</td><td>...</td><td>...</td></tr>\n",
       "<tr><td>J2301+5852</td><td>23:01:08.29</td><td>+58:52:44.45</td><td>345.2804486288089</td><td>58.879771935652684</td></tr>\n",
       "<tr><td>J2301+5852</td><td>23:01:08.29</td><td>+58:52:44.45</td><td>345.2851110806997</td><td>58.87662137008169</td></tr>\n",
       "<tr><td>J2313+4253</td><td>23:13:08.6209</td><td>+42:53:13.043</td><td>348.2839145442925</td><td>42.88844339895794</td></tr>\n",
       "<tr><td>J2313+4253</td><td>23:13:08.6209</td><td>+42:53:13.043</td><td>348.28920494675094</td><td>42.88606252875155</td></tr>\n",
       "<tr><td>J2317+2149</td><td>23:17:57.8419</td><td>+21:49:48.019</td><td>349.49094458544266</td><td>21.827827184976247</td></tr>\n",
       "<tr><td>J2321+6024</td><td>23:21:55.213</td><td>+60:24:30.71</td><td>350.4827824008868</td><td>60.407894213886685</td></tr>\n",
       "<tr><td>J2325+6316</td><td>23:25:13.3196</td><td>+63:16:52.362</td><td>351.3046214899138</td><td>63.28071409909092</td></tr>\n",
       "<tr><td>J2326+6113</td><td>23:26:58.697</td><td>+61:13:36.468</td><td>351.74125679000855</td><td>61.2288097694286</td></tr>\n",
       "<tr><td>J2339-0533</td><td>23:39:38.74</td><td>-05:33:05.32</td><td>354.91143951164605</td><td>-5.551464740654193</td></tr>\n",
       "<tr><td>J2354+6155</td><td>23:54:04.7830</td><td>+61:55:46.845</td><td>358.5194853906025</td><td>61.93189755118689</td></tr>\n",
       "</table></div>"
      ],
      "text/plain": [
       "<Table length=15314>\n",
       "   Pulsar      Pulsar RA     Pulsar DEC          ra                dec        \n",
       "   str12         str16         str16           str18              str19       \n",
       "------------ ------------- ------------- ------------------ ------------------\n",
       "J0024-7204aa   00:24:05.67  -72:04:52.62  6.023128743364097 -72.08127489997942\n",
       "J0024-7204aa   00:24:05.67  -72:04:52.62   6.02136691234547 -72.08178209766417\n",
       "J0024-7204aa   00:24:05.67  -72:04:52.62   6.02394670980477  -72.0803894414852\n",
       "J0024-7204aa   00:24:05.67  -72:04:52.62  6.026624481094398 -72.08199713192272\n",
       "J0024-7204aa   00:24:05.67  -72:04:52.62  6.028650079813069 -72.08034006779617\n",
       "J0024-7204aa   00:24:05.67  -72:04:52.62  6.029471118493607 -72.08078295262682\n",
       "J0024-7204aa   00:24:05.67  -72:04:52.62  6.030127420912808 -72.08182771453025\n",
       "J0024-7204aa   00:24:05.67  -72:04:52.62 6.0263013509831715 -72.07927524167017\n",
       "J0024-7204aa   00:24:05.67  -72:04:52.62  6.016716693606229 -72.08078388880749\n",
       "J0024-7204aa   00:24:05.67  -72:04:52.62  6.021504816349012 -72.07918641122816\n",
       "         ...           ...           ...                ...                ...\n",
       "  J2301+5852   23:01:08.29  +58:52:44.45  345.2804486288089 58.879771935652684\n",
       "  J2301+5852   23:01:08.29  +58:52:44.45  345.2851110806997  58.87662137008169\n",
       "  J2313+4253 23:13:08.6209 +42:53:13.043  348.2839145442925  42.88844339895794\n",
       "  J2313+4253 23:13:08.6209 +42:53:13.043 348.28920494675094  42.88606252875155\n",
       "  J2317+2149 23:17:57.8419 +21:49:48.019 349.49094458544266 21.827827184976247\n",
       "  J2321+6024  23:21:55.213  +60:24:30.71  350.4827824008868 60.407894213886685\n",
       "  J2325+6316 23:25:13.3196 +63:16:52.362  351.3046214899138  63.28071409909092\n",
       "  J2326+6113  23:26:58.697 +61:13:36.468 351.74125679000855   61.2288097694286\n",
       "  J2339-0533   23:39:38.74  -05:33:05.32 354.91143951164605 -5.551464740654193\n",
       "  J2354+6155 23:54:04.7830 +61:55:46.845  358.5194853906025  61.93189755118689"
      ]
     },
     "execution_count": 26,
     "metadata": {},
     "output_type": "execute_result"
    }
   ],
   "source": [
    "psr = []\n",
    "psr_ra = []\n",
    "psr_dec = []\n",
    "ra = []\n",
    "dec = []\n",
    "hits = 0\n",
    "psrs_with_hits = 0\n",
    "skipped = 0\n",
    "first = True\n",
    "h = open('/home/annika_deutsch/Binary-Pulsar-Distances/Binary_Pulsar_Distances/matches_10arcsec.csv', 'r')\n",
    "for line in h:\n",
    "    values = line.split(',')\n",
    "    if len(values) < 3: \n",
    "        skipped += 1 # skips pulsars that don't have any matches\n",
    "    else:\n",
    "        if values[0] == 'Companion Pulsar':\n",
    "            psrs_with_hits += 1\n",
    "            continue # skips lines that are just metadata-ish\n",
    "        else:\n",
    "            hits += 1\n",
    "            if first:\n",
    "                first = False\n",
    "                psr.insert(0, values[0])\n",
    "                psr_ra.insert(0, values[1])\n",
    "                psr_dec.insert(0, values[2])\n",
    "                ra.insert(0, values[8])\n",
    "                dec.insert(0, values[10])\n",
    "            else:\n",
    "                psr.append(values[0])\n",
    "                psr_ra.append(values[1])\n",
    "                psr_dec.append(values[2])\n",
    "                ra.append(values[8])\n",
    "                dec.append(values[10])\n",
    "\n",
    "table = Table([psr, psr_ra, psr_dec, ra, dec], names= ['Pulsar', 'Pulsar RA', 'Pulsar DEC', 'ra', 'dec'])\n",
    "table"
   ]
  },
  {
   "cell_type": "code",
   "execution_count": 28,
   "metadata": {},
   "outputs": [
    {
     "data": {
      "text/plain": [
       "437"
      ]
     },
     "execution_count": 28,
     "metadata": {},
     "output_type": "execute_result"
    }
   ],
   "source": [
    "current = 'J0024-7204aa'\n",
    "psrs_with_hits = [current]\n",
    "for b in table['Pulsar']:\n",
    "    if b != current:\n",
    "        psrs_with_hits.append(b)\n",
    "        current = b\n",
    "len(psrs_with_hits)"
   ]
  },
  {
   "cell_type": "code",
   "execution_count": 29,
   "metadata": {},
   "outputs": [
    {
     "data": {
      "text/latex": [
       "$0^\\circ00{}^\\prime00.55049321{}^{\\prime\\prime}$"
      ],
      "text/plain": [
       "<Angle 0.00015291 deg>"
      ]
     },
     "execution_count": 29,
     "metadata": {},
     "output_type": "execute_result"
    }
   ],
   "source": [
    "psr_pos = SkyCoord(table['Pulsar RA'], table['Pulsar DEC'], frame = 'icrs', unit =(u.hourangle, u.deg))\n",
    "source_pos = SkyCoord(table['ra'], table['dec'], frame = 'icrs', unit= (u.deg, u.deg))\n",
    "\n",
    "source_seps = []\n",
    "first_time = True\n",
    "for k in range(len(table)):\n",
    "    if first_time:\n",
    "        source_seps.insert(0,psr_pos[k].separation(source_pos[k]))\n",
    "        first_time = False\n",
    "    else:\n",
    "        source_seps.append(psr_pos[k].separation(source_pos[k]))\n",
    "\n",
    "source_seps[0]"
   ]
  },
  {
   "cell_type": "code",
   "execution_count": 33,
   "metadata": {},
   "outputs": [
    {
     "data": {
      "text/plain": [
       "437"
      ]
     },
     "execution_count": 33,
     "metadata": {},
     "output_type": "execute_result"
    }
   ],
   "source": [
    "mins = np.zeros(len(psrs_with_hits))\n",
    "for d in range(len(psrs_with_hits)):\n",
    "    first_time = True\n",
    "    for c in range(len(table['Pulsar'])):\n",
    "        if table['Pulsar'][c] == psrs_with_hits[d]:\n",
    "            if first_time:\n",
    "                first_time = False\n",
    "                minimum = source_seps[c].to_value(u.arcsec)\n",
    "            else:\n",
    "                if source_seps[c].to_value(u.arcsec) < minimum:\n",
    "                    minimum = source_seps[c].to_value(u.arcsec)\n",
    "    mins[d] = minimum\n",
    "len(mins)"
   ]
  },
  {
   "cell_type": "code",
   "execution_count": 35,
   "metadata": {},
   "outputs": [],
   "source": [
    "min_dist = Table([psrs_with_hits, mins], names= ['Pulsars with Hits', 'Distance to at least 1 hit'])"
   ]
  },
  {
   "cell_type": "code",
   "execution_count": 45,
   "metadata": {},
   "outputs": [
    {
     "data": {
      "text/plain": [
       "Text(0, 0.5, 'Pulsars with Hits / Total Pulsars')"
      ]
     },
     "execution_count": 45,
     "metadata": {},
     "output_type": "execute_result"
    },
    {
     "data": {
      "image/png": "[encoded data removed]",
      "text/plain": [
       "<Figure size 432x288 with 1 Axes>"
      ]
     },
     "metadata": {
      "needs_background": "light"
     },
     "output_type": "display_data"
    }
   ],
   "source": [
    "dist_to_one_psr = np.linspace(0,10,20)\n",
    "n_psr_norm = np.zeros(len(dist_to_one_psr))\n",
    "for e in range(len(dist_to_one_psr)):\n",
    "    num = 0\n",
    "    for f in range(len(min_dist['Distance to at least 1 hit'])):\n",
    "        if min_dist['Distance to at least 1 hit'][f] < dist_to_one_psr[e]:\n",
    "            num += 1\n",
    "    n_psr_norm[e] = num/len(psrs_with_hits)\n",
    "n_psr_norm\n",
    "\n",
    "fig = plt.figure\n",
    "ax = plt.subplot(111)\n",
    "ax.step(dist_to_one_psr, n_psr_norm, label= 'Pulsars with at least one hit')\n",
    "ax.set_xlabel('Distance to at least 1 Gaia source (\")')\n",
    "ax.set_ylabel('Pulsars with Hits / Total Pulsars')\n",
    "#ax.legend()"
   ]
  },
  {
   "cell_type": "code",
   "execution_count": 7,
   "metadata": {},
   "outputs": [
    {
     "data": {
      "text/plain": [
       "array([   0.,   16.,   32.,   52.,   73.,  139.,  165.,  211.,  284.,\n",
       "        403.,  453.,  560.,  667.,  739.,  806.,  886., 1067., 1211.,\n",
       "       1300., 1472., 1607., 1812., 2033., 2165., 2393.])"
      ]
     },
     "execution_count": 7,
     "metadata": {},
     "output_type": "execute_result"
    }
   ],
   "source": [
    "seps1 = np.linspace(0,10,200)\n",
    "seps2 = np.linspace(0, 4, 25)\n",
    "\n",
    "numhits1 = np.zeros(len(seps1)) \n",
    "for i in range(len(seps1)):\n",
    "    num = 0\n",
    "    for j in range(len(source_seps)):\n",
    "        if source_seps[j].arcsec <= seps1[i]:\n",
    "            num += 1\n",
    "    numhits1[i] = num\n",
    "\n",
    "numhits2 = np.zeros(len(seps2)) \n",
    "for i in range(len(seps2)):\n",
    "    num = 0\n",
    "    for j in range(len(source_seps)):\n",
    "        if source_seps[j].arcsec <= seps2[i]:\n",
    "            num += 1\n",
    "    numhits2[i] = num\n",
    "\n",
    "numhits2"
   ]
  },
  {
   "cell_type": "code",
   "execution_count": 10,
   "metadata": {},
   "outputs": [
    {
     "data": {
      "image/png": "[encoded data removed]",
      "text/plain": [
       "<Figure size 921.6x345.6 with 2 Axes>"
      ]
     },
     "metadata": {
      "needs_background": "light"
     },
     "output_type": "display_data"
    }
   ],
   "source": [
    "hits_per_pulsar1 = numhits1/(psrs_with_hits)\n",
    "hits_per_pulsar2 = numhits2/(psrs_with_hits)\n",
    "a1, b1, c1 = np.polyfit(seps1, hits_per_pulsar1, 2)\n",
    "a2, b2, c2 = np.polyfit(seps2, hits_per_pulsar2, 2)\n",
    "\n",
    "# google how to get chisquared \n",
    "\n",
    "def quadratic1(a,b,c):\n",
    "    return a* (seps1**2) + b*(seps1) + c\n",
    "\n",
    "def quadratic2(a,b,c):\n",
    "    return a* (seps2**2) + b*(seps2) + c\n",
    "\n",
    "fig = plt.figure(figsize=(12.8, 4.8))\n",
    "# ax1 = plt.subplot(121)\n",
    "# ax2 = plt.subplot(122)\n",
    "# ax3 = plt.subplot(121)\n",
    "# ax4 = plt.subplot(122)\n",
    "ax5 = plt.subplot(121)\n",
    "ax6 = plt.subplot(122)\n",
    "\n",
    "# # log linear\n",
    "# ax1.set_yscale('log')\n",
    "# ax1.scatter(seps1, hits_per_pulsar1, label= 'Number of Hits per Pulsar from PSRmatch')\n",
    "# ax1.plot(seps1, quadratic1(a1,b1,c1), label= 'Quadratic Fit', c= 'r')\n",
    "# ax1.set_xlabel('Separation radius (\")')\n",
    "# ax1.set_ylabel('Hits / 437')\n",
    "# ax1.set_title('Hits per Pulsar to 10 \" Log-Linear')\n",
    "# ax1.legend()\n",
    "\n",
    "# ax2.set_yscale('log')\n",
    "# ax2.scatter(seps2, hits_per_pulsar2, label= 'Number of Hits per Pulsar from PSRmatch')\n",
    "# ax2.plot(seps2, quadratic2(a2,b2,c2), label= 'Quadratic Fit', c= 'r')\n",
    "# ax2.set_xlabel('Separation radius (\")')\n",
    "# ax2.set_ylabel('Hits / 437')\n",
    "# ax2.set_title('Lower Separation Radii Zoom In, Log-Linear')\n",
    "# ax2.legend()\n",
    "\n",
    "# #linear \n",
    "# ax3.scatter(seps1, hits_per_pulsar1, label= 'Number of Hits per Pulsar from PSRmatch')\n",
    "# ax3.plot(seps1, quadratic1(a1,b1,c1), label= 'Quadratic Fit', c= 'r')\n",
    "# ax3.set_xlabel('Separation radius (\")')\n",
    "# ax3.set_ylabel('Hits / 437')\n",
    "# ax3.set_title('Hits per Pulsar to 10 \" Linear')\n",
    "# ax3.legend()\n",
    "\n",
    "# ax4.scatter(seps2, hits_per_pulsar2, label= 'Number of Hits per Pulsar from PSRmatch')\n",
    "# ax4.plot(seps2, quadratic2(a2,b2,c2), label= 'Quadratic Fit', c= 'r')\n",
    "# ax4.set_xlabel('Separation radius (\")')\n",
    "# ax4.set_ylabel('Hits / 437')\n",
    "# ax4.set_title('Lower Separation Radii Zoom In, Linear')\n",
    "# ax4.legend()\n",
    "\n",
    "#log-log\n",
    "ax5.set_xscale('log')\n",
    "ax5.set_yscale('log')\n",
    "ax5.scatter(seps1, hits_per_pulsar1, label= 'Number of Hits per Pulsar from PSRmatch')\n",
    "ax5.plot(seps1, quadratic1(a1,b1,c1), label= 'Quadratic Fit', c= 'r')\n",
    "ax5.set_xlabel('Separation radius (\")')\n",
    "ax5.set_ylabel('Hits / 437')\n",
    "ax5.set_title('Hits per Pulsar to 10 \" Log-Log')\n",
    "ax5.legend()\n",
    "\n",
    "ax6.set_xscale('log')\n",
    "ax6.set_yscale('log')\n",
    "ax6.scatter(seps2, hits_per_pulsar2, label= 'Number of Hits per Pulsar from PSRmatch')\n",
    "ax6.plot(seps2, quadratic2(a2,b2,c2), label= 'Quadratic Fit', c= 'r')\n",
    "ax6.set_xlabel('Separation radius (\")')\n",
    "ax6.set_ylabel('Hits / 437')\n",
    "ax6.set_title('Lower Separation Radii Zoom In, Log-Log')\n",
    "ax6.legend()\n",
    "\n",
    "fig.suptitle('Hits per Pulsar')\n",
    "fig.tight_layout()"
   ]
  },
  {
   "cell_type": "code",
   "execution_count": 25,
   "metadata": {},
   "outputs": [
    {
     "data": {
      "text/plain": [
       "array([  0., 437., 437., 437., 437., 437., 437., 437., 437., 437., 437.,\n",
       "       437., 437., 437., 437., 437., 437., 437., 437., 437., 437., 437.,\n",
       "       437., 437., 437., 437., 437., 437., 437., 437.])"
      ]
     },
     "execution_count": 25,
     "metadata": {},
     "output_type": "execute_result"
    }
   ],
   "source": [
    "dist_to_one_psr = np.linspace(0,1,30)\n",
    "n_psr = np.zeros(len(dist_to_one_psr))\n",
    "for i in range(len(dist_to_one_psr)):\n",
    "    first_one = True\n",
    "    psrs = []\n",
    "    for j in range(len(source_seps)):\n",
    "        if source_seps[j].value < dist_to_one_psr[i]:\n",
    "            if first_one:\n",
    "                psrs.insert(0,table['Pulsar'][j])\n",
    "                first_one = False\n",
    "            else:\n",
    "                add = True\n",
    "                for k in range(len(psrs)):\n",
    "                    if table['Pulsar'][j] == psrs[k]:\n",
    "                        add = False\n",
    "                if add:\n",
    "                    psrs.append(table['Pulsar'][j])\n",
    "    n_psr[i] = len(psrs)\n",
    "n_psr"
   ]
  },
  {
   "cell_type": "code",
   "execution_count": 5,
   "metadata": {},
   "outputs": [
    {
     "data": {
      "image/png": "[encoded data removed]",
      "text/plain": [
       "<Figure size 460.8x345.6 with 1 Axes>"
      ]
     },
     "metadata": {
      "needs_background": "light"
     },
     "output_type": "display_data"
    }
   ],
   "source": [
    "zoomed_hits_per_psr = np.array([   0.,   10.,   51.,   94.,  149.,  257.,  349.,  460.,  606.,\n",
    "        823.,  986., 1198., 1409., 1618., 1830., 2110., 2432., 2714.,\n",
    "       2969., 3273., 3646., 4080., 4497., 4833., 5314.])\n",
    "\n",
    "seps2 = np.linspace(0, 4, 25)\n",
    "\n",
    "hits_per_pulsar2 = zoomed_hits_per_psr/(3342)\n",
    "a2, b2, c2 = np.polyfit(seps2, hits_per_pulsar2, 2)\n",
    "\n",
    "# google how to get chisquared \n",
    "\n",
    "def quadratic1(a,b,c):\n",
    "    return a* (seps1**2) + b*(seps1) + c\n",
    "\n",
    "def quadratic2(a,b,c):\n",
    "    return a* (seps2**2) + b*(seps2) + c\n",
    "\n",
    "fig = plt.figure(figsize=(6.4, 4.8))\n",
    "ax2 = plt.subplot()\n",
    "\n",
    "ax2.set_yscale('log')\n",
    "ax2.scatter(seps2, hits_per_pulsar2, label= 'Number of Hits per Pulsar from PSRmatch')\n",
    "ax2.plot(seps2, quadratic2(a2,b2,c2), label= 'Quadratic Fit', c= 'r')\n",
    "ax2.set_xlabel('Separation radius (\")')\n",
    "ax2.set_ylabel('Matches identified')\n",
    "ax2.set_title('Lower Separation Radii Zoom In')\n",
    "ax2.legend()\n",
    "\n",
    "fig.suptitle('Hits per Pulsar')\n",
    "fig.tight_layout()"
   ]
  }
 ],
 "metadata": {
  "kernelspec": {
   "display_name": "Python 3.10.4 ('codeastro')",
   "language": "python",
   "name": "python3"
  },
  "language_info": {
   "codemirror_mode": {
    "name": "ipython",
    "version": 3
   },
   "file_extension": ".py",
   "mimetype": "text/x-python",
   "name": "python",
   "nbconvert_exporter": "python",
   "pygments_lexer": "ipython3",
   "version": "3.10.4"
  },
  "orig_nbformat": 4,
  "vscode": {
   "interpreter": {
    "hash": "f6ff9a58d1da4fc1c2a573e19773b576326b71fae69bf153c6887fe609598654"
   }
  }
 },
 "nbformat": 4,
 "nbformat_minor": 2
}
