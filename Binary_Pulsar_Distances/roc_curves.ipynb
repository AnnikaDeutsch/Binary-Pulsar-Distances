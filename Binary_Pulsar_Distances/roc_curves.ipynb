{
 "cells": [
  {
   "cell_type": "markdown",
   "metadata": {},
   "source": [
    "For a subset of pulsars with known binary companions, calculate roc curves to determine the ideal search radius to be performing the query in"
   ]
  },
  {
   "cell_type": "code",
   "execution_count": 1,
   "metadata": {},
   "outputs": [],
   "source": [
    "import astropy\n",
    "import astropy.units as u\n",
    "import astroquery\n",
    "from astroquery.gaia import Gaia\n",
    "from astropy.coordinates import SkyCoord\n",
    "from astropy.coordinates import Angle\n",
    "import numpy as np\n",
    "import matplotlib.pyplot as plt\n",
    "from astropy.visualization import quantity_support\n",
    "from astropy.time import Time \n",
    "import os\n",
    "from astropy.io.votable import parse_single_table\n",
    "from astropy.time import Time\n",
    "import pytest\n",
    "from astropy.table import Table, vstack\n",
    "import csv\n",
    "import pandas as pd\n",
    "from astropy.io.votable import from_table, writeto"
   ]
  },
  {
   "cell_type": "code",
   "execution_count": 2,
   "metadata": {},
   "outputs": [],
   "source": [
    "# create astropy table superset of all identified 'hits' from matches_10arcsec.npz\n",
    "load = np.load('/home/billee/Binary-Pulsar-Distances/Binary_Pulsar_Distances/matches_10arcsec.npz')\n",
    "superset = Table([load['Pulsar'], load['Pulsar_RA'], load['Pulsar_DEC'], load['Binary'], load['Bin_Comp'], \n",
    "                  load['ra'], load['dec']], names= ['Pulsar', 'Pulsar RA', 'Pulsar DEC', 'Binary', 'Bin Comp',\n",
    "                                                     'ra', 'dec'])"
   ]
  },
  {
   "cell_type": "code",
   "execution_count": 7,
   "metadata": {},
   "outputs": [],
   "source": [
    "# create a subset of 'superset' that contains just pulsars known (according to ATNF) to be in binaries\n",
    "\n",
    "subset = superset\n",
    "l = 0\n",
    "for k in subset['Binary']:\n",
    "    if k == '*':\n",
    "        subset.remove_row(l)\n",
    "    else:\n",
    "        l += 1"
   ]
  },
  {
   "cell_type": "code",
   "execution_count": 8,
   "metadata": {},
   "outputs": [],
   "source": [
    "# add to this new subset table, separations of each pulsar from the given Gaia source\n",
    "\n",
    "# SkyCoord for each pulsar and Gaia source, respectively\n",
    "psr_pos = SkyCoord(subset['Pulsar RA'], subset['Pulsar DEC'], frame = 'icrs', unit =(u.hourangle, u.deg))\n",
    "source_pos = SkyCoord(subset['ra'], subset['dec'], frame = 'icrs', unit= (u.deg, u.deg))\n",
    "\n",
    "source_seps = []\n",
    "first_time = True\n",
    "# this for loop will create a table of the sky separations fo each pulsar and Gaia source pair in the astropy table\n",
    "for k in range(len(subset)):\n",
    "    if first_time:\n",
    "        source_seps.insert(0,psr_pos[k].separation(source_pos[k]))\n",
    "        first_time = False\n",
    "    else:\n",
    "        source_seps.append(psr_pos[k].separation(source_pos[k]))\n",
    "\n",
    "subset.add_column(source_seps, name = 'Separation')"
   ]
  },
  {
   "cell_type": "code",
   "execution_count": 9,
   "metadata": {},
   "outputs": [],
   "source": [
    "# make an array of ranges of radii to test -- from 0 to 10 arcsec\n",
    "radii = np.linspace(0,10,100)"
   ]
  },
  {
   "cell_type": "code",
   "execution_count": 11,
   "metadata": {},
   "outputs": [],
   "source": [
    "# calculate probability of detection (pd) and probability of false alarm (pfa)\n",
    "\n",
    "total_psrs = 1\n",
    "n_hits_true = 1\n",
    "n_hits_false = 1\n",
    "\n",
    "pd = n_hits_true / total_psrs\n",
    "pfa = n_hits_false / total_psrs\n",
    "\n",
    "#calculate the number of total individual pulsars (no reduplication)\n",
    "current = 'J0024-7204E'\n",
    "psrs_with_hits = [current] # total number of PULSARS with hits, distinct from total number of hits\n",
    "pwh_binary = ['DD']\n",
    "for b in range(len(subset['Pulsar'])):\n",
    "    if subset['Pulsar'][b] != current:\n",
    "        psrs_with_hits.append(subset['Pulsar'][b])\n",
    "        pwh_binary.append(subset['Binary'][b])\n",
    "        current = subset['Pulsar'][b] "
   ]
  },
  {
   "cell_type": "code",
   "execution_count": 12,
   "metadata": {},
   "outputs": [
    {
     "data": {
      "text/html": [
       "<div><i>Table length=15</i>\n",
       "<table id=\"table140246737453792\" class=\"table-striped table-bordered table-condensed\">\n",
       "<thead><tr><th>Pulsar</th><th>Pulsar RA</th><th>Pulsar DEC</th><th>ra</th><th>dec</th><th>Binary</th><th>Separation</th></tr></thead>\n",
       "<thead><tr><th></th><th></th><th></th><th></th><th></th><th></th><th>deg</th></tr></thead>\n",
       "<thead><tr><th>str12</th><th>str16</th><th>str16</th><th>str18</th><th>str19</th><th>str6</th><th>float64</th></tr></thead>\n",
       "<tr><td>J0024-7204Y</td><td>00:24:01.4026</td><td>-72:04:41.8363</td><td>6.001653822714394</td><td>-72.08071400891852</td><td>ELL1</td><td>0.0027474776346458223</td></tr>\n",
       "<tr><td>J0337+1715</td><td>03:37:43.82589</td><td>+17:15:14.828</td><td>54.43261340914772</td><td>17.254115461920154</td><td>ELL1</td><td>6.29892323013655e-06</td></tr>\n",
       "<tr><td>J0348+0432</td><td>03:48:43.639000</td><td>+04:32:11.4580</td><td>57.18183331779655</td><td>4.5365161957787254</td><td>ELL1</td><td>4.1389910062538866e-06</td></tr>\n",
       "<tr><td>J0437-4715</td><td>04:37:15.8961737</td><td>-47:15:09.110714</td><td>69.31662758499185</td><td>-47.25268764316094</td><td>T2</td><td>0.00030978067618349044</td></tr>\n",
       "<tr><td>J0514-4002A</td><td>05:14:06.69271</td><td>-40:02:48.8930</td><td>78.52799552909461</td><td>-40.04700266794965</td><td>DDH</td><td>0.00012135601305043101</td></tr>\n",
       "<tr><td>J0514-4002A</td><td>05:14:06.69271</td><td>-40:02:48.8930</td><td>78.5280939738137</td><td>-40.046497857750886</td><td>DDH</td><td>0.00044615264121269373</td></tr>\n",
       "<tr><td>J0514-4002A</td><td>05:14:06.69271</td><td>-40:02:48.8930</td><td>78.52753203005061</td><td>-40.04733050061802</td><td>DDH</td><td>0.0004964042623038699</td></tr>\n",
       "<tr><td>J0514-4002A</td><td>05:14:06.69271</td><td>-40:02:48.8930</td><td>78.52797467644648</td><td>-40.0464105346105</td><td>DDH</td><td>0.0005087072581887858</td></tr>\n",
       "<tr><td>J0514-4002A</td><td>05:14:06.69271</td><td>-40:02:48.8930</td><td>78.52726393115381</td><td>-40.04711103452705</td><td>DDH</td><td>0.000515287872106239</td></tr>\n",
       "<tr><td>J0514-4002A</td><td>05:14:06.69271</td><td>-40:02:48.8930</td><td>78.52770064639515</td><td>-40.046424143536434</td><td>DDH</td><td>0.0005107486666565406</td></tr>\n",
       "<tr><td>J0514-4002A</td><td>05:14:06.69271</td><td>-40:02:48.8930</td><td>78.52876815654382</td><td>-40.04662614376366</td><td>DDH</td><td>0.0007341777290921057</td></tr>\n",
       "<tr><td>J0514-4002A</td><td>05:14:06.69271</td><td>-40:02:48.8930</td><td>78.52780506386323</td><td>-40.047681573254295</td><td>DDH</td><td>0.0007693679095471038</td></tr>\n",
       "<tr><td>J0514-4002A</td><td>05:14:06.69271</td><td>-40:02:48.8930</td><td>78.52687123914639</td><td>-40.04689837119268</td><td>DDH</td><td>0.0007772129434260007</td></tr>\n",
       "<tr><td>J0514-4002A</td><td>05:14:06.69271</td><td>-40:02:48.8930</td><td>78.5288380967254</td><td>-40.047252336510844</td><td>DDH</td><td>0.0008030400868946705</td></tr>\n",
       "<tr><td>J0514-4002A</td><td>05:14:06.69271</td><td>-40:02:48.8930</td><td>78.52869626824928</td><td>-40.04641220452694</td><td>DDH</td><td>0.0007981170227735039</td></tr>\n",
       "</table></div>"
      ],
      "text/plain": [
       "<Table length=15>\n",
       "   Pulsar      Pulsar RA        Pulsar DEC    ... Binary       Separation      \n",
       "                                              ...                 deg          \n",
       "   str12         str16            str16       ...  str6         float64        \n",
       "----------- ---------------- ---------------- ... ------ ----------------------\n",
       "J0024-7204Y    00:24:01.4026   -72:04:41.8363 ...   ELL1  0.0027474776346458223\n",
       " J0337+1715   03:37:43.82589    +17:15:14.828 ...   ELL1   6.29892323013655e-06\n",
       " J0348+0432  03:48:43.639000   +04:32:11.4580 ...   ELL1 4.1389910062538866e-06\n",
       " J0437-4715 04:37:15.8961737 -47:15:09.110714 ...     T2 0.00030978067618349044\n",
       "J0514-4002A   05:14:06.69271   -40:02:48.8930 ...    DDH 0.00012135601305043101\n",
       "J0514-4002A   05:14:06.69271   -40:02:48.8930 ...    DDH 0.00044615264121269373\n",
       "J0514-4002A   05:14:06.69271   -40:02:48.8930 ...    DDH  0.0004964042623038699\n",
       "J0514-4002A   05:14:06.69271   -40:02:48.8930 ...    DDH  0.0005087072581887858\n",
       "J0514-4002A   05:14:06.69271   -40:02:48.8930 ...    DDH   0.000515287872106239\n",
       "J0514-4002A   05:14:06.69271   -40:02:48.8930 ...    DDH  0.0005107486666565406\n",
       "J0514-4002A   05:14:06.69271   -40:02:48.8930 ...    DDH  0.0007341777290921057\n",
       "J0514-4002A   05:14:06.69271   -40:02:48.8930 ...    DDH  0.0007693679095471038\n",
       "J0514-4002A   05:14:06.69271   -40:02:48.8930 ...    DDH  0.0007772129434260007\n",
       "J0514-4002A   05:14:06.69271   -40:02:48.8930 ...    DDH  0.0008030400868946705\n",
       "J0514-4002A   05:14:06.69271   -40:02:48.8930 ...    DDH  0.0007981170227735039"
      ]
     },
     "execution_count": 12,
     "metadata": {},
     "output_type": "execute_result"
    }
   ],
   "source": [
    "# toy model with a small enough separation that it is easy to go in by hand to do:\n",
    "subset[400:415]"
   ]
  }
 ],
 "metadata": {
  "kernelspec": {
   "display_name": "BinaryPulsarDistances",
   "language": "python",
   "name": "python3"
  },
  "language_info": {
   "codemirror_mode": {
    "name": "ipython",
    "version": 3
   },
   "file_extension": ".py",
   "mimetype": "text/x-python",
   "name": "python",
   "nbconvert_exporter": "python",
   "pygments_lexer": "ipython3",
   "version": "3.10.9"
  },
  "orig_nbformat": 4,
  "vscode": {
   "interpreter": {
    "hash": "173ce9f5df4540debe7fdf8b8722a06559c87010648d22b7cdb98e7ad04d1d7a"
   }
  }
 },
 "nbformat": 4,
 "nbformat_minor": 2
}
