{
 "cells": [
  {
   "cell_type": "code",
   "execution_count": 1,
   "metadata": {},
   "outputs": [
    {
     "data": {
      "text/plain": [
       "'\\nCreated November 2023\\n\\n@author: Annika Deutsch\\n@date: 11/2023\\n@title: roc_curves.ipynb\\n@description: For a subset of pulsars with known binary companions, calculate roc curves to determine the ideal search radius \\nto be performing the query in\\n'"
      ]
     },
     "execution_count": 1,
     "metadata": {},
     "output_type": "execute_result"
    }
   ],
   "source": [
    "\"\"\"\n",
    "Created November 2023\n",
    "\n",
    "@author: Annika Deutsch\n",
    "@date: 11/2023\n",
    "@title: roc_curves.ipynb\n",
    "@description: For a subset of pulsars with known binary companions, calculate roc curves to determine the ideal search radius \n",
    "to be performing the query in\n",
    "\"\"\""
   ]
  },
  {
   "cell_type": "markdown",
   "metadata": {},
   "source": [
    "## Imports"
   ]
  },
  {
   "cell_type": "code",
   "execution_count": 2,
   "metadata": {},
   "outputs": [],
   "source": [
    "import astropy\n",
    "import astropy.units as u\n",
    "import astroquery\n",
    "from astroquery.gaia import Gaia\n",
    "from astropy.coordinates import SkyCoord\n",
    "from astropy.coordinates import Angle\n",
    "import numpy as np\n",
    "import matplotlib.pyplot as plt\n",
    "from astropy.visualization import quantity_support\n",
    "from astropy.time import Time \n",
    "import os\n",
    "from astropy.io.votable import parse_single_table\n",
    "from astropy.time import Time\n",
    "import pytest\n",
    "from astropy.table import Table, vstack\n",
    "import csv\n",
    "import pandas as pd\n",
    "from astropy.io.votable import from_table, writeto"
   ]
  },
  {
   "cell_type": "markdown",
   "metadata": {},
   "source": [
    "## Load in Table of Matches"
   ]
  },
  {
   "cell_type": "code",
   "execution_count": 3,
   "metadata": {},
   "outputs": [],
   "source": [
    "npz = np.load('/home/billee/Binary-Pulsar-Distances/Binary_Pulsar_Distances/cross-matches/matches_10arcsec_11-1_sourceseps.npz', allow_pickle=True)\n",
    "table = Table(npz['arr_0'])"
   ]
  },
  {
   "cell_type": "code",
   "execution_count": 29,
   "metadata": {},
   "outputs": [
    {
     "data": {
      "text/html": [
       "<div><i>Table length=1</i>\n",
       "<table id=\"table140000682993232\" class=\"table-striped table-bordered table-condensed\">\n",
       "<thead><tr><th>Companion Pulsar</th><th>Pulsar RA</th><th>Pulsar DEC</th><th>Binary</th><th>Binary Companion</th><th>solution_id</th><th>DESIGNATION</th><th>source_id</th><th>random_index</th><th>ref_epoch</th><th>ra</th><th>ra_error</th><th>dec</th><th>dec_error</th><th>source_seps</th><th>parallax</th><th>parallax_error</th><th>parallax_over_error</th><th>pm</th><th>pmra</th><th>pmra_error</th><th>pmdec</th><th>pmdec_error</th><th>ra_dec_corr</th><th>ra_parallax_corr</th><th>ra_pmra_corr</th><th>ra_pmdec_corr</th><th>dec_parallax_corr</th><th>dec_pmra_corr</th><th>dec_pmdec_corr</th><th>parallax_pmra_corr</th><th>parallax_pmdec_corr</th><th>pmra_pmdec_corr</th><th>astrometric_n_obs_al</th><th>astrometric_n_obs_ac</th><th>astrometric_n_good_obs_al</th><th>astrometric_n_bad_obs_al</th><th>astrometric_gof_al</th><th>astrometric_chi2_al</th><th>astrometric_excess_noise</th><th>astrometric_excess_noise_sig</th><th>astrometric_params_solved</th><th>astrometric_primary_flag</th><th>nu_eff_used_in_astrometry</th><th>pseudocolour</th><th>pseudocolour_error</th><th>ra_pseudocolour_corr</th><th>dec_pseudocolour_corr</th><th>parallax_pseudocolour_corr</th><th>pmra_pseudocolour_corr</th><th>pmdec_pseudocolour_corr</th><th>astrometric_matched_transits</th><th>visibility_periods_used</th><th>astrometric_sigma5d_max</th><th>matched_transits</th><th>new_matched_transits</th><th>matched_transits_removed</th><th>ipd_gof_harmonic_amplitude</th><th>ipd_gof_harmonic_phase</th><th>ipd_frac_multi_peak</th><th>ipd_frac_odd_win</th><th>ruwe</th><th>scan_direction_strength_k1</th><th>scan_direction_strength_k2</th><th>scan_direction_strength_k3</th><th>scan_direction_strength_k4</th><th>scan_direction_mean_k1</th><th>scan_direction_mean_k2</th><th>scan_direction_mean_k3</th><th>scan_direction_mean_k4</th><th>duplicated_source</th><th>phot_g_n_obs</th><th>phot_g_mean_flux</th><th>phot_g_mean_flux_error</th><th>phot_g_mean_flux_over_error</th><th>phot_g_mean_mag</th><th>phot_bp_n_obs</th><th>phot_bp_mean_flux</th><th>phot_bp_mean_flux_error</th><th>phot_bp_mean_flux_over_error</th><th>phot_bp_mean_mag</th><th>phot_rp_n_obs</th><th>phot_rp_mean_flux</th><th>phot_rp_mean_flux_error</th><th>phot_rp_mean_flux_over_error</th><th>phot_rp_mean_mag</th><th>phot_bp_rp_excess_factor</th><th>phot_bp_n_contaminated_transits</th><th>phot_bp_n_blended_transits</th><th>phot_rp_n_contaminated_transits</th><th>phot_rp_n_blended_transits</th><th>phot_proc_mode</th><th>bp_rp</th><th>bp_g</th><th>g_rp</th><th>radial_velocity</th><th>radial_velocity_error</th><th>rv_method_used</th><th>rv_nb_transits</th><th>rv_nb_deblended_transits</th><th>rv_visibility_periods_used</th><th>rv_expected_sig_to_noise</th><th>rv_renormalised_gof</th><th>rv_chisq_pvalue</th><th>rv_time_duration</th><th>rv_amplitude_robust</th><th>rv_template_teff</th><th>rv_template_logg</th><th>rv_template_fe_h</th><th>rv_atm_param_origin</th><th>vbroad</th><th>vbroad_error</th><th>vbroad_nb_transits</th><th>grvs_mag</th><th>grvs_mag_error</th><th>grvs_mag_nb_transits</th><th>rvs_spec_sig_to_noise</th><th>phot_variable_flag</th><th>l</th><th>b</th><th>ecl_lon</th><th>ecl_lat</th><th>in_qso_candidates</th><th>in_galaxy_candidates</th><th>non_single_star</th><th>has_xp_continuous</th><th>has_xp_sampled</th><th>has_rvs</th><th>has_epoch_photometry</th><th>has_epoch_rv</th><th>has_mcmc_gspphot</th><th>has_mcmc_msc</th><th>in_andromeda_survey</th><th>classprob_dsc_combmod_quasar</th><th>classprob_dsc_combmod_galaxy</th><th>classprob_dsc_combmod_star</th><th>teff_gspphot</th><th>teff_gspphot_lower</th><th>teff_gspphot_upper</th><th>logg_gspphot</th><th>logg_gspphot_lower</th><th>logg_gspphot_upper</th><th>mh_gspphot</th><th>mh_gspphot_lower</th><th>mh_gspphot_upper</th><th>distance_gspphot</th><th>distance_gspphot_lower</th><th>distance_gspphot_upper</th><th>azero_gspphot</th><th>azero_gspphot_lower</th><th>azero_gspphot_upper</th><th>ag_gspphot</th><th>ag_gspphot_lower</th><th>ag_gspphot_upper</th><th>ebpminrp_gspphot</th><th>ebpminrp_gspphot_lower</th><th>ebpminrp_gspphot_upper</th><th>libname_gspphot</th><th>dist</th></tr></thead>\n",
       "<thead><tr><th>str12</th><th>str16</th><th>str16</th><th>str6</th><th>str16</th><th>int64</th><th>object</th><th>int64</th><th>int64</th><th>float64</th><th>float64</th><th>float32</th><th>float64</th><th>float32</th><th>float64</th><th>float64</th><th>float32</th><th>float32</th><th>float32</th><th>float64</th><th>float32</th><th>float64</th><th>float32</th><th>float32</th><th>float32</th><th>float32</th><th>float32</th><th>float32</th><th>float32</th><th>float32</th><th>float32</th><th>float32</th><th>float32</th><th>int16</th><th>int16</th><th>int16</th><th>int16</th><th>float32</th><th>float32</th><th>float32</th><th>float32</th><th>int16</th><th>bool</th><th>float32</th><th>float32</th><th>float32</th><th>float32</th><th>float32</th><th>float32</th><th>float32</th><th>float32</th><th>int16</th><th>int16</th><th>float32</th><th>int16</th><th>int16</th><th>int16</th><th>float32</th><th>float32</th><th>int16</th><th>int16</th><th>float32</th><th>float32</th><th>float32</th><th>float32</th><th>float32</th><th>float32</th><th>float32</th><th>float32</th><th>float32</th><th>bool</th><th>int16</th><th>float64</th><th>float32</th><th>float32</th><th>float32</th><th>int16</th><th>float64</th><th>float32</th><th>float32</th><th>float32</th><th>int16</th><th>float64</th><th>float32</th><th>float32</th><th>float32</th><th>float32</th><th>int16</th><th>int16</th><th>int16</th><th>int16</th><th>int16</th><th>float32</th><th>float32</th><th>float32</th><th>float32</th><th>float32</th><th>int16</th><th>int16</th><th>int16</th><th>int16</th><th>float32</th><th>float32</th><th>float32</th><th>float32</th><th>float32</th><th>float32</th><th>float32</th><th>float32</th><th>int16</th><th>float32</th><th>float32</th><th>int16</th><th>float32</th><th>float32</th><th>int16</th><th>float32</th><th>object</th><th>float64</th><th>float64</th><th>float64</th><th>float64</th><th>bool</th><th>bool</th><th>int16</th><th>bool</th><th>bool</th><th>bool</th><th>bool</th><th>bool</th><th>bool</th><th>bool</th><th>bool</th><th>float32</th><th>float32</th><th>float32</th><th>float32</th><th>float32</th><th>float32</th><th>float32</th><th>float32</th><th>float32</th><th>float32</th><th>float32</th><th>float32</th><th>float32</th><th>float32</th><th>float32</th><th>float32</th><th>float32</th><th>float32</th><th>float32</th><th>float32</th><th>float32</th><th>float32</th><th>float32</th><th>float32</th><th>object</th><th>float64</th></tr></thead>\n",
       "<tr><td>J1023+0038</td><td>10:23:47.68720</td><td>+00:38:40.8455</td><td>T2</td><td>MS[asr+09]</td><td>1636148068921376768</td><td>Gaia DR3 3831382647922429952</td><td>3831382647922429952</td><td>1711732018</td><td>2016.0</td><td>155.94870458335123</td><td>0.05794982</td><td>0.6446470547528212</td><td>0.05493738</td><td>3.320813511488371e-05</td><td>0.6861708101572905</td><td>0.07056036</td><td>9.724594</td><td>17.885328</td><td>4.609895324338583</td><td>0.07148281</td><td>-17.281024260717615</td><td>0.07716389</td><td>-0.34902003</td><td>-0.54602903</td><td>-0.24097973</td><td>0.04150945</td><td>0.045023143</td><td>-0.13731524</td><td>0.054425795</td><td>0.30568787</td><td>-0.28946456</td><td>-0.4659887</td><td>152</td><td>0</td><td>152</td><td>0</td><td>0.16780494</td><td>155.44107</td><td>0.0</td><td>0.0</td><td>31</td><td>False</td><td>1.5914227</td><td>nan</td><td>nan</td><td>nan</td><td>nan</td><td>nan</td><td>nan</td><td>nan</td><td>18</td><td>13</td><td>0.12669198</td><td>20</td><td>7</td><td>0</td><td>0.29658115</td><td>15.742154</td><td>2</td><td>0</td><td>1.0075284</td><td>0.40011525</td><td>0.37251619</td><td>0.36349437</td><td>0.8839783</td><td>-137.19353</td><td>52.612434</td><td>2.0857825</td><td>-25.97886</td><td>False</td><td>170</td><td>6055.14264022624</td><td>110.946175</td><td>54.5773</td><td>16.232056</td><td>18</td><td>3276.162502226279</td><td>193.06996</td><td>16.968784</td><td>16.550129</td><td>18</td><td>3786.004561484927</td><td>199.63097</td><td>18.965017</td><td>15.802443</td><td>1.166309</td><td>0</td><td>2</td><td>0</td><td>1</td><td>0</td><td>0.7476864</td><td>0.31807327</td><td>0.4296131</td><td>nan</td><td>nan</td><td>0</td><td>0</td><td>0</td><td>0</td><td>nan</td><td>nan</td><td>nan</td><td>nan</td><td>nan</td><td>nan</td><td>nan</td><td>nan</td><td>0</td><td>nan</td><td>nan</td><td>0</td><td>nan</td><td>nan</td><td>0</td><td>nan</td><td>VARIABLE</td><td>243.4895915647394</td><td>45.78224492606224</td><td>157.4921121226626</td><td>-8.730257523325635</td><td>False</td><td>False</td><td>0</td><td>False</td><td>False</td><td>False</td><td>True</td><td>False</td><td>True</td><td>True</td><td>False</td><td>1.3214785e-07</td><td>7.153848e-09</td><td>0.9999877</td><td>5965.6387</td><td>5961.6084</td><td>5977.7324</td><td>4.6542</td><td>4.6386</td><td>4.6688</td><td>-4.1191</td><td>-4.1415</td><td>-4.0809</td><td>1417.9126</td><td>1400.048</td><td>1436.7054</td><td>0.0074</td><td>0.002</td><td>0.0162</td><td>0.0063</td><td>0.0017</td><td>0.0138</td><td>0.0035</td><td>0.0009</td><td>0.0077</td><td>MARCS</td><td>8.008664335782849e-06</td></tr>\n",
       "</table></div>"
      ],
      "text/plain": [
       "<Table length=1>\n",
       "Companion Pulsar   Pulsar RA    ... libname_gspphot          dist        \n",
       "     str12           str16      ...      object            float64       \n",
       "---------------- -------------- ... --------------- ---------------------\n",
       "      J1023+0038 10:23:47.68720 ...           MARCS 8.008664335782849e-06"
      ]
     },
     "execution_count": 29,
     "metadata": {},
     "output_type": "execute_result"
    }
   ],
   "source": [
    "cond = table['Companion Pulsar'] == 'J1023+0038'\n",
    "table[cond]"
   ]
  },
  {
   "cell_type": "markdown",
   "metadata": {},
   "source": [
    "## Load in Tables of \"Known\" Matches (sets with which to determine true vs/ false)"
   ]
  },
  {
   "cell_type": "code",
   "execution_count": 18,
   "metadata": {},
   "outputs": [],
   "source": [
    "# jennings paper\n",
    "jennings_psrs = ['J0337+1715', 'J0437-4715', 'J1012+5307', 'J1023+0038', 'J1227-4853', 'J1302-6350', 'J1417-4402', 'J1431-4715', \n",
    "                   'J1723-2837', 'J2032+4127', 'J2129-0429', 'J2339-0533', 'J0045-7319', 'J0348+0432', 'J1024-0719', 'J1048+2339',\n",
    "                   'J1311-3430', 'J1628-3205', 'J1810+1744', 'J1816+4510', 'J1957+2516', 'J2215+5135']\n",
    "jennings_gmags = [18.08, 20.41, 19.63, 16.27, 18.08, 9.63, 15.79, 17.75, 15.55, 11.36, 16.84, 18.97, 16.22, 20.64, 19.18, 19.65, 20.53,\n",
    "                  19.52, 20.08, 18.22, 20.30, 19.24]\n",
    "\n",
    "jennings = Table([jennings_psrs, jennings_gmags], names=('Companion Pulsar', 'G mag'))"
   ]
  },
  {
   "cell_type": "markdown",
   "metadata": {},
   "source": [
    "## Create tables of radii, prob detec., prob fa, and save in astropy table"
   ]
  },
  {
   "cell_type": "code",
   "execution_count": 35,
   "metadata": {},
   "outputs": [],
   "source": [
    "radii = np.linspace(0.1,10,100)\n",
    "p_d = np.zeros(len(radii))\n",
    "p_fa = np.zeros(len(radii))\n",
    "\n",
    "roc = Table([radii, p_d, p_fa], names=('Search Radii', 'Probability of Detection', 'Probaility of False Alarm'))"
   ]
  },
  {
   "cell_type": "markdown",
   "metadata": {},
   "source": [
    "## Calculate Probabilities"
   ]
  },
  {
   "cell_type": "code",
   "execution_count": null,
   "metadata": {},
   "outputs": [],
   "source": [
    "cond = Angle(table['source_seps'], unit=u.deg).arcsec <= 0.1\n",
    "temp_table = table[cond]\n",
    "temp_table"
   ]
  },
  {
   "cell_type": "code",
   "execution_count": null,
   "metadata": {},
   "outputs": [
    {
     "ename": "ZeroDivisionError",
     "evalue": "division by zero",
     "output_type": "error",
     "traceback": [
      "\u001b[0;31m---------------------------------------------------------------------------\u001b[0m",
      "\u001b[0;31mZeroDivisionError\u001b[0m                         Traceback (most recent call last)",
      "\u001b[1;32m/home/billee/Binary-Pulsar-Distances/Binary_Pulsar_Distances/roc_curves.ipynb Cell 12\u001b[0m line \u001b[0;36m2\n\u001b[1;32m     <a href='vscode-notebook-cell://wsl%2Bubuntu-20.04/home/billee/Binary-Pulsar-Distances/Binary_Pulsar_Distances/roc_curves.ipynb#X26sdnNjb2RlLXJlbW90ZQ%3D%3D?line=16'>17</a>\u001b[0m     \u001b[39melse\u001b[39;00m:\n\u001b[1;32m     <a href='vscode-notebook-cell://wsl%2Bubuntu-20.04/home/billee/Binary-Pulsar-Distances/Binary_Pulsar_Distances/roc_curves.ipynb#X26sdnNjb2RlLXJlbW90ZQ%3D%3D?line=17'>18</a>\u001b[0m         nfalse \u001b[39m+\u001b[39m\u001b[39m=\u001b[39m \u001b[39m1\u001b[39m\n\u001b[0;32m---> <a href='vscode-notebook-cell://wsl%2Bubuntu-20.04/home/billee/Binary-Pulsar-Distances/Binary_Pulsar_Distances/roc_curves.ipynb#X26sdnNjb2RlLXJlbW90ZQ%3D%3D?line=19'>20</a>\u001b[0m p_d[i] \u001b[39m=\u001b[39m ntrue \u001b[39m/\u001b[39;49m npsrs\n\u001b[1;32m     <a href='vscode-notebook-cell://wsl%2Bubuntu-20.04/home/billee/Binary-Pulsar-Distances/Binary_Pulsar_Distances/roc_curves.ipynb#X26sdnNjb2RlLXJlbW90ZQ%3D%3D?line=20'>21</a>\u001b[0m p_fa[i] \u001b[39m=\u001b[39m nfalse \u001b[39m/\u001b[39m npsrs\n",
      "\u001b[0;31mZeroDivisionError\u001b[0m: division by zero"
     ]
    }
   ],
   "source": [
    "# iterate through radii and calculate probabilities\n",
    "for i in range(len(radii)):\n",
    "    cond = Angle(table['source_seps'], unit=u.deg).arcsec <= radii[i] # limit table to this radius\n",
    "    temp_table = table[cond]\n",
    "    npsrs = len(temp_table)\n",
    "\n",
    "    # iterate through each pulsar in temp_table, and check if it is in reference list\n",
    "    ntrue = 0\n",
    "    nfalse = 0\n",
    "    for j in temp_table:\n",
    "        hit = False\n",
    "        for k in jennings:\n",
    "            if temp_table[j]['Companion Pulsar'] == jennings[k]['Companion Pulsar']:\n",
    "                hit = True\n",
    "        if hit:\n",
    "            ntrue += 1\n",
    "        else:\n",
    "            nfalse += 1\n",
    "    \n",
    "    p_d[i] = ntrue / npsrs\n",
    "    p_fa[i] = nfalse / npsrs"
   ]
  },
  {
   "cell_type": "code",
   "execution_count": 11,
   "metadata": {},
   "outputs": [],
   "source": [
    "# calculate probability of detection (pd) and probability of false alarm (pfa)\n",
    "\n",
    "total_psrs = 1\n",
    "n_hits_true = 1\n",
    "n_hits_false = 1\n",
    "\n",
    "pd = n_hits_true / total_psrs\n",
    "pfa = n_hits_false / total_psrs\n",
    "\n",
    "#calculate the number of total individual pulsars (no reduplication)\n",
    "current = 'J0024-7204E'\n",
    "psrs_with_hits = [current] # total number of PULSARS with hits, distinct from total number of hits\n",
    "pwh_binary = ['DD']\n",
    "for b in range(len(subset['Pulsar'])):\n",
    "    if subset['Pulsar'][b] != current:\n",
    "        psrs_with_hits.append(subset['Pulsar'][b])\n",
    "        pwh_binary.append(subset['Binary'][b])\n",
    "        current = subset['Pulsar'][b] "
   ]
  },
  {
   "cell_type": "code",
   "execution_count": 12,
   "metadata": {},
   "outputs": [
    {
     "data": {
      "text/html": [
       "<div><i>Table length=15</i>\n",
       "<table id=\"table140246737453792\" class=\"table-striped table-bordered table-condensed\">\n",
       "<thead><tr><th>Pulsar</th><th>Pulsar RA</th><th>Pulsar DEC</th><th>ra</th><th>dec</th><th>Binary</th><th>Separation</th></tr></thead>\n",
       "<thead><tr><th></th><th></th><th></th><th></th><th></th><th></th><th>deg</th></tr></thead>\n",
       "<thead><tr><th>str12</th><th>str16</th><th>str16</th><th>str18</th><th>str19</th><th>str6</th><th>float64</th></tr></thead>\n",
       "<tr><td>J0024-7204Y</td><td>00:24:01.4026</td><td>-72:04:41.8363</td><td>6.001653822714394</td><td>-72.08071400891852</td><td>ELL1</td><td>0.0027474776346458223</td></tr>\n",
       "<tr><td>J0337+1715</td><td>03:37:43.82589</td><td>+17:15:14.828</td><td>54.43261340914772</td><td>17.254115461920154</td><td>ELL1</td><td>6.29892323013655e-06</td></tr>\n",
       "<tr><td>J0348+0432</td><td>03:48:43.639000</td><td>+04:32:11.4580</td><td>57.18183331779655</td><td>4.5365161957787254</td><td>ELL1</td><td>4.1389910062538866e-06</td></tr>\n",
       "<tr><td>J0437-4715</td><td>04:37:15.8961737</td><td>-47:15:09.110714</td><td>69.31662758499185</td><td>-47.25268764316094</td><td>T2</td><td>0.00030978067618349044</td></tr>\n",
       "<tr><td>J0514-4002A</td><td>05:14:06.69271</td><td>-40:02:48.8930</td><td>78.52799552909461</td><td>-40.04700266794965</td><td>DDH</td><td>0.00012135601305043101</td></tr>\n",
       "<tr><td>J0514-4002A</td><td>05:14:06.69271</td><td>-40:02:48.8930</td><td>78.5280939738137</td><td>-40.046497857750886</td><td>DDH</td><td>0.00044615264121269373</td></tr>\n",
       "<tr><td>J0514-4002A</td><td>05:14:06.69271</td><td>-40:02:48.8930</td><td>78.52753203005061</td><td>-40.04733050061802</td><td>DDH</td><td>0.0004964042623038699</td></tr>\n",
       "<tr><td>J0514-4002A</td><td>05:14:06.69271</td><td>-40:02:48.8930</td><td>78.52797467644648</td><td>-40.0464105346105</td><td>DDH</td><td>0.0005087072581887858</td></tr>\n",
       "<tr><td>J0514-4002A</td><td>05:14:06.69271</td><td>-40:02:48.8930</td><td>78.52726393115381</td><td>-40.04711103452705</td><td>DDH</td><td>0.000515287872106239</td></tr>\n",
       "<tr><td>J0514-4002A</td><td>05:14:06.69271</td><td>-40:02:48.8930</td><td>78.52770064639515</td><td>-40.046424143536434</td><td>DDH</td><td>0.0005107486666565406</td></tr>\n",
       "<tr><td>J0514-4002A</td><td>05:14:06.69271</td><td>-40:02:48.8930</td><td>78.52876815654382</td><td>-40.04662614376366</td><td>DDH</td><td>0.0007341777290921057</td></tr>\n",
       "<tr><td>J0514-4002A</td><td>05:14:06.69271</td><td>-40:02:48.8930</td><td>78.52780506386323</td><td>-40.047681573254295</td><td>DDH</td><td>0.0007693679095471038</td></tr>\n",
       "<tr><td>J0514-4002A</td><td>05:14:06.69271</td><td>-40:02:48.8930</td><td>78.52687123914639</td><td>-40.04689837119268</td><td>DDH</td><td>0.0007772129434260007</td></tr>\n",
       "<tr><td>J0514-4002A</td><td>05:14:06.69271</td><td>-40:02:48.8930</td><td>78.5288380967254</td><td>-40.047252336510844</td><td>DDH</td><td>0.0008030400868946705</td></tr>\n",
       "<tr><td>J0514-4002A</td><td>05:14:06.69271</td><td>-40:02:48.8930</td><td>78.52869626824928</td><td>-40.04641220452694</td><td>DDH</td><td>0.0007981170227735039</td></tr>\n",
       "</table></div>"
      ],
      "text/plain": [
       "<Table length=15>\n",
       "   Pulsar      Pulsar RA        Pulsar DEC    ... Binary       Separation      \n",
       "                                              ...                 deg          \n",
       "   str12         str16            str16       ...  str6         float64        \n",
       "----------- ---------------- ---------------- ... ------ ----------------------\n",
       "J0024-7204Y    00:24:01.4026   -72:04:41.8363 ...   ELL1  0.0027474776346458223\n",
       " J0337+1715   03:37:43.82589    +17:15:14.828 ...   ELL1   6.29892323013655e-06\n",
       " J0348+0432  03:48:43.639000   +04:32:11.4580 ...   ELL1 4.1389910062538866e-06\n",
       " J0437-4715 04:37:15.8961737 -47:15:09.110714 ...     T2 0.00030978067618349044\n",
       "J0514-4002A   05:14:06.69271   -40:02:48.8930 ...    DDH 0.00012135601305043101\n",
       "J0514-4002A   05:14:06.69271   -40:02:48.8930 ...    DDH 0.00044615264121269373\n",
       "J0514-4002A   05:14:06.69271   -40:02:48.8930 ...    DDH  0.0004964042623038699\n",
       "J0514-4002A   05:14:06.69271   -40:02:48.8930 ...    DDH  0.0005087072581887858\n",
       "J0514-4002A   05:14:06.69271   -40:02:48.8930 ...    DDH   0.000515287872106239\n",
       "J0514-4002A   05:14:06.69271   -40:02:48.8930 ...    DDH  0.0005107486666565406\n",
       "J0514-4002A   05:14:06.69271   -40:02:48.8930 ...    DDH  0.0007341777290921057\n",
       "J0514-4002A   05:14:06.69271   -40:02:48.8930 ...    DDH  0.0007693679095471038\n",
       "J0514-4002A   05:14:06.69271   -40:02:48.8930 ...    DDH  0.0007772129434260007\n",
       "J0514-4002A   05:14:06.69271   -40:02:48.8930 ...    DDH  0.0008030400868946705\n",
       "J0514-4002A   05:14:06.69271   -40:02:48.8930 ...    DDH  0.0007981170227735039"
      ]
     },
     "execution_count": 12,
     "metadata": {},
     "output_type": "execute_result"
    }
   ],
   "source": [
    "# toy model with a small enough separation that it is easy to go in by hand to do:\n",
    "subset[400:415]"
   ]
  }
 ],
 "metadata": {
  "kernelspec": {
   "display_name": "BinaryPulsarDistances",
   "language": "python",
   "name": "python3"
  },
  "language_info": {
   "codemirror_mode": {
    "name": "ipython",
    "version": 3
   },
   "file_extension": ".py",
   "mimetype": "text/x-python",
   "name": "python",
   "nbconvert_exporter": "python",
   "pygments_lexer": "ipython3",
   "version": "3.10.9"
  },
  "orig_nbformat": 4,
  "vscode": {
   "interpreter": {
    "hash": "173ce9f5df4540debe7fdf8b8722a06559c87010648d22b7cdb98e7ad04d1d7a"
   }
  }
 },
 "nbformat": 4,
 "nbformat_minor": 2
}
