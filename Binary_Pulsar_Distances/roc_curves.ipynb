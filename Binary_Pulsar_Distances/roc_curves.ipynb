{
 "cells": [
  {
   "cell_type": "code",
   "execution_count": 1,
   "metadata": {},
   "outputs": [],
   "source": [
    "import astropy\n",
    "import astropy.units as u\n",
    "import astroquery\n",
    "from astroquery.gaia import Gaia\n",
    "from astropy.coordinates import SkyCoord\n",
    "from astropy.coordinates import Angle\n",
    "import numpy as np\n",
    "import matplotlib.pyplot as plt\n",
    "from astropy.visualization import quantity_support\n",
    "from astropy.time import Time \n",
    "import os\n",
    "from astropy.io.votable import parse_single_table\n",
    "from astropy.time import Time\n",
    "import pytest\n",
    "from astropy.table import Table, vstack\n",
    "import csv\n",
    "import pandas as pd\n",
    "from astropy.io.votable import from_table, writeto"
   ]
  }
 ],
 "metadata": {
  "kernelspec": {
   "display_name": "BinaryPulsarDistances",
   "language": "python",
   "name": "python3"
  },
  "language_info": {
   "codemirror_mode": {
    "name": "ipython",
    "version": 3
   },
   "file_extension": ".py",
   "mimetype": "text/x-python",
   "name": "python",
   "nbconvert_exporter": "python",
   "pygments_lexer": "ipython3",
   "version": "3.10.9"
  },
  "orig_nbformat": 4,
  "vscode": {
   "interpreter": {
    "hash": "173ce9f5df4540debe7fdf8b8722a06559c87010648d22b7cdb98e7ad04d1d7a"
   }
  }
 },
 "nbformat": 4,
 "nbformat_minor": 2
}
