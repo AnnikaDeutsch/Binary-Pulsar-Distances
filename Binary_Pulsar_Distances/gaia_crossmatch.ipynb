{
 "cells": [
  {
   "cell_type": "markdown",
   "metadata": {},
   "source": [
    "Notebook that attempts to use the Gaia [`crossmatch`](https://astroquery.readthedocs.io/en/latest/gaia/gaia.html#cross-match) function to run a geometric cross-match between the RA-DEC coordiantes of two tables. I have not yet gotten it to work"
   ]
  },
  {
   "cell_type": "code",
   "execution_count": 1,
   "metadata": {},
   "outputs": [],
   "source": [
    "from astroquery.gaia import Gaia\n",
    "from astropy.table import Table"
   ]
  },
  {
   "cell_type": "markdown",
   "metadata": {},
   "source": [
    "## Create an astropy table of the ATNF data to input"
   ]
  },
  {
   "cell_type": "code",
   "execution_count": 3,
   "metadata": {},
   "outputs": [],
   "source": [
    "f = open('/home/billee/Binary-Pulsar-Distances/Binary_Pulsar_Distances/atnf_csv_w_errors.csv', \"r\")\n",
    "first_time = True\n",
    "a1 = []\n",
    "a3 = []\n",
    "a4 = []\n",
    "a6 = []\n",
    "a7 = []\n",
    "a9 = []\n",
    "a10 = []\n",
    "a12 = []\n",
    "a13 = []\n",
    "a15 = []\n",
    "\n",
    "for line in f:\n",
    "    values = line.split(';')\n",
    "    if first_time:\n",
    "        a1.insert(0, values[1])\n",
    "        a3.insert(0, values[3])\n",
    "        a4.insert(0, values[4])\n",
    "        a6.insert(0, values[6])\n",
    "        a7.insert(0, values[7])\n",
    "        a9.insert(0, values[9])\n",
    "        a10.insert(0, values[10])\n",
    "        a12.insert(0, values[12])\n",
    "        a13.insert(0, values[13])\n",
    "        a15.insert(0, values[15])\n",
    "        first_time = False\n",
    "    else:\n",
    "        a1.append(values[1])\n",
    "        a3.append(values[3])\n",
    "        a4.append(values[4])\n",
    "        a6.append(values[6])\n",
    "        a7.append(values[7])\n",
    "        a9.append(values[9])\n",
    "        a10.append(values[10])\n",
    "        a12.append(values[12])\n",
    "        a13.append(values[13])\n",
    "        a15.append(values[15])\n",
    "\n",
    "atnf_psrs = Table([a1,a3,a4,a6,a7,a9,a10,a12,a13,a15], names= ['psr', 'ra', 'ra_err', 'dec', 'dec_err', 'pmra', \n",
    "                                                               'pmra_err', 'pmdec', 'pmdec_err', 'epoch'])"
   ]
  },
  {
   "cell_type": "code",
   "execution_count": null,
   "metadata": {},
   "outputs": [
    {
     "name": "stdout",
     "output_type": "stream",
     "text": [
      "INFO: Login to gaia TAP server [astroquery.gaia.core]\n",
      "OK\n",
      "INFO: Login to gaia data server [astroquery.gaia.core]\n",
      "OK\n",
      "Sending pytable.\n",
      "200 200\n",
      "[('Date', 'Thu, 02 Mar 2023 19:23:41 GMT'), ('Server', 'Apache/2.4.6 (CentOS) OpenSSL/1.0.2k-fips mod_jk/1.2.43'), ('Cache-Control', 'no-cache, no-store, max-age=0, must-revalidate'), ('Pragma', 'no-cache'), ('Expires', '0'), ('X-XSS-Protection', '1; mode=block'), ('X-Frame-Options', 'SAMEORIGIN'), ('X-Content-Type-Options', 'nosniff'), ('Transfer-Encoding', 'chunked'), ('Content-Type', 'text/plain;charset=ISO-8859-1')]\n",
      "Uploaded table 'atnf_allpsrs_new5'.\n",
      "Retrieving table 'atnf_allpsrs_new5'\n",
      "------>https\n",
      "host = gea.esac.esa.int:443\n",
      "context = /tap-server/tap/tables?tables=atnf_allpsrs_new5\n",
      "500 500\n",
      "ERROR: 500: 500\n",
      "500 Error 500:\n",
      "esavo.tap.TAPException: java.lang.NullPointerException\n"
     ]
    },
    {
     "ename": "HTTPError",
     "evalue": "Error 500:\nesavo.tap.TAPException: java.lang.NullPointerException",
     "output_type": "error",
     "traceback": [
      "\u001b[0;31m---------------------------------------------------------------------------\u001b[0m\n",
      "\u001b[0;31mHTTPError\u001b[0m                                 Traceback (most recent call last)\n",
      "\u001b[1;32m/home/annika_deutsch/Binary-Pulsar-Distances/Binary_Pulsar_Distances/nominal_positions.ipynb Cell 6\u001b[0m in \u001b[0;36m<cell line: 3>\u001b[0;34m()\u001b[0m\n",
      "\u001b[1;32m      <a href='vscode-notebook-cell://wsl%2Bubuntu/home/annika_deutsch/Binary-Pulsar-Distances/Binary_Pulsar_Distances/nominal_positions.ipynb#W5sdnNjb2RlLXJlbW90ZQ%3D%3D?line=0'>1</a>\u001b[0m Gaia\u001b[39m.\u001b[39mlogin()\n",
      "\u001b[1;32m      <a href='vscode-notebook-cell://wsl%2Bubuntu/home/annika_deutsch/Binary-Pulsar-Distances/Binary_Pulsar_Distances/nominal_positions.ipynb#W5sdnNjb2RlLXJlbW90ZQ%3D%3D?line=1'>2</a>\u001b[0m Gaia\u001b[39m.\u001b[39mupload_table(upload_resource\u001b[39m=\u001b[39matnf_psrs, table_name\u001b[39m=\u001b[39m\u001b[39m\"\u001b[39m\u001b[39matnf_allpsrs_new5\u001b[39m\u001b[39m\"\u001b[39m, verbose\u001b[39m=\u001b[39m\u001b[39mTrue\u001b[39;00m)\n",
      "\u001b[0;32m----> <a href='vscode-notebook-cell://wsl%2Bubuntu/home/annika_deutsch/Binary-Pulsar-Distances/Binary_Pulsar_Distances/nominal_positions.ipynb#W5sdnNjb2RlLXJlbW90ZQ%3D%3D?line=2'>3</a>\u001b[0m Gaia\u001b[39m.\u001b[39;49mupdate_user_table(table_name\u001b[39m=\u001b[39;49m\u001b[39m\"\u001b[39;49m\u001b[39matnf_allpsrs_new5\u001b[39;49m\u001b[39m\"\u001b[39;49m,\n",
      "\u001b[1;32m      <a href='vscode-notebook-cell://wsl%2Bubuntu/home/annika_deutsch/Binary-Pulsar-Distances/Binary_Pulsar_Distances/nominal_positions.ipynb#W5sdnNjb2RlLXJlbW90ZQ%3D%3D?line=3'>4</a>\u001b[0m                        list_of_changes\u001b[39m=\u001b[39;49m[[\u001b[39m\"\u001b[39;49m\u001b[39mra\u001b[39;49m\u001b[39m\"\u001b[39;49m, \u001b[39m\"\u001b[39;49m\u001b[39mflags\u001b[39;49m\u001b[39m\"\u001b[39;49m, \u001b[39m\"\u001b[39;49m\u001b[39mRa\u001b[39;49m\u001b[39m\"\u001b[39;49m], \n",
      "\u001b[1;32m      <a href='vscode-notebook-cell://wsl%2Bubuntu/home/annika_deutsch/Binary-Pulsar-Distances/Binary_Pulsar_Distances/nominal_positions.ipynb#W5sdnNjb2RlLXJlbW90ZQ%3D%3D?line=4'>5</a>\u001b[0m                                         [\u001b[39m\"\u001b[39;49m\u001b[39mdec\u001b[39;49m\u001b[39m\"\u001b[39;49m, \u001b[39m\"\u001b[39;49m\u001b[39mflags\u001b[39;49m\u001b[39m\"\u001b[39;49m, \u001b[39m\"\u001b[39;49m\u001b[39mDec\u001b[39;49m\u001b[39m\"\u001b[39;49m]], verbose\u001b[39m=\u001b[39;49m\u001b[39mTrue\u001b[39;49;00m)\n",
      "\n",
      "File \u001b[0;32m~/miniconda3/envs/codeastro/lib/python3.10/site-packages/astroquery/utils/tap/core.py:1774\u001b[0m, in \u001b[0;36mTapPlus.update_user_table\u001b[0;34m(self, table_name, list_of_changes, verbose)\u001b[0m\n",
      "\u001b[1;32m   1770\u001b[0m             \u001b[39mraise\u001b[39;00m \u001b[39mValueError\u001b[39;00m(\u001b[39m\"\u001b[39m\u001b[39mPosition 2 of all changes must be \u001b[39m\u001b[39m\"\u001b[39m \u001b[39m+\u001b[39m\n",
      "\u001b[1;32m   1771\u001b[0m                              \u001b[39m\"\u001b[39m\u001b[39m'\u001b[39m\u001b[39mutype\u001b[39m\u001b[39m'\u001b[39m\u001b[39m, \u001b[39m\u001b[39m'\u001b[39m\u001b[39mucd\u001b[39m\u001b[39m'\u001b[39m\u001b[39m, \u001b[39m\u001b[39m'\u001b[39m\u001b[39mflags\u001b[39m\u001b[39m'\u001b[39m\u001b[39m or \u001b[39m\u001b[39m'\u001b[39m\u001b[39mindexed\u001b[39m\u001b[39m'\u001b[39m\u001b[39m\"\u001b[39m)\n",
      "\u001b[1;32m   1772\u001b[0m         index \u001b[39m=\u001b[39m index \u001b[39m+\u001b[39m \u001b[39m1\u001b[39m\n",
      "\u001b[0;32m-> 1774\u001b[0m table \u001b[39m=\u001b[39m \u001b[39mself\u001b[39;49m\u001b[39m.\u001b[39;49mload_table(table\u001b[39m=\u001b[39;49mtable_name, verbose\u001b[39m=\u001b[39;49mverbose)\n",
      "\u001b[1;32m   1775\u001b[0m \u001b[39mif\u001b[39;00m table \u001b[39mis\u001b[39;00m \u001b[39mNone\u001b[39;00m:\n",
      "\u001b[1;32m   1776\u001b[0m     \u001b[39mraise\u001b[39;00m \u001b[39mValueError\u001b[39;00m(\u001b[39m\"\u001b[39m\u001b[39mTable name not found\u001b[39m\u001b[39m\"\u001b[39m)\n",
      "\n",
      "File \u001b[0;32m~/miniconda3/envs/codeastro/lib/python3.10/site-packages/astroquery/utils/tap/core.py:177\u001b[0m, in \u001b[0;36mTap.load_table\u001b[0;34m(self, table, verbose)\u001b[0m\n",
      "\u001b[1;32m    175\u001b[0m \u001b[39mif\u001b[39;00m verbose:\n",
      "\u001b[1;32m    176\u001b[0m     \u001b[39mprint\u001b[39m(response\u001b[39m.\u001b[39mstatus, response\u001b[39m.\u001b[39mreason)\n",
      "\u001b[0;32m--> 177\u001b[0m \u001b[39mself\u001b[39;49m\u001b[39m.\u001b[39;49m__connHandler\u001b[39m.\u001b[39;49mcheck_launch_response_status(response,\n",
      "\u001b[1;32m    178\u001b[0m                                                 verbose,\n",
      "\u001b[1;32m    179\u001b[0m                                                 \u001b[39m200\u001b[39;49m)\n",
      "\u001b[1;32m    180\u001b[0m \u001b[39mif\u001b[39;00m verbose:\n",
      "\u001b[1;32m    181\u001b[0m     \u001b[39mprint\u001b[39m(\u001b[39mf\u001b[39m\u001b[39m\"\u001b[39m\u001b[39mParsing table \u001b[39m\u001b[39m'\u001b[39m\u001b[39m{\u001b[39;00mtable\u001b[39m}\u001b[39;00m\u001b[39m'\u001b[39m\u001b[39m...\u001b[39m\u001b[39m\"\u001b[39m)\n",
      "\n",
      "File \u001b[0;32m~/miniconda3/envs/codeastro/lib/python3.10/site-packages/astroquery/utils/tap/conn/tapconn.py:683\u001b[0m, in \u001b[0;36mTapConn.check_launch_response_status\u001b[0;34m(self, response, debug, expected_response_status, raise_exception)\u001b[0m\n",
      "\u001b[1;32m    681\u001b[0m     errMsg \u001b[39m=\u001b[39m taputils\u001b[39m.\u001b[39mget_http_response_error(response)\n",
      "\u001b[1;32m    682\u001b[0m     \u001b[39mprint\u001b[39m(response\u001b[39m.\u001b[39mstatus, errMsg)\n",
      "\u001b[0;32m--> 683\u001b[0m     \u001b[39mraise\u001b[39;00m requests\u001b[39m.\u001b[39mexceptions\u001b[39m.\u001b[39mHTTPError(errMsg)\n",
      "\u001b[1;32m    684\u001b[0m \u001b[39melse\u001b[39;00m:\n",
      "\u001b[1;32m    685\u001b[0m     \u001b[39mreturn\u001b[39;00m isError\n",
      "\n",
      "\u001b[0;31mHTTPError\u001b[0m: Error 500:\n",
      "esavo.tap.TAPException: java.lang.NullPointerException"
     ]
    }
   ],
   "source": [
    "Gaia.login()\n",
    "Gaia.upload_table(upload_resource=atnf_psrs, table_name=\"atnf_allpsrs_new5\", verbose=True)\n",
    "Gaia.update_user_table(table_name=\"atnf_allpsrs_new5\",\n",
    "                       list_of_changes=[[\"ra\", \"flags\", \"Ra\"], \n",
    "                                        [\"dec\", \"flags\", \"Dec\"]], verbose=True)\n",
    "\n",
    "# a=[1,2,3]\n",
    "# b=['a','b','c']\n",
    "# table = Table([a,b], names=['col1','col2'], meta={'meta':'first table'})\n",
    "# # Upload\n",
    "# Gaia.login()\n",
    "# Gaia.upload_table(upload_resource=table, table_name='table_test_from_astropy')\n",
    "# Gaia.update_user_table(table_name=\"table_test_from_astropy\",\n",
    "#                        list_of_changes=[[\"col1\", \"flags\", \"Ra\"], \n",
    "#                                         [\"col2\", \"flags\", \"Dec\"]])"
   ]
  },
  {
   "cell_type": "code",
   "execution_count": null,
   "metadata": {},
   "outputs": [
    {
     "name": "stdout",
     "output_type": "stream",
     "text": [
      "INFO: Login to gaia TAP server [astroquery.gaia.core]\n",
      "OK\n",
      "INFO: Login to gaia data server [astroquery.gaia.core]\n",
      "OK\n",
      "Retrieving table 'atnf_allpsrs_new2'\n",
      "500 Error 500:\n",
      "esavo.tap.TAPException: java.lang.NullPointerException\n"
     ]
    },
    {
     "ename": "HTTPError",
     "evalue": "Error 500:\nesavo.tap.TAPException: java.lang.NullPointerException",
     "output_type": "error",
     "traceback": [
      "\u001b[0;31m---------------------------------------------------------------------------\u001b[0m\n",
      "\u001b[0;31mHTTPError\u001b[0m                                 Traceback (most recent call last)\n",
      "\u001b[1;32m/home/annika_deutsch/Binary-Pulsar-Distances/Binary_Pulsar_Distances/nominal_positions.ipynb Cell 7\u001b[0m in \u001b[0;36m<cell line: 4>\u001b[0;34m()\u001b[0m\n",
      "\u001b[1;32m      <a href='vscode-notebook-cell://wsl%2Bubuntu/home/annika_deutsch/Binary-Pulsar-Distances/Binary_Pulsar_Distances/nominal_positions.ipynb#W6sdnNjb2RlLXJlbW90ZQ%3D%3D?line=0'>1</a>\u001b[0m Gaia\u001b[39m.\u001b[39mlogin()\n",
      "\u001b[1;32m      <a href='vscode-notebook-cell://wsl%2Bubuntu/home/annika_deutsch/Binary-Pulsar-Distances/Binary_Pulsar_Distances/nominal_positions.ipynb#W6sdnNjb2RlLXJlbW90ZQ%3D%3D?line=1'>2</a>\u001b[0m \u001b[39m# table_metadata = Gaia.load_table('atnf_allpsrs_new2')\u001b[39;00m\n",
      "\u001b[1;32m      <a href='vscode-notebook-cell://wsl%2Bubuntu/home/annika_deutsch/Binary-Pulsar-Distances/Binary_Pulsar_Distances/nominal_positions.ipynb#W6sdnNjb2RlLXJlbW90ZQ%3D%3D?line=2'>3</a>\u001b[0m \u001b[39m# table_metadata\u001b[39;00m\n",
      "\u001b[0;32m----> <a href='vscode-notebook-cell://wsl%2Bubuntu/home/annika_deutsch/Binary-Pulsar-Distances/Binary_Pulsar_Distances/nominal_positions.ipynb#W6sdnNjb2RlLXJlbW90ZQ%3D%3D?line=3'>4</a>\u001b[0m Gaia\u001b[39m.\u001b[39;49mupdate_user_table(table_name\u001b[39m=\u001b[39;49m\u001b[39m\"\u001b[39;49m\u001b[39matnf_allpsrs_new2\u001b[39;49m\u001b[39m\"\u001b[39;49m,\n",
      "\u001b[1;32m      <a href='vscode-notebook-cell://wsl%2Bubuntu/home/annika_deutsch/Binary-Pulsar-Distances/Binary_Pulsar_Distances/nominal_positions.ipynb#W6sdnNjb2RlLXJlbW90ZQ%3D%3D?line=4'>5</a>\u001b[0m                        list_of_changes\u001b[39m=\u001b[39;49m[[\u001b[39m\"\u001b[39;49m\u001b[39mra\u001b[39;49m\u001b[39m\"\u001b[39;49m, \u001b[39m\"\u001b[39;49m\u001b[39mflags\u001b[39;49m\u001b[39m\"\u001b[39;49m, \u001b[39m\"\u001b[39;49m\u001b[39mRa\u001b[39;49m\u001b[39m\"\u001b[39;49m], \n",
      "\u001b[1;32m      <a href='vscode-notebook-cell://wsl%2Bubuntu/home/annika_deutsch/Binary-Pulsar-Distances/Binary_Pulsar_Distances/nominal_positions.ipynb#W6sdnNjb2RlLXJlbW90ZQ%3D%3D?line=5'>6</a>\u001b[0m                                         [\u001b[39m\"\u001b[39;49m\u001b[39mdec\u001b[39;49m\u001b[39m\"\u001b[39;49m, \u001b[39m\"\u001b[39;49m\u001b[39mflags\u001b[39;49m\u001b[39m\"\u001b[39;49m, \u001b[39m\"\u001b[39;49m\u001b[39mDec\u001b[39;49m\u001b[39m\"\u001b[39;49m]])\n",
      "\n",
      "File \u001b[0;32m~/miniconda3/envs/codeastro/lib/python3.10/site-packages/astroquery/utils/tap/core.py:1774\u001b[0m, in \u001b[0;36mTapPlus.update_user_table\u001b[0;34m(self, table_name, list_of_changes, verbose)\u001b[0m\n",
      "\u001b[1;32m   1770\u001b[0m             \u001b[39mraise\u001b[39;00m \u001b[39mValueError\u001b[39;00m(\u001b[39m\"\u001b[39m\u001b[39mPosition 2 of all changes must be \u001b[39m\u001b[39m\"\u001b[39m \u001b[39m+\u001b[39m\n",
      "\u001b[1;32m   1771\u001b[0m                              \u001b[39m\"\u001b[39m\u001b[39m'\u001b[39m\u001b[39mutype\u001b[39m\u001b[39m'\u001b[39m\u001b[39m, \u001b[39m\u001b[39m'\u001b[39m\u001b[39mucd\u001b[39m\u001b[39m'\u001b[39m\u001b[39m, \u001b[39m\u001b[39m'\u001b[39m\u001b[39mflags\u001b[39m\u001b[39m'\u001b[39m\u001b[39m or \u001b[39m\u001b[39m'\u001b[39m\u001b[39mindexed\u001b[39m\u001b[39m'\u001b[39m\u001b[39m\"\u001b[39m)\n",
      "\u001b[1;32m   1772\u001b[0m         index \u001b[39m=\u001b[39m index \u001b[39m+\u001b[39m \u001b[39m1\u001b[39m\n",
      "\u001b[0;32m-> 1774\u001b[0m table \u001b[39m=\u001b[39m \u001b[39mself\u001b[39;49m\u001b[39m.\u001b[39;49mload_table(table\u001b[39m=\u001b[39;49mtable_name, verbose\u001b[39m=\u001b[39;49mverbose)\n",
      "\u001b[1;32m   1775\u001b[0m \u001b[39mif\u001b[39;00m table \u001b[39mis\u001b[39;00m \u001b[39mNone\u001b[39;00m:\n",
      "\u001b[1;32m   1776\u001b[0m     \u001b[39mraise\u001b[39;00m \u001b[39mValueError\u001b[39;00m(\u001b[39m\"\u001b[39m\u001b[39mTable name not found\u001b[39m\u001b[39m\"\u001b[39m)\n",
      "\n",
      "File \u001b[0;32m~/miniconda3/envs/codeastro/lib/python3.10/site-packages/astroquery/utils/tap/core.py:177\u001b[0m, in \u001b[0;36mTap.load_table\u001b[0;34m(self, table, verbose)\u001b[0m\n",
      "\u001b[1;32m    175\u001b[0m \u001b[39mif\u001b[39;00m verbose:\n",
      "\u001b[1;32m    176\u001b[0m     \u001b[39mprint\u001b[39m(response\u001b[39m.\u001b[39mstatus, response\u001b[39m.\u001b[39mreason)\n",
      "\u001b[0;32m--> 177\u001b[0m \u001b[39mself\u001b[39;49m\u001b[39m.\u001b[39;49m__connHandler\u001b[39m.\u001b[39;49mcheck_launch_response_status(response,\n",
      "\u001b[1;32m    178\u001b[0m                                                 verbose,\n",
      "\u001b[1;32m    179\u001b[0m                                                 \u001b[39m200\u001b[39;49m)\n",
      "\u001b[1;32m    180\u001b[0m \u001b[39mif\u001b[39;00m verbose:\n",
      "\u001b[1;32m    181\u001b[0m     \u001b[39mprint\u001b[39m(\u001b[39mf\u001b[39m\u001b[39m\"\u001b[39m\u001b[39mParsing table \u001b[39m\u001b[39m'\u001b[39m\u001b[39m{\u001b[39;00mtable\u001b[39m}\u001b[39;00m\u001b[39m'\u001b[39m\u001b[39m...\u001b[39m\u001b[39m\"\u001b[39m)\n",
      "\n",
      "File \u001b[0;32m~/miniconda3/envs/codeastro/lib/python3.10/site-packages/astroquery/utils/tap/conn/tapconn.py:683\u001b[0m, in \u001b[0;36mTapConn.check_launch_response_status\u001b[0;34m(self, response, debug, expected_response_status, raise_exception)\u001b[0m\n",
      "\u001b[1;32m    681\u001b[0m     errMsg \u001b[39m=\u001b[39m taputils\u001b[39m.\u001b[39mget_http_response_error(response)\n",
      "\u001b[1;32m    682\u001b[0m     \u001b[39mprint\u001b[39m(response\u001b[39m.\u001b[39mstatus, errMsg)\n",
      "\u001b[0;32m--> 683\u001b[0m     \u001b[39mraise\u001b[39;00m requests\u001b[39m.\u001b[39mexceptions\u001b[39m.\u001b[39mHTTPError(errMsg)\n",
      "\u001b[1;32m    684\u001b[0m \u001b[39melse\u001b[39;00m:\n",
      "\u001b[1;32m    685\u001b[0m     \u001b[39mreturn\u001b[39;00m isError\n",
      "\n",
      "\u001b[0;31mHTTPError\u001b[0m: Error 500:\n",
      "esavo.tap.TAPException: java.lang.NullPointerException"
     ]
    }
   ],
   "source": [
    "Gaia.login()\n",
    "# table_metadata = Gaia.load_table('atnf_allpsrs_new2')\n",
    "# table_metadata\n",
    "Gaia.update_user_table(table_name=\"atnf_allpsrs_new2\",\n",
    "                       list_of_changes=[[\"ra\", \"flags\", \"Ra\"], \n",
    "                                        [\"dec\", \"flags\", \"Dec\"]])"
   ]
  }
 ],
 "metadata": {
  "kernelspec": {
   "display_name": "BinaryPulsarDistances",
   "language": "python",
   "name": "python3"
  },
  "language_info": {
   "codemirror_mode": {
    "name": "ipython",
    "version": 3
   },
   "file_extension": ".py",
   "mimetype": "text/x-python",
   "name": "python",
   "nbconvert_exporter": "python",
   "pygments_lexer": "ipython3",
   "version": "3.10.9"
  },
  "orig_nbformat": 4
 },
 "nbformat": 4,
 "nbformat_minor": 2
}
