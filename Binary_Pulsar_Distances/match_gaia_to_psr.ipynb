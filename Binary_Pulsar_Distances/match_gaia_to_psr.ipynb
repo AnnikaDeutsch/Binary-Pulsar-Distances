{
 "cells": [
  {
   "cell_type": "code",
   "execution_count": 10,
   "metadata": {},
   "outputs": [],
   "source": [
    "import astropy.units as u\n",
    "# inputs: ra, dec, height_of_rectangle, width_of_rectangle, radius_of_circle\n",
    "def psr_to_gaia(raj, decj, radius, height=10*u.mas, width=10*u.mas, name=\"\"):\n",
    "    #Import things\n",
    "    import astropy\n",
    "    import astroquery\n",
    "    from astroquery.gaia import Gaia\n",
    "    from astropy.coordinates import SkyCoord\n",
    "    from astropy.coordinates import Angle\n",
    "    import astropy.units as u\n",
    "    import numpy as np\n",
    "\n",
    "    # Perform ATNF Query\n",
    "    from psrqpy import QueryATNF\n",
    "    c = [raj, decj, radius]\n",
    "    if name != \"\":\n",
    "        query = QueryATNF(psrs= [name])\n",
    "    else:\n",
    "        query = QueryATNF(condition= 'PMRA>0 && PMDEC>0',circular_boundary=c)\n",
    "    table = query.table\n",
    "\n",
    "    # Given an item (via specifying ra/dec range or optionally inputing a pulsar name) from ATNF catalouge, find nearby\n",
    "    # Gaia objects\n",
    "    from astropy.time import Time\n",
    "    num_pulsars = len(query)\n",
    "    pulsar = 0\n",
    "    while pulsar < num_pulsars:\n",
    "        p_ra = table['RAJ'][pulsar]\n",
    "        p_dec = table['DECJ'][pulsar]\n",
    "        p_pmra = table['PMRA'][pulsar]\n",
    "        p_pmdec = table['PMDEC'][pulsar]\n",
    "        p_epoch = Time(table['POSEPOCH'][pulsar], format='mjd').jyear\n",
    "\n",
    "        # convert ra and dec to angle objects that will know to behave as floats \n",
    "        p_ra_ang = Angle(p_ra.tolist(), u.degree)\n",
    "        p_dec_ang = Angle(p_dec.tolist(), u.degree)\n",
    "\n",
    "        # convert pmra and pmdec from mas/yr to deg/yr\n",
    "        p_pmra_deg = (p_pmra.tolist() * u.mas).to(u.deg) / u.yr\n",
    "        p_pmdec_deg = (p_pmdec.tolist() * u.mas).to(u.deg) / u.yr\n",
    "\n",
    "        # update location of pulsar based on difference from gaia epoch and pmra/pmdec\n",
    "        gaia_epoch = 2015.5 * u.yr\n",
    "        year_diff = gaia_epoch - p_epoch.tolist() * u.yr\n",
    "\n",
    "        # get the new ra and dec for the pulsar by updating to gaia epoch \n",
    "        p_new_ra = p_ra_ang + (p_pmra_deg * year_diff)\n",
    "        p_new_dec = p_dec_ang + (p_pmdec_deg * year_diff)\n",
    "\n",
    "        # print('for '+table['JNAME'][pulsar]+' with Right Ascension'+p_new_ra+' and Declination'\n",
    "        # +p_new_dec+' in the Gaia epoch, the following Gaia objects are at the same RA and Dec to within a'+\n",
    "        # width+' by '+height+' milliacrsecond range:')\n",
    "\n",
    "        # Query Gaia within the range of the given pulsar \n",
    "        coord=SkyCoord(ra=p_new_ra, dec=p_new_dec, unit=(u.degree, u.degree), frame='icrs')\n",
    "        width_gaia = u.Quantity(width, u.mas)\n",
    "        height_gaia = u.Quantity(height, u.mas)\n",
    "        results = Gaia.query_object_async(coordinate=coord, width=width_gaia, height=height_gaia)\n",
    "        results.show_in_notebook()\n",
    "        pulsar+=1\n"
   ]
  },
  {
   "cell_type": "code",
   "execution_count": 11,
   "metadata": {},
   "outputs": [
    {
     "ename": "HTTPError",
     "evalue": "OK",
     "output_type": "error",
     "traceback": [
      "\u001b[0;31m---------------------------------------------------------------------------\u001b[0m",
      "\u001b[0;31mHTTPError\u001b[0m                                 Traceback (most recent call last)",
      "\u001b[1;32m/home/annika_deutsch/Binary-Pulsar-Distances/match_gaia_to_psr.ipynb Cell 2'\u001b[0m in \u001b[0;36m<cell line: 1>\u001b[0;34m()\u001b[0m\n\u001b[0;32m----> <a href='vscode-notebook-cell://wsl%2Bubuntu/home/annika_deutsch/Binary-Pulsar-Distances/match_gaia_to_psr.ipynb#ch0000001vscode-remote?line=0'>1</a>\u001b[0m psr_to_gaia(\u001b[39m'\u001b[39;49m\u001b[39m00:24:09.8\u001b[39;49m\u001b[39m'\u001b[39;49m, \u001b[39m'\u001b[39;49m\u001b[39m-72:03:59.7\u001b[39;49m\u001b[39m'\u001b[39;49m, \u001b[39m10.\u001b[39;49m,name\u001b[39m=\u001b[39;49m \u001b[39m'\u001b[39;49m\u001b[39mJ0024-7204U\u001b[39;49m\u001b[39m'\u001b[39;49m)\n",
      "\u001b[1;32m/home/annika_deutsch/Binary-Pulsar-Distances/match_gaia_to_psr.ipynb Cell 1'\u001b[0m in \u001b[0;36mpsr_to_gaia\u001b[0;34m(raj, decj, radius, height, width, name)\u001b[0m\n\u001b[1;32m     <a href='vscode-notebook-cell://wsl%2Bubuntu/home/annika_deutsch/Binary-Pulsar-Distances/match_gaia_to_psr.ipynb#ch0000000vscode-remote?line=55'>56</a>\u001b[0m width_gaia \u001b[39m=\u001b[39m u\u001b[39m.\u001b[39mQuantity(width, u\u001b[39m.\u001b[39mmas)\n\u001b[1;32m     <a href='vscode-notebook-cell://wsl%2Bubuntu/home/annika_deutsch/Binary-Pulsar-Distances/match_gaia_to_psr.ipynb#ch0000000vscode-remote?line=56'>57</a>\u001b[0m height_gaia \u001b[39m=\u001b[39m u\u001b[39m.\u001b[39mQuantity(height, u\u001b[39m.\u001b[39mmas)\n\u001b[0;32m---> <a href='vscode-notebook-cell://wsl%2Bubuntu/home/annika_deutsch/Binary-Pulsar-Distances/match_gaia_to_psr.ipynb#ch0000000vscode-remote?line=57'>58</a>\u001b[0m results \u001b[39m=\u001b[39m Gaia\u001b[39m.\u001b[39;49mquery_object_async(coordinate\u001b[39m=\u001b[39;49mcoord, width\u001b[39m=\u001b[39;49mwidth_gaia, height\u001b[39m=\u001b[39;49mheight_gaia)\n\u001b[1;32m     <a href='vscode-notebook-cell://wsl%2Bubuntu/home/annika_deutsch/Binary-Pulsar-Distances/match_gaia_to_psr.ipynb#ch0000000vscode-remote?line=58'>59</a>\u001b[0m results\u001b[39m.\u001b[39mshow_in_notebook()\n\u001b[1;32m     <a href='vscode-notebook-cell://wsl%2Bubuntu/home/annika_deutsch/Binary-Pulsar-Distances/match_gaia_to_psr.ipynb#ch0000000vscode-remote?line=59'>60</a>\u001b[0m pulsar\u001b[39m+\u001b[39m\u001b[39m=\u001b[39m\u001b[39m1\u001b[39m\n",
      "File \u001b[0;32m~/miniconda3/envs/codeastro/lib/python3.10/site-packages/astroquery/gaia/core.py:494\u001b[0m, in \u001b[0;36mGaiaClass.query_object_async\u001b[0;34m(self, coordinate, radius, width, height, verbose, columns)\u001b[0m\n\u001b[1;32m    <a href='file:///home/annika_deutsch/miniconda3/envs/codeastro/lib/python3.10/site-packages/astroquery/gaia/core.py?line=469'>470</a>\u001b[0m \u001b[39mdef\u001b[39;00m \u001b[39mquery_object_async\u001b[39m(\u001b[39mself\u001b[39m, coordinate, radius\u001b[39m=\u001b[39m\u001b[39mNone\u001b[39;00m, width\u001b[39m=\u001b[39m\u001b[39mNone\u001b[39;00m,\n\u001b[1;32m    <a href='file:///home/annika_deutsch/miniconda3/envs/codeastro/lib/python3.10/site-packages/astroquery/gaia/core.py?line=470'>471</a>\u001b[0m                        height\u001b[39m=\u001b[39m\u001b[39mNone\u001b[39;00m, verbose\u001b[39m=\u001b[39m\u001b[39mFalse\u001b[39;00m, columns\u001b[39m=\u001b[39m[]):\n\u001b[1;32m    <a href='file:///home/annika_deutsch/miniconda3/envs/codeastro/lib/python3.10/site-packages/astroquery/gaia/core.py?line=471'>472</a>\u001b[0m     \u001b[39m\"\"\"Launches a job (async)\u001b[39;00m\n\u001b[1;32m    <a href='file:///home/annika_deutsch/miniconda3/envs/codeastro/lib/python3.10/site-packages/astroquery/gaia/core.py?line=472'>473</a>\u001b[0m \u001b[39m    TAP & TAP+\u001b[39;00m\n\u001b[1;32m    <a href='file:///home/annika_deutsch/miniconda3/envs/codeastro/lib/python3.10/site-packages/astroquery/gaia/core.py?line=473'>474</a>\u001b[0m \n\u001b[0;32m   (...)\u001b[0m\n\u001b[1;32m    <a href='file:///home/annika_deutsch/miniconda3/envs/codeastro/lib/python3.10/site-packages/astroquery/gaia/core.py?line=491'>492</a>\u001b[0m \u001b[39m    The job results (astropy.table).\u001b[39;00m\n\u001b[1;32m    <a href='file:///home/annika_deutsch/miniconda3/envs/codeastro/lib/python3.10/site-packages/astroquery/gaia/core.py?line=492'>493</a>\u001b[0m \u001b[39m    \"\"\"\u001b[39;00m\n\u001b[0;32m--> <a href='file:///home/annika_deutsch/miniconda3/envs/codeastro/lib/python3.10/site-packages/astroquery/gaia/core.py?line=493'>494</a>\u001b[0m     \u001b[39mreturn\u001b[39;00m \u001b[39mself\u001b[39;49m\u001b[39m.\u001b[39;49m__query_object(coordinate, radius, width, height, async_job\u001b[39m=\u001b[39;49m\u001b[39mTrue\u001b[39;49;00m, verbose\u001b[39m=\u001b[39;49mverbose, columns\u001b[39m=\u001b[39;49mcolumns)\n",
      "File \u001b[0;32m~/miniconda3/envs/codeastro/lib/python3.10/site-packages/astroquery/gaia/core.py:439\u001b[0m, in \u001b[0;36mGaiaClass.__query_object\u001b[0;34m(self, coordinate, radius, width, height, async_job, verbose, columns)\u001b[0m\n\u001b[1;32m    <a href='file:///home/annika_deutsch/miniconda3/envs/codeastro/lib/python3.10/site-packages/astroquery/gaia/core.py?line=409'>410</a>\u001b[0m query \u001b[39m=\u001b[39m \u001b[39m\"\"\"\u001b[39m\n\u001b[1;32m    <a href='file:///home/annika_deutsch/miniconda3/envs/codeastro/lib/python3.10/site-packages/astroquery/gaia/core.py?line=410'>411</a>\u001b[0m \u001b[39m        SELECT\u001b[39m\n\u001b[1;32m    <a href='file:///home/annika_deutsch/miniconda3/envs/codeastro/lib/python3.10/site-packages/astroquery/gaia/core.py?line=411'>412</a>\u001b[0m \u001b[39m          \u001b[39m\u001b[39m{row_limit}\u001b[39;00m\n\u001b[0;32m   (...)\u001b[0m\n\u001b[1;32m    <a href='file:///home/annika_deutsch/miniconda3/envs/codeastro/lib/python3.10/site-packages/astroquery/gaia/core.py?line=435'>436</a>\u001b[0m                       \u001b[39m'\u001b[39m\u001b[39mra\u001b[39m\u001b[39m'\u001b[39m: ra, \u001b[39m'\u001b[39m\u001b[39mdec\u001b[39m\u001b[39m'\u001b[39m: dec,\n\u001b[1;32m    <a href='file:///home/annika_deutsch/miniconda3/envs/codeastro/lib/python3.10/site-packages/astroquery/gaia/core.py?line=436'>437</a>\u001b[0m                       \u001b[39m'\u001b[39m\u001b[39mwidth\u001b[39m\u001b[39m'\u001b[39m: widthDeg\u001b[39m.\u001b[39mvalue, \u001b[39m'\u001b[39m\u001b[39mheight\u001b[39m\u001b[39m'\u001b[39m: heightDeg\u001b[39m.\u001b[39mvalue})\n\u001b[1;32m    <a href='file:///home/annika_deutsch/miniconda3/envs/codeastro/lib/python3.10/site-packages/astroquery/gaia/core.py?line=437'>438</a>\u001b[0m \u001b[39mif\u001b[39;00m async_job:\n\u001b[0;32m--> <a href='file:///home/annika_deutsch/miniconda3/envs/codeastro/lib/python3.10/site-packages/astroquery/gaia/core.py?line=438'>439</a>\u001b[0m     job \u001b[39m=\u001b[39m \u001b[39mself\u001b[39;49m\u001b[39m.\u001b[39;49mlaunch_job_async(query, verbose\u001b[39m=\u001b[39;49mverbose)\n\u001b[1;32m    <a href='file:///home/annika_deutsch/miniconda3/envs/codeastro/lib/python3.10/site-packages/astroquery/gaia/core.py?line=439'>440</a>\u001b[0m \u001b[39melse\u001b[39;00m:\n\u001b[1;32m    <a href='file:///home/annika_deutsch/miniconda3/envs/codeastro/lib/python3.10/site-packages/astroquery/gaia/core.py?line=440'>441</a>\u001b[0m     job \u001b[39m=\u001b[39m \u001b[39mself\u001b[39m\u001b[39m.\u001b[39mlaunch_job(query, verbose\u001b[39m=\u001b[39mverbose)\n",
      "File \u001b[0;32m~/miniconda3/envs/codeastro/lib/python3.10/site-packages/astroquery/gaia/core.py:903\u001b[0m, in \u001b[0;36mGaiaClass.launch_job_async\u001b[0;34m(self, query, name, output_file, output_format, verbose, dump_to_file, background, upload_resource, upload_table_name, autorun)\u001b[0m\n\u001b[1;32m    <a href='file:///home/annika_deutsch/miniconda3/envs/codeastro/lib/python3.10/site-packages/astroquery/gaia/core.py?line=861'>862</a>\u001b[0m \u001b[39mdef\u001b[39;00m \u001b[39mlaunch_job_async\u001b[39m(\u001b[39mself\u001b[39m, query, name\u001b[39m=\u001b[39m\u001b[39mNone\u001b[39;00m, output_file\u001b[39m=\u001b[39m\u001b[39mNone\u001b[39;00m,\n\u001b[1;32m    <a href='file:///home/annika_deutsch/miniconda3/envs/codeastro/lib/python3.10/site-packages/astroquery/gaia/core.py?line=862'>863</a>\u001b[0m                      output_format\u001b[39m=\u001b[39m\u001b[39m\"\u001b[39m\u001b[39mvotable\u001b[39m\u001b[39m\"\u001b[39m, verbose\u001b[39m=\u001b[39m\u001b[39mFalse\u001b[39;00m,\n\u001b[1;32m    <a href='file:///home/annika_deutsch/miniconda3/envs/codeastro/lib/python3.10/site-packages/astroquery/gaia/core.py?line=863'>864</a>\u001b[0m                      dump_to_file\u001b[39m=\u001b[39m\u001b[39mFalse\u001b[39;00m, background\u001b[39m=\u001b[39m\u001b[39mFalse\u001b[39;00m,\n\u001b[1;32m    <a href='file:///home/annika_deutsch/miniconda3/envs/codeastro/lib/python3.10/site-packages/astroquery/gaia/core.py?line=864'>865</a>\u001b[0m                      upload_resource\u001b[39m=\u001b[39m\u001b[39mNone\u001b[39;00m, upload_table_name\u001b[39m=\u001b[39m\u001b[39mNone\u001b[39;00m,\n\u001b[1;32m    <a href='file:///home/annika_deutsch/miniconda3/envs/codeastro/lib/python3.10/site-packages/astroquery/gaia/core.py?line=865'>866</a>\u001b[0m                      autorun\u001b[39m=\u001b[39m\u001b[39mTrue\u001b[39;00m):\n\u001b[1;32m    <a href='file:///home/annika_deutsch/miniconda3/envs/codeastro/lib/python3.10/site-packages/astroquery/gaia/core.py?line=866'>867</a>\u001b[0m     \u001b[39m\"\"\"Launches an asynchronous job\u001b[39;00m\n\u001b[1;32m    <a href='file:///home/annika_deutsch/miniconda3/envs/codeastro/lib/python3.10/site-packages/astroquery/gaia/core.py?line=867'>868</a>\u001b[0m \n\u001b[1;32m    <a href='file:///home/annika_deutsch/miniconda3/envs/codeastro/lib/python3.10/site-packages/astroquery/gaia/core.py?line=868'>869</a>\u001b[0m \u001b[39m    Parameters\u001b[39;00m\n\u001b[0;32m   (...)\u001b[0m\n\u001b[1;32m    <a href='file:///home/annika_deutsch/miniconda3/envs/codeastro/lib/python3.10/site-packages/astroquery/gaia/core.py?line=900'>901</a>\u001b[0m \u001b[39m    A Job object\u001b[39;00m\n\u001b[1;32m    <a href='file:///home/annika_deutsch/miniconda3/envs/codeastro/lib/python3.10/site-packages/astroquery/gaia/core.py?line=901'>902</a>\u001b[0m \u001b[39m    \"\"\"\u001b[39;00m\n\u001b[0;32m--> <a href='file:///home/annika_deutsch/miniconda3/envs/codeastro/lib/python3.10/site-packages/astroquery/gaia/core.py?line=902'>903</a>\u001b[0m     \u001b[39mreturn\u001b[39;00m TapPlus\u001b[39m.\u001b[39;49mlaunch_job_async(\u001b[39mself\u001b[39;49m, query\u001b[39m=\u001b[39;49mquery,\n\u001b[1;32m    <a href='file:///home/annika_deutsch/miniconda3/envs/codeastro/lib/python3.10/site-packages/astroquery/gaia/core.py?line=903'>904</a>\u001b[0m                                     name\u001b[39m=\u001b[39;49mname,\n\u001b[1;32m    <a href='file:///home/annika_deutsch/miniconda3/envs/codeastro/lib/python3.10/site-packages/astroquery/gaia/core.py?line=904'>905</a>\u001b[0m                                     output_file\u001b[39m=\u001b[39;49moutput_file,\n\u001b[1;32m    <a href='file:///home/annika_deutsch/miniconda3/envs/codeastro/lib/python3.10/site-packages/astroquery/gaia/core.py?line=905'>906</a>\u001b[0m                                     output_format\u001b[39m=\u001b[39;49moutput_format,\n\u001b[1;32m    <a href='file:///home/annika_deutsch/miniconda3/envs/codeastro/lib/python3.10/site-packages/astroquery/gaia/core.py?line=906'>907</a>\u001b[0m                                     verbose\u001b[39m=\u001b[39;49mverbose,\n\u001b[1;32m    <a href='file:///home/annika_deutsch/miniconda3/envs/codeastro/lib/python3.10/site-packages/astroquery/gaia/core.py?line=907'>908</a>\u001b[0m                                     dump_to_file\u001b[39m=\u001b[39;49mdump_to_file,\n\u001b[1;32m    <a href='file:///home/annika_deutsch/miniconda3/envs/codeastro/lib/python3.10/site-packages/astroquery/gaia/core.py?line=908'>909</a>\u001b[0m                                     background\u001b[39m=\u001b[39;49mbackground,\n\u001b[1;32m    <a href='file:///home/annika_deutsch/miniconda3/envs/codeastro/lib/python3.10/site-packages/astroquery/gaia/core.py?line=909'>910</a>\u001b[0m                                     upload_resource\u001b[39m=\u001b[39;49mupload_resource,\n\u001b[1;32m    <a href='file:///home/annika_deutsch/miniconda3/envs/codeastro/lib/python3.10/site-packages/astroquery/gaia/core.py?line=910'>911</a>\u001b[0m                                     upload_table_name\u001b[39m=\u001b[39;49mupload_table_name,\n\u001b[1;32m    <a href='file:///home/annika_deutsch/miniconda3/envs/codeastro/lib/python3.10/site-packages/astroquery/gaia/core.py?line=911'>912</a>\u001b[0m                                     autorun\u001b[39m=\u001b[39;49mautorun)\n",
      "File \u001b[0;32m~/miniconda3/envs/codeastro/lib/python3.10/site-packages/astroquery/utils/tap/core.py:440\u001b[0m, in \u001b[0;36mTap.launch_job_async\u001b[0;34m(self, query, name, output_file, output_format, verbose, dump_to_file, background, upload_resource, upload_table_name, autorun)\u001b[0m\n\u001b[1;32m    <a href='file:///home/annika_deutsch/miniconda3/envs/codeastro/lib/python3.10/site-packages/astroquery/utils/tap/core.py?line=436'>437</a>\u001b[0m             \u001b[39mprint\u001b[39m(\u001b[39mf\u001b[39m\u001b[39m\"\u001b[39m\u001b[39mSaving error to: \u001b[39m\u001b[39m{\u001b[39;00msuitableOutputFile\u001b[39m}\u001b[39;00m\u001b[39m\"\u001b[39m)\n\u001b[1;32m    <a href='file:///home/annika_deutsch/miniconda3/envs/codeastro/lib/python3.10/site-packages/astroquery/utils/tap/core.py?line=437'>438</a>\u001b[0m         \u001b[39mself\u001b[39m\u001b[39m.\u001b[39m__connHandler\u001b[39m.\u001b[39mdump_to_file(suitableOutputFile,\n\u001b[1;32m    <a href='file:///home/annika_deutsch/miniconda3/envs/codeastro/lib/python3.10/site-packages/astroquery/utils/tap/core.py?line=438'>439</a>\u001b[0m                                         response)\n\u001b[0;32m--> <a href='file:///home/annika_deutsch/miniconda3/envs/codeastro/lib/python3.10/site-packages/astroquery/utils/tap/core.py?line=439'>440</a>\u001b[0m     \u001b[39mraise\u001b[39;00m requests\u001b[39m.\u001b[39mexceptions\u001b[39m.\u001b[39mHTTPError(response\u001b[39m.\u001b[39mreason)\n\u001b[1;32m    <a href='file:///home/annika_deutsch/miniconda3/envs/codeastro/lib/python3.10/site-packages/astroquery/utils/tap/core.py?line=440'>441</a>\u001b[0m \u001b[39melse\u001b[39;00m:\n\u001b[1;32m    <a href='file:///home/annika_deutsch/miniconda3/envs/codeastro/lib/python3.10/site-packages/astroquery/utils/tap/core.py?line=441'>442</a>\u001b[0m     location \u001b[39m=\u001b[39m \u001b[39mself\u001b[39m\u001b[39m.\u001b[39m__connHandler\u001b[39m.\u001b[39mfind_header(\n\u001b[1;32m    <a href='file:///home/annika_deutsch/miniconda3/envs/codeastro/lib/python3.10/site-packages/astroquery/utils/tap/core.py?line=442'>443</a>\u001b[0m         response\u001b[39m.\u001b[39mgetheaders(),\n\u001b[1;32m    <a href='file:///home/annika_deutsch/miniconda3/envs/codeastro/lib/python3.10/site-packages/astroquery/utils/tap/core.py?line=443'>444</a>\u001b[0m         \u001b[39m\"\u001b[39m\u001b[39mlocation\u001b[39m\u001b[39m\"\u001b[39m)\n",
      "\u001b[0;31mHTTPError\u001b[0m: OK"
     ]
    }
   ],
   "source": [
    "psr_to_gaia('00:24:09.8', '-72:03:59.7', 10.,name= 'J0024-7204U')"
   ]
  },
  {
   "cell_type": "code",
   "execution_count": null,
   "metadata": {},
   "outputs": [],
   "source": []
  }
 ],
 "metadata": {
  "interpreter": {
   "hash": "f6ff9a58d1da4fc1c2a573e19773b576326b71fae69bf153c6887fe609598654"
  },
  "kernelspec": {
   "display_name": "Python 3.10.4 ('codeastro')",
   "language": "python",
   "name": "python3"
  },
  "language_info": {
   "codemirror_mode": {
    "name": "ipython",
    "version": 3
   },
   "file_extension": ".py",
   "mimetype": "text/x-python",
   "name": "python",
   "nbconvert_exporter": "python",
   "pygments_lexer": "ipython3",
   "version": "3.10.4"
  },
  "orig_nbformat": 4
 },
 "nbformat": 4,
 "nbformat_minor": 2
}
