{
 "cells": [
  {
   "cell_type": "code",
   "execution_count": 10,
   "metadata": {},
   "outputs": [],
   "source": [
    "import astropy\n",
    "import astropy.units as u\n",
    "import astroquery\n",
    "from astroquery.gaia import Gaia\n",
    "from astropy.coordinates import SkyCoord\n",
    "from astropy.coordinates import Angle\n",
    "import numpy as np\n",
    "import matplotlib.pyplot as plt\n",
    "from astropy.visualization import quantity_support\n",
    "from astropy.time import Time \n",
    "import os\n",
    "from astropy.io.votable import parse_single_table\n",
    "from astropy.time import Time\n",
    "import pytest\n",
    "from astropy.table import Table, vstack\n",
    "import csv\n",
    "import pandas as pd\n",
    "\n",
    "from sympy import *\n",
    "ra_0, gaia_ra, pm_ra, dec_0, gaia_dec, pm_dec, t = symbols('ra_0 gaia_ra pm_ra dec_0 gaia_dec pm_dec t')\n",
    "init_printing(use_unicode=True)"
   ]
  },
  {
   "cell_type": "markdown",
   "metadata": {},
   "source": [
    "First define ras and decs for both psr and gaia as functions of time, without including error"
   ]
  },
  {
   "cell_type": "code",
   "execution_count": 6,
   "metadata": {},
   "outputs": [],
   "source": [
    "# psr\n",
    "def psr_ra(ra_0, pm_ra, t):\n",
    "    \"\"\" make sure to properly enter docstrings later on\n",
    "\n",
    "    \"\"\"\n",
    "    ra_t = ra_0 + (pm_ra * t)\n",
    "    return ra_t\n",
    "\n",
    "def psr_dec(dec_0, pm_dec, t):\n",
    "    \"\"\" make sure to properly enter docstrings later on\n",
    "\n",
    "    \"\"\"\n",
    "    dec_t = dec_0 + (pm_dec * t)\n",
    "    return dec_t  \n",
    "\n",
    "# gaia -- for gaia we are taking the given epoch to be the epoch are searching in -- nothing requires propogating \n",
    "# through time so the ra and dec will just be variables and not functions\n",
    "\n",
    "gaia_ra = 1\n",
    "gaia_dec = 1"
   ]
  },
  {
   "cell_type": "markdown",
   "metadata": {},
   "source": [
    "Now get difference between gaia and psr positions at the gaia epoch "
   ]
  },
  {
   "cell_type": "code",
   "execution_count": 7,
   "metadata": {},
   "outputs": [],
   "source": [
    "def diff_ra(ra_0, pm_ra, t):\n",
    "    \"\"\" \n",
    "    \"\"\"\n",
    "    diff = psr_ra(ra_0, pm_ra, t) - gaia_ra\n",
    "    return diff\n",
    "\n",
    "def diff_dec(dec_0, pm_dec, t):\n",
    "    \"\"\" \n",
    "    \"\"\"\n",
    "    diff = psr_ra(dec_0, pm_dec, t) - gaia_dec\n",
    "    return diff"
   ]
  },
  {
   "cell_type": "code",
   "execution_count": 14,
   "metadata": {},
   "outputs": [],
   "source": [
    "# mean difference in position\n",
    "def r(ra_0, gaia_ra, pm_ra, dec_0, gaia_dec, pm_dec, t):\n",
    "    return ((ra_0 - gaia_ra)**2 + (pm_ra * t)**2 + 2*(ra_0 - gaia_ra)*(pm_ra * t) + (dec_0 - gaia_dec)**2 + (pm_dec * t)**2 + 2*(dec_0 - gaia_dec)*(pm_dec * t))**(1/2)"
   ]
  },
  {
   "cell_type": "code",
   "execution_count": 16,
   "metadata": {},
   "outputs": [],
   "source": [
    "dra_0sq = diff(r(ra_0, gaia_ra, pm_ra, dec_0, gaia_dec, pm_dec, t), ra_0)**2\n",
    "ddec_0sq = diff(r(ra_0, gaia_ra, pm_ra, dec_0, gaia_dec, pm_dec, t), dec_0)**2\n",
    "dgaia_rasq = diff(r(ra_0, gaia_ra, pm_ra, dec_0, gaia_dec, pm_dec, t), gaia_ra)**2\n",
    "dgaia_decsq = diff(r(ra_0, gaia_ra, pm_ra, dec_0, gaia_dec, pm_dec, t), gaia_dec)**2\n",
    "dpm_rasq = diff(r(ra_0, gaia_ra, pm_ra, dec_0, gaia_dec, pm_dec, t), pm_ra)**2\n",
    "dpm_decsq = diff(r(ra_0, gaia_ra, pm_ra, dec_0, gaia_dec, pm_dec, t), pm_dec)**2\n",
    "\n",
    "derivs = [dra_0sq, ddec_0sq, dgaia_rasq, dgaia_decsq, dpm_rasq, dpm_decsq]"
   ]
  },
  {
   "cell_type": "code",
   "execution_count": null,
   "metadata": {},
   "outputs": [],
   "source": [
    "sig_ra0 # from atnf ra uncertainty\n",
    "sig_dec0 # from atnf dec uncertainty\n",
    "sig_gaiara # from gaia ra uncertainty\n",
    "sig_gaiadec # from gaia dec uncertainty\n",
    "sig_pmra # from atnf pmra uncertainty\n",
    "sig_pmdec # from atnf pmdec uncertainty\n",
    "\n",
    "sigs = [sig_ra0, sigdec0, sig_gaiara, sig_gaiadec, sig_pmra, sig_pmdec]"
   ]
  },
  {
   "cell_type": "code",
   "execution_count": 18,
   "metadata": {},
   "outputs": [
    {
     "ename": "NameError",
     "evalue": "name 'sigs' is not defined",
     "output_type": "error",
     "traceback": [
      "\u001b[0;31m---------------------------------------------------------------------------\u001b[0m",
      "\u001b[0;31mNameError\u001b[0m                                 Traceback (most recent call last)",
      "\u001b[1;32m/home/annika_deutsch/Binary-Pulsar-Distances/Binary_Pulsar_Distances/psr_Gaia_error_diff.ipynb Cell 9\u001b[0m in \u001b[0;36m<cell line: 3>\u001b[0;34m()\u001b[0m\n\u001b[1;32m      <a href='vscode-notebook-cell://wsl%2Bubuntu/home/annika_deutsch/Binary-Pulsar-Distances/Binary_Pulsar_Distances/psr_Gaia_error_diff.ipynb#X12sdnNjb2RlLXJlbW90ZQ%3D%3D?line=1'>2</a>\u001b[0m count \u001b[39m=\u001b[39m \u001b[39m0\u001b[39m\n\u001b[1;32m      <a href='vscode-notebook-cell://wsl%2Bubuntu/home/annika_deutsch/Binary-Pulsar-Distances/Binary_Pulsar_Distances/psr_Gaia_error_diff.ipynb#X12sdnNjb2RlLXJlbW90ZQ%3D%3D?line=2'>3</a>\u001b[0m \u001b[39mfor\u001b[39;00m i \u001b[39min\u001b[39;00m derivs:\n\u001b[0;32m----> <a href='vscode-notebook-cell://wsl%2Bubuntu/home/annika_deutsch/Binary-Pulsar-Distances/Binary_Pulsar_Distances/psr_Gaia_error_diff.ipynb#X12sdnNjb2RlLXJlbW90ZQ%3D%3D?line=3'>4</a>\u001b[0m     sig_r_sq \u001b[39m+\u001b[39m\u001b[39m=\u001b[39m i\u001b[39m*\u001b[39m(sigs[count]\u001b[39m*\u001b[39m\u001b[39m*\u001b[39m\u001b[39m2\u001b[39m)\n\u001b[1;32m      <a href='vscode-notebook-cell://wsl%2Bubuntu/home/annika_deutsch/Binary-Pulsar-Distances/Binary_Pulsar_Distances/psr_Gaia_error_diff.ipynb#X12sdnNjb2RlLXJlbW90ZQ%3D%3D?line=4'>5</a>\u001b[0m     count \u001b[39m+\u001b[39m\u001b[39m=\u001b[39m \u001b[39m1\u001b[39m\n",
      "\u001b[0;31mNameError\u001b[0m: name 'sigs' is not defined"
     ]
    }
   ],
   "source": [
    "sig_r_sq = 0\n",
    "count = 0\n",
    "for i in derivs:\n",
    "    sig_r_sq += i*(sigs[count]**2)\n",
    "    count += 1 \n"
   ]
  },
  {
   "cell_type": "code",
   "execution_count": null,
   "metadata": {},
   "outputs": [],
   "source": [
    "# this is just to get the error in the mean difference in position, so \n",
    "\n",
    "def error_propagation(ra_0, dec_0, pm_ra, pm_dec, raerr, decerr, pmraerr, pmdecerr, gaia_ra, gaia_dec, gaiaraerr, gaiadecerr):\n",
    "    \"\"\"\n",
    "    \n",
    "    \"\"\"\n",
    "    dra_0sq = diff(r(ra_0, gaia_ra, pm_ra, dec_0, gaia_dec, pm_dec, t), ra_0)**2\n",
    "    ddec_0sq = diff(r(ra_0, gaia_ra, pm_ra, dec_0, gaia_dec, pm_dec, t), dec_0)**2\n",
    "    dgaia_rasq = diff(r(ra_0, gaia_ra, pm_ra, dec_0, gaia_dec, pm_dec, t), gaia_ra)**2\n",
    "    dgaia_decsq = diff(r(ra_0, gaia_ra, pm_ra, dec_0, gaia_dec, pm_dec, t), gaia_dec)**2\n",
    "    dpm_rasq = diff(r(ra_0, gaia_ra, pm_ra, dec_0, gaia_dec, pm_dec, t), pm_ra)**2\n",
    "    dpm_decsq = diff(r(ra_0, gaia_ra, pm_ra, dec_0, gaia_dec, pm_dec, t), pm_dec)**2\n",
    "\n",
    "    derivs = [dra_0sq, ddec_0sq, dgaia_rasq, dgaia_decsq, dpm_rasq, dpm_decsq]\n",
    "\n",
    "    sig_ra0 = raerr # from atnf ra uncertainty\n",
    "    sig_dec0  = decerr# from atnf dec uncertainty\n",
    "    sig_gaiara = gaiaraerr # from gaia ra uncertainty\n",
    "    sig_gaiadec = gaiadecerr # from gaia dec uncertainty\n",
    "    sig_pmra = pmraerr # from atnf pmra uncertainty\n",
    "    sig_pmdec = pmdecerr # from atnf pmdec uncertainty\n",
    "\n",
    "    sigs = [sig_ra0, sig_dec0, sig_gaiara, sig_gaiadec, sig_pmra, sig_pmdec]\n",
    "\n",
    "    sig_r_sq = 0\n",
    "    count = 0\n",
    "    for i in derivs:\n",
    "        sig_r_sq += i*(sigs[count]**2)\n",
    "        count += 1 \n",
    "    "
   ]
  }
 ],
 "metadata": {
  "kernelspec": {
   "display_name": "Python 3.10.4 ('codeastro')",
   "language": "python",
   "name": "python3"
  },
  "language_info": {
   "codemirror_mode": {
    "name": "ipython",
    "version": 3
   },
   "file_extension": ".py",
   "mimetype": "text/x-python",
   "name": "python",
   "nbconvert_exporter": "python",
   "pygments_lexer": "ipython3",
   "version": "3.10.4"
  },
  "orig_nbformat": 4,
  "vscode": {
   "interpreter": {
    "hash": "f6ff9a58d1da4fc1c2a573e19773b576326b71fae69bf153c6887fe609598654"
   }
  }
 },
 "nbformat": 4,
 "nbformat_minor": 2
}
