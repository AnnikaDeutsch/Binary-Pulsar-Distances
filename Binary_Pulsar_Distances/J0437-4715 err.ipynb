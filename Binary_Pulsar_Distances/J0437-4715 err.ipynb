{
 "cells": [
  {
   "cell_type": "code",
   "execution_count": 1,
   "metadata": {},
   "outputs": [],
   "source": [
    "import astropy\n",
    "import astropy.units as u\n",
    "import astroquery\n",
    "from astroquery.gaia import Gaia\n",
    "from astropy.coordinates import SkyCoord\n",
    "from astropy.coordinates import Angle\n",
    "import numpy as np\n",
    "import matplotlib.pyplot as plt\n",
    "from astropy.visualization import quantity_support\n",
    "from astropy.time import Time \n",
    "import os\n",
    "from astropy.io.votable import parse_single_table\n",
    "from astropy.time import Time\n",
    "import pytest\n",
    "from astropy.table import Table, vstack\n",
    "import csv\n",
    "import pandas as pd\n",
    "\n",
    "%matplotlib inline"
   ]
  },
  {
   "cell_type": "code",
   "execution_count": 10,
   "metadata": {},
   "outputs": [],
   "source": [
    "# First write a script to make such a plot for a single pulsar, choose a fun one :)\n",
    "# PSR J0437-4715\n",
    "\n",
    "# define necessary variables as strings \n",
    "ra = Angle('04:37:15.8961737', unit = u.hourangle)\n",
    "dec = Angle('-47:15:09.110714', unit = u.deg)\n",
    "\n",
    "pmra = u.Quantity('+121.4385', u.mas/u.yr)\n",
    "pmdec = u.Quantity('-71.4754', u.mas/u.yr)\n",
    "\n",
    "posepoch = Time(54500.00, format='mjd').jyear\n",
    "\n",
    "psr = SkyCoord(ra= '04:37:15.8961737', dec= '-47:15:09.110714', unit= (u.hourangle, u.deg), frame = 'icrs', pm_ra_cosdec= pmra, pm_dec= pmdec)\n",
    "\n",
    "# ok now we have to deal with the errors on pos and pm: instantiate them as angle objects of the proper \n",
    "# representation, for both the pos and pm errors\n",
    "ra_err_str = '6.0e-07'\n",
    "if 'e' in ra_err_str:\n",
    "    base, exp = ra_err_str.split('e')\n",
    "    base = float(base)\n",
    "    exp = float(exp)\n",
    "    num = base*(10**exp)\n",
    "    ra_err = Angle(num, unit = u.hourangle)\n",
    "else:\n",
    "    num = float(ra_err_str)\n",
    "    ra_err = Angle(num, unit = u.hourangle)\n",
    "\n",
    "\n",
    "dec_err_str = '7.0e-06'\n",
    "if 'e' in dec_err_str:\n",
    "    base, exp = dec_err_str.split('e')\n",
    "    base = float(base)\n",
    "    exp = float(exp)\n",
    "    num = base*(10**exp)\n",
    "    dec_err = Angle(num, unit = u.deg)\n",
    "else:\n",
    "    num = float(dec_err_str)\n",
    "    dec_err = Angle(num, unit = u.deg)\n",
    "\n",
    "pmra_err_str = '2.0e-03'\n",
    "if 'e' in pmra_err_str:\n",
    "    base, exp = pmra_err_str.split('e')\n",
    "    base = float(base)\n",
    "    exp = float(exp)\n",
    "    num = base*(10**exp)\n",
    "    pmra_err = Angle(num, unit = u.mas)  / u.yr\n",
    "else:\n",
    "    num = float(pmra_err_str)\n",
    "    pmra_err = Angle(num, unit = u.mas)  / u.yr\n",
    "\n",
    "pmdec_err_str = '2.0e-03'\n",
    "if 'e' in pmdec_err_str:\n",
    "    base, exp = pmdec_err_str.split('e')\n",
    "    base = float(base)\n",
    "    exp = float(exp)\n",
    "    num = base*(10**exp)\n",
    "    pmdec_err = Angle(num, unit = u.mas) /u.yr\n",
    "else:\n",
    "    num = float(pmdec_err_str)\n",
    "    pmdec_err = Angle(num, unit = u.mas) / u.yr\n",
    "\n",
    "plotting_pmdec = psr.pm_dec.to_value(u.deg/u.yr) \n",
    "plotting_pmra = psr.pm_ra_cosdec.to_value(u.deg/u.yr) \n",
    "plotting_ra = psr.ra.value\n",
    "plotting_dec = psr.dec.value"
   ]
  },
  {
   "attachments": {},
   "cell_type": "markdown",
   "metadata": {},
   "source": [
    "Define necessary quantities to perform translation, add errors in quadrature"
   ]
  },
  {
   "cell_type": "code",
   "execution_count": 11,
   "metadata": {},
   "outputs": [],
   "source": [
    "# let's make sure we're able simply to propogate the error on (ra and pmra) and (dec and pmdec)\n",
    "# it's important to choose one unit and stick to it: here we have already implemented mas\n",
    "\n",
    "dr2epoch = Time('2015.5', format='jyear').jyear\n",
    "dr3epoch = Time('2016.0', format='jyear').jyear\n",
    "epoch_diff_dr2 = (dr2epoch.tolist() * u.yr) - (posepoch.tolist() * u.yr)\n",
    "epoch_diff_dr3 = (dr3epoch.tolist() * u.yr) - (posepoch.tolist() * u.yr)\n",
    "\n",
    "# define our new vector of pm times the time diff\n",
    "# dr2 \n",
    "prop2ra = psr.pm_ra_cosdec * epoch_diff_dr2\n",
    "prop2dec = psr.pm_dec * epoch_diff_dr2\n",
    "# dr3\n",
    "prop3ra = psr.pm_ra_cosdec * epoch_diff_dr3\n",
    "prop3dec = psr.pm_dec * epoch_diff_dr3\n",
    "\n",
    "\n",
    "prop_ra_dr2 = psr.ra.mas * u.mas + (prop2ra)\n",
    "prop_dec_dr2 = psr.dec.mas * u.mas + (prop2dec)\n",
    "\n",
    "prop_ra_dr3 = psr.ra.to_value(u.mas) * u.mas + (prop3ra) # adds to the position the distance traversed between epochs from the pmra \n",
    "prop_dec_dr3 = psr.dec.to_value(u.mas) * u.mas + (prop3dec)\n",
    "\n",
    "# error propagated with poserr + (pmerr * time), and added in quadrature\n",
    "prop_ra_err_dr2 = np.sqrt((ra_err.mas*u.mas)**2 + (pmra_err*epoch_diff_dr2)**2)\n",
    "prop_dec_err_dr2 = np.sqrt((dec_err.mas*u.mas)**2 + (pmdec_err*epoch_diff_dr2)**2)\n",
    "\n",
    "prop_ra_err_dr3 = np.sqrt((ra_err.mas*u.mas)**2 + (pmra_err*epoch_diff_dr3)**2)\n",
    "prop_dec_err_dr3 = np.sqrt((dec_err.mas*u.mas)**2 + (pmdec_err*epoch_diff_dr3)**2)\n",
    "\n",
    "# define a new skycoord object with the propogated positions\n",
    "psr_dr2 = SkyCoord(ra= prop_ra_dr2, dec= prop_dec_dr2, unit= (u.mas, u.mas), frame = 'icrs', pm_ra_cosdec= pmra, pm_dec= pmdec)\n",
    "psr_dr3 = SkyCoord(ra= prop_ra_dr3, dec= prop_dec_dr3, unit= (u.mas, u.mas), frame = 'icrs', pm_ra_cosdec= pmra, pm_dec= pmdec)"
   ]
  },
  {
   "cell_type": "code",
   "execution_count": 12,
   "metadata": {},
   "outputs": [
    {
     "data": {
      "image/png": "[encoded data removed]",
      "text/plain": [
       "<Figure size 460.8x345.6 with 1 Axes>"
      ]
     },
     "metadata": {
      "needs_background": "light"
     },
     "output_type": "display_data"
    }
   ],
   "source": [
    "fig = plt.figure(figsize=(6.4, 4.8))\n",
    "ax1 = fig.add_subplot()\n",
    "\n",
    "x = np.linspace(psr.ra.to_value(u.mas), psr_dr3.ra.to_value(u.mas) + 10, 10)\n",
    "\n",
    "ax1.errorbar(psr.ra.to_value(u.mas), psr.dec.to_value(u.mas), yerr= dec_err.to_value(u.mas), xerr= ra_err.to_value(u.mas), fmt= 'o', label= 'ATNF position')\n",
    "ax1.quiver(psr.ra.to_value(u.mas), psr.dec.to_value(u.mas), prop3ra.value, prop3dec.value, color= 'red', scale = 1, scale_units= 'xy', angles= 'xy')\n",
    "#ax1.fill_between(x, y1(x), y2(x), alpha = 0.3, color= 'r')\n",
    "ax1.errorbar(psr_dr3.ra.to_value(u.mas), psr_dr3.dec.to_value(u.mas), yerr= prop_dec_err_dr3.value, xerr= prop_ra_err_dr3.value, fmt= 'go', ecolor= 'green', label= 'Gaia DR3 Epoch position')\n",
    "#ax.axis([psr.ra.to_value(u.mas)-20, psr.ra.to_value(u.mas) + prop3ra.value + 20, psr.dec.to_value(u.mas) - 20, psr.dec.to_value(u.mas) + prop3dec.value+20])\n",
    "ax1.legend()\n",
    "ax1.set_title('PSR J0437-4715 Position Translation', pad= 15)\n",
    "ax1.set_xlabel(r'$\\alpha$ (mas)')\n",
    "ax1.set_ylabel(r'$\\delta$ (mas)')\n",
    "\n",
    "fig.tight_layout()"
   ]
  },
  {
   "attachments": {},
   "cell_type": "markdown",
   "metadata": {},
   "source": [
    "Optional feature: add a fill between that shows the full region that that the proper motion starts to take up with the errors included"
   ]
  },
  {
   "cell_type": "code",
   "execution_count": null,
   "metadata": {},
   "outputs": [],
   "source": [
    "# define extremes of pm differences:\n",
    "pm_minus_dec_err = psr.pm_dec - pmdec_err - dec_err.to(u.mas)/u.yr\n",
    "pm_plus_dec_err = psr.pm_dec + pmdec_err + dec_err.to(u.mas)/u.yr\n",
    "pm_minus_ra_err = psr.pm_ra_cosdec - pmra_err - ra_err.to(u.mas)/u.yr\n",
    "pm_plus_ra_err = psr.pm_ra_cosdec + pmra_err + ra_err.to(u.mas)/u.yr\n",
    "\n",
    "new_m1 = (psr_dr3.dec.to(u.mas) - (pmdec_err * epoch_diff_dr3) - dec_err.to(u.mas) - psr.dec.to(u.mas)).value/(psr_dr3.ra.to(u.mas) + (pmra_err * epoch_diff_dr3) + ra_err.to(u.mas) - psr.ra.to(u.mas)).value\n",
    "new_m2 = (psr_dr3.dec.to(u.mas) + (pmdec_err * epoch_diff_dr3) + dec_err.to(u.mas) - psr.dec.to(u.mas)).value/(psr_dr3.ra.to(u.mas) - (pmra_err * epoch_diff_dr3) - ra_err.to(u.mas) - psr.ra.to(u.mas)).value\n",
    "new_b1 = psr.dec.to_value(u.mas) - new_m1*psr.ra.to_value(u.mas)\n",
    "new_b2 = psr.dec.to_value(u.mas) - new_m2*psr.ra.to_value(u.mas)\n",
    "\n",
    "# define the functions that will be filled between\n",
    "#y1 and y2 define new proper motions that include the pm and pos errors\n",
    "def y1(x):\n",
    "    return (psr.dec.to_value(u.mas) - (pm_plus_dec_err / pm_minus_ra_err) * psr.ra.to_value(u.mas)) + (pm_plus_dec_err / pm_minus_ra_err) * x\n",
    "\n",
    "def y2(x):\n",
    "    return (psr.dec.to_value(u.mas) - (pm_minus_dec_err / pm_plus_ra_err) * psr.ra.to_value(u.mas)) + (pm_minus_dec_err / pm_plus_ra_err) * x\n",
    "# pm y1 and pm y2 only propagates pm error\n",
    "def pm_y1(x):\n",
    "    return new_m1*x + new_b1\n",
    "\n",
    "def pm_y2(x):\n",
    "    return new_m2*x + new_b2\n"
   ]
  }
 ],
 "metadata": {
  "kernelspec": {
   "display_name": "Python 3.10.4 ('codeastro')",
   "language": "python",
   "name": "python3"
  },
  "language_info": {
   "codemirror_mode": {
    "name": "ipython",
    "version": 3
   },
   "file_extension": ".py",
   "mimetype": "text/x-python",
   "name": "python",
   "nbconvert_exporter": "python",
   "pygments_lexer": "ipython3",
   "version": "3.10.4"
  },
  "orig_nbformat": 4,
  "vscode": {
   "interpreter": {
    "hash": "f6ff9a58d1da4fc1c2a573e19773b576326b71fae69bf153c6887fe609598654"
   }
  }
 },
 "nbformat": 4,
 "nbformat_minor": 2
}
